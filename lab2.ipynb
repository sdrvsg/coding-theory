{
  "nbformat": 4,
  "nbformat_minor": 0,
  "metadata": {
    "colab": {
      "provenance": []
    },
    "kernelspec": {
      "name": "python3",
      "display_name": "Python 3"
    },
    "language_info": {
      "name": "python"
    }
  },
  "cells": [
    {
      "cell_type": "code",
      "execution_count": 12,
      "metadata": {
        "id": "jZa9I4aRPAUm"
      },
      "outputs": [],
      "source": [
        "import numpy as np\n",
        "import itertools as iter"
      ]
    },
    {
      "cell_type": "markdown",
      "source": [
        "# Часть 1."
      ],
      "metadata": {
        "id": "kDLP5UafQWID"
      }
    },
    {
      "cell_type": "code",
      "source": [
        "# Начальная матрица\n",
        "S = np.array([\n",
        "    [1, 0, 0, 1, 0, 1, 1],\n",
        "    [1, 1, 0, 0, 0, 0, 1],\n",
        "    [0, 0, 1, 1, 0, 0, 1],\n",
        "    [1, 0, 1, 0, 1, 0, 1],\n",
        "    [0, 0, 1, 1, 1, 1, 0]\n",
        "])"
      ],
      "metadata": {
        "id": "3wOLmHpvQwpO"
      },
      "execution_count": 13,
      "outputs": []
    },
    {
      "cell_type": "markdown",
      "source": [
        "## Сформировать порождающую матрицу линейного кода (7, 4, 3)."
      ],
      "metadata": {
        "id": "wMw-nYuwQaI1"
      }
    },
    {
      "cell_type": "code",
      "source": [
        "# Выполняет операцию XOR\n",
        "def elements_row_xor(row1, row2, k):\n",
        "    for i in range(k, len(row1)):\n",
        "        row2[i] ^= row1[i]\n",
        "\n",
        "\n",
        "# Приводит матрицу к верхнетреугольной форме\n",
        "def ref(matrix):\n",
        "    k = -1\n",
        "    num_rows = len(matrix)\n",
        "    num_cols = len(matrix[0])\n",
        "\n",
        "    for j in range(num_cols):\n",
        "        found_pivot = False\n",
        "        for i in range(k + 1, num_rows):\n",
        "            if matrix[i][j] == 1:\n",
        "                if not found_pivot:\n",
        "                    k += 1\n",
        "                    matrix[k], matrix[i] = matrix[i], matrix[k]\n",
        "                    found_pivot = True\n",
        "                else:\n",
        "                    elements_row_xor(matrix[k], matrix[i], j)\n",
        "\n",
        "    return matrix[:k+1]\n",
        "\n",
        "\n",
        "# Приводит матрицу к сокращённой ступенчатой форме\n",
        "def new_rref(matrix, k):\n",
        "    row = 0\n",
        "    col = 0\n",
        "    num_cols = len(matrix[0])\n",
        "\n",
        "    while row < k and col < num_cols:\n",
        "        if matrix[row][col] == 1:\n",
        "            for i in range(row):\n",
        "                if matrix[i][col] == 1:\n",
        "                    elements_row_xor(matrix[row], matrix[i], col)\n",
        "\n",
        "            if col != row:\n",
        "                matrix[:, row], matrix[:, col] = matrix[:, col].copy(), matrix[:, row].copy()\n",
        "\n",
        "            row += 1\n",
        "        col += 1\n",
        "\n",
        "    return matrix"
      ],
      "metadata": {
        "id": "37HND7mMStSp"
      },
      "execution_count": 14,
      "outputs": []
    },
    {
      "cell_type": "code",
      "source": [
        "G = ref(S.copy())\n",
        "k = len(G)\n",
        "n = len(G[0])\n",
        "\n",
        "# Приведенная матрица в ступенчатом виде\n",
        "G = new_rref(G.copy(), k)\n",
        "G"
      ],
      "metadata": {
        "colab": {
          "base_uri": "https://localhost:8080/"
        },
        "id": "F2t8yptqPDb7",
        "outputId": "d2baccbc-de08-4914-c7b4-73912ed9274f"
      },
      "execution_count": 15,
      "outputs": [
        {
          "output_type": "execute_result",
          "data": {
            "text/plain": [
              "array([[1, 0, 0, 0, 1, 1, 1],\n",
              "       [0, 1, 0, 0, 1, 1, 0],\n",
              "       [0, 0, 1, 0, 1, 0, 1],\n",
              "       [0, 0, 0, 1, 0, 1, 1]])"
            ]
          },
          "metadata": {},
          "execution_count": 15
        }
      ]
    },
    {
      "cell_type": "code",
      "source": [
        "n, k"
      ],
      "metadata": {
        "colab": {
          "base_uri": "https://localhost:8080/"
        },
        "id": "eUCIIch8Rp2G",
        "outputId": "740a1e93-4425-4d82-d568-22770096861e"
      },
      "execution_count": 16,
      "outputs": [
        {
          "output_type": "execute_result",
          "data": {
            "text/plain": [
              "(7, 4)"
            ]
          },
          "metadata": {},
          "execution_count": 16
        }
      ]
    },
    {
      "cell_type": "code",
      "source": [
        "X = G[:,k:].copy()\n",
        "X"
      ],
      "metadata": {
        "colab": {
          "base_uri": "https://localhost:8080/"
        },
        "id": "_Uu__G1sRr6_",
        "outputId": "4e0f4c37-f3e5-4487-cf52-8e6f5adf2ff9"
      },
      "execution_count": 17,
      "outputs": [
        {
          "output_type": "execute_result",
          "data": {
            "text/plain": [
              "array([[1, 1, 1],\n",
              "       [1, 1, 0],\n",
              "       [1, 0, 1],\n",
              "       [0, 1, 1]])"
            ]
          },
          "metadata": {},
          "execution_count": 17
        }
      ]
    },
    {
      "cell_type": "markdown",
      "source": [
        "## Сформировать проверочную матрицу на основе порождающей."
      ],
      "metadata": {
        "id": "AQb0B6liRv7J"
      }
    },
    {
      "cell_type": "code",
      "source": [
        "# Создает проверочную матрицу\n",
        "def createH(X, n, k):\n",
        "    H = np.zeros((n, n - k), dtype=int)\n",
        "\n",
        "    H[:k, :] = X.copy()\n",
        "    H[k:, :] = np.eye(n - k, dtype=int)\n",
        "\n",
        "    return H"
      ],
      "metadata": {
        "id": "uvfOOigHSncP"
      },
      "execution_count": 18,
      "outputs": []
    },
    {
      "cell_type": "code",
      "source": [
        "# Проверочная матрица\n",
        "H = createH(X.copy(), n, k)\n",
        "H"
      ],
      "metadata": {
        "colab": {
          "base_uri": "https://localhost:8080/"
        },
        "id": "VQ82hlrkRyxk",
        "outputId": "2130eb88-8d08-47b4-e338-b923ffc4f1d4"
      },
      "execution_count": 19,
      "outputs": [
        {
          "output_type": "execute_result",
          "data": {
            "text/plain": [
              "array([[1, 1, 1],\n",
              "       [1, 1, 0],\n",
              "       [1, 0, 1],\n",
              "       [0, 1, 1],\n",
              "       [1, 0, 0],\n",
              "       [0, 1, 0],\n",
              "       [0, 0, 1]])"
            ]
          },
          "metadata": {},
          "execution_count": 19
        }
      ]
    },
    {
      "cell_type": "markdown",
      "source": [
        "## Сформировать таблицу синдромов для всех однократных ошибок."
      ],
      "metadata": {
        "id": "_r65-jQ5SNuQ"
      }
    },
    {
      "cell_type": "code",
      "source": [
        "# Создаёт таблицу синдромов\n",
        "def create_syndrome_table(H, err_count):\n",
        "    n = len(H)\n",
        "    one_err = np.eye(n, dtype=int)\n",
        "    syndrome_table = {str(H[i]): one_err[i] for i in range(n)}\n",
        "\n",
        "    for num in range(2, err_count + 1):\n",
        "        syndrome_combinations = np.array(list(iter.combinations(H, num)))\n",
        "        error_combinations = np.array(list(iter.combinations(one_err, num)))\n",
        "\n",
        "        syndrome_arr = [np.mod(np.sum(arr, axis=0), 2) for arr in syndrome_combinations]\n",
        "        err_arr = [np.sum(arr, axis=0) for arr in error_combinations]\n",
        "\n",
        "        for i in range(len(syndrome_arr)):\n",
        "            syndrome_table[str(syndrome_arr[i])] = err_arr[i]\n",
        "\n",
        "    return syndrome_table"
      ],
      "metadata": {
        "id": "tCT55vRhSjue"
      },
      "execution_count": 20,
      "outputs": []
    },
    {
      "cell_type": "code",
      "source": [
        "syndrome_table = create_syndrome_table(H.copy(), err_count=1)\n",
        "syndrome_table"
      ],
      "metadata": {
        "colab": {
          "base_uri": "https://localhost:8080/"
        },
        "id": "UYs6ITgWSWcR",
        "outputId": "0508347d-7f61-4710-ef55-663bc780c659"
      },
      "execution_count": 21,
      "outputs": [
        {
          "output_type": "execute_result",
          "data": {
            "text/plain": [
              "{'[1 1 1]': array([1, 0, 0, 0, 0, 0, 0]),\n",
              " '[1 1 0]': array([0, 1, 0, 0, 0, 0, 0]),\n",
              " '[1 0 1]': array([0, 0, 1, 0, 0, 0, 0]),\n",
              " '[0 1 1]': array([0, 0, 0, 1, 0, 0, 0]),\n",
              " '[1 0 0]': array([0, 0, 0, 0, 1, 0, 0]),\n",
              " '[0 1 0]': array([0, 0, 0, 0, 0, 1, 0]),\n",
              " '[0 0 1]': array([0, 0, 0, 0, 0, 0, 1])}"
            ]
          },
          "metadata": {},
          "execution_count": 21
        }
      ]
    },
    {
      "cell_type": "markdown",
      "source": [
        "## Сформировать кодовое слово длины n из слова длины k."
      ],
      "metadata": {
        "id": "M1ZBelL2TGVw"
      }
    },
    {
      "cell_type": "code",
      "source": [
        "word = np.array([1, 0, 0, 1])\n",
        "code_word = np.dot(word, G) % 2\n",
        "code_word"
      ],
      "metadata": {
        "colab": {
          "base_uri": "https://localhost:8080/"
        },
        "id": "gNDCr_i9TKnP",
        "outputId": "6120f97e-ec63-4eb0-ebaf-1bdf8414c152"
      },
      "execution_count": 22,
      "outputs": [
        {
          "data": {
            "text/plain": [
              "array([1, 0, 0, 1, 1, 0, 0])"
            ]
          },
          "execution_count": 22,
          "metadata": {},
          "output_type": "execute_result"
        }
      ]
    },
    {
      "cell_type": "markdown",
      "source": [
        "## Внести однократную ошибку в сформированное слово."
      ],
      "metadata": {
        "id": "HZs9wuUVTS23"
      }
    },
    {
      "cell_type": "code",
      "source": [
        "err = np.array([0, 1, 0, 0, 0, 0, 0])\n",
        "receive_code_word = code_word ^ err\n",
        "receive_code_word"
      ],
      "metadata": {
        "colab": {
          "base_uri": "https://localhost:8080/"
        },
        "id": "fQj28Wg9TWe5",
        "outputId": "c57165ff-4b03-4fc0-d3ac-75300e2adfcb"
      },
      "execution_count": 23,
      "outputs": [
        {
          "output_type": "execute_result",
          "data": {
            "text/plain": [
              "array([1, 1, 0, 1, 1, 0, 0])"
            ]
          },
          "metadata": {},
          "execution_count": 23
        }
      ]
    },
    {
      "cell_type": "markdown",
      "source": [
        "## Вычислить синдром, исправить ошибку с использованием таблицы синдромов."
      ],
      "metadata": {
        "id": "3ZEOWV3-TY9-"
      }
    },
    {
      "cell_type": "code",
      "source": [
        "syndrome = np.dot(receive_code_word, H) % 2\n",
        "syndrome"
      ],
      "metadata": {
        "colab": {
          "base_uri": "https://localhost:8080/"
        },
        "id": "HuqwK57-TdMB",
        "outputId": "2df70ba3-e04e-4e02-a1e4-f9780c236980"
      },
      "execution_count": 24,
      "outputs": [
        {
          "output_type": "execute_result",
          "data": {
            "text/plain": [
              "array([1, 1, 0])"
            ]
          },
          "metadata": {},
          "execution_count": 24
        }
      ]
    },
    {
      "cell_type": "code",
      "source": [
        "if not np.array_equal(syndrome, np.zeros(n, dtype=int)):\n",
        "    receive_code_word ^= syndrome_table[syndrome.__str__()]\n",
        "receive_code_word"
      ],
      "metadata": {
        "colab": {
          "base_uri": "https://localhost:8080/"
        },
        "id": "qzGipngHTiHN",
        "outputId": "f9d91735-5840-4e5c-a2dd-3f98b1f9a2f9"
      },
      "execution_count": 25,
      "outputs": [
        {
          "output_type": "execute_result",
          "data": {
            "text/plain": [
              "array([1, 0, 0, 1, 1, 0, 0])"
            ]
          },
          "metadata": {},
          "execution_count": 25
        }
      ]
    },
    {
      "cell_type": "markdown",
      "source": [
        "## Убедиться в правильности полученного слова."
      ],
      "metadata": {
        "id": "mcgoCuyFTlpD"
      }
    },
    {
      "cell_type": "code",
      "source": [
        "decoded_word = receive_code_word[:k]\n",
        "decoded_word"
      ],
      "metadata": {
        "colab": {
          "base_uri": "https://localhost:8080/"
        },
        "id": "RxJg9MWfTneb",
        "outputId": "c8dbcaa7-7fbb-4bf2-8e8a-2cb89dac6f5a"
      },
      "execution_count": 26,
      "outputs": [
        {
          "output_type": "execute_result",
          "data": {
            "text/plain": [
              "array([1, 0, 0, 1])"
            ]
          },
          "metadata": {},
          "execution_count": 26
        }
      ]
    },
    {
      "cell_type": "code",
      "source": [
        "np.array_equal(word, decoded_word)"
      ],
      "metadata": {
        "colab": {
          "base_uri": "https://localhost:8080/"
        },
        "id": "-UDOSBPKTp0U",
        "outputId": "bb0931b0-1141-4f75-e873-c430d8e08921"
      },
      "execution_count": 27,
      "outputs": [
        {
          "output_type": "execute_result",
          "data": {
            "text/plain": [
              "True"
            ]
          },
          "metadata": {},
          "execution_count": 27
        }
      ]
    },
    {
      "cell_type": "markdown",
      "source": [
        "## Сформировать кодовое слово длины n из слова длины k."
      ],
      "metadata": {
        "id": "CSy0-7wDTu9v"
      }
    },
    {
      "cell_type": "code",
      "source": [
        "word = np.array([0, 1, 1, 1])\n",
        "code_word = np.dot(word, G) % 2\n",
        "code_word"
      ],
      "metadata": {
        "colab": {
          "base_uri": "https://localhost:8080/"
        },
        "id": "Rmcp0KYzTw_X",
        "outputId": "e2afbbd9-893b-41b4-e833-f9e2b5718a54"
      },
      "execution_count": 28,
      "outputs": [
        {
          "output_type": "execute_result",
          "data": {
            "text/plain": [
              "array([0, 1, 1, 1, 0, 0, 0])"
            ]
          },
          "metadata": {},
          "execution_count": 28
        }
      ]
    },
    {
      "cell_type": "markdown",
      "source": [
        "## Внести двукратную ошибку в сформированное слово."
      ],
      "metadata": {
        "id": "f8yUkhe8T0mN"
      }
    },
    {
      "cell_type": "code",
      "source": [
        "err = np.array([0, 1, 0, 0, 0, 1, 0])\n",
        "receive_code_word = code_word ^ err\n",
        "receive_code_word"
      ],
      "metadata": {
        "colab": {
          "base_uri": "https://localhost:8080/"
        },
        "id": "qohTvFpyT1zq",
        "outputId": "4bc242cb-5145-433e-d8fc-d1b0b9774e7f"
      },
      "execution_count": 29,
      "outputs": [
        {
          "output_type": "execute_result",
          "data": {
            "text/plain": [
              "array([0, 0, 1, 1, 0, 1, 0])"
            ]
          },
          "metadata": {},
          "execution_count": 29
        }
      ]
    },
    {
      "cell_type": "markdown",
      "source": [
        "## Вычислить синдром, исправить ошибку с использованием таблицы синдромов."
      ],
      "metadata": {
        "id": "J4y4DDApT3I3"
      }
    },
    {
      "cell_type": "code",
      "source": [
        "syndrome = np.dot(receive_code_word, H) % 2\n",
        "syndrome"
      ],
      "metadata": {
        "colab": {
          "base_uri": "https://localhost:8080/"
        },
        "id": "ISdhoWH1T5Rq",
        "outputId": "d1c086eb-1d10-49e4-c1c7-8c4c91f0fc07"
      },
      "execution_count": 30,
      "outputs": [
        {
          "output_type": "execute_result",
          "data": {
            "text/plain": [
              "array([1, 0, 0])"
            ]
          },
          "metadata": {},
          "execution_count": 30
        }
      ]
    },
    {
      "cell_type": "code",
      "source": [
        "if not np.array_equal(syndrome, np.zeros(n, dtype=int)):\n",
        "    receive_code_word ^= syndrome_table[syndrome.__str__()]\n",
        "receive_code_word"
      ],
      "metadata": {
        "colab": {
          "base_uri": "https://localhost:8080/"
        },
        "id": "3OIGKQaAT8sT",
        "outputId": "cdf3ceaf-ae47-4e9d-dd21-8499ed24d41d"
      },
      "execution_count": 31,
      "outputs": [
        {
          "output_type": "execute_result",
          "data": {
            "text/plain": [
              "array([0, 0, 1, 1, 1, 1, 0])"
            ]
          },
          "metadata": {},
          "execution_count": 31
        }
      ]
    },
    {
      "cell_type": "markdown",
      "source": [
        "## Убедиться, что полученное слово отличается от отправленного."
      ],
      "metadata": {
        "id": "ecDrak2xT7XK"
      }
    },
    {
      "cell_type": "code",
      "source": [
        "decoded_word = receive_code_word[:k]\n",
        "decoded_word"
      ],
      "metadata": {
        "colab": {
          "base_uri": "https://localhost:8080/"
        },
        "id": "9Y-_KYhHUBhE",
        "outputId": "5c6e3e74-7dd0-4e1d-909a-466564a7b5bf"
      },
      "execution_count": 32,
      "outputs": [
        {
          "output_type": "execute_result",
          "data": {
            "text/plain": [
              "array([0, 0, 1, 1])"
            ]
          },
          "metadata": {},
          "execution_count": 32
        }
      ]
    },
    {
      "cell_type": "code",
      "source": [
        "np.array_equal(word, decoded_word)"
      ],
      "metadata": {
        "colab": {
          "base_uri": "https://localhost:8080/"
        },
        "id": "hriuroaXUC-v",
        "outputId": "8e2855fa-dcdc-485d-a31a-25bc249d145d"
      },
      "execution_count": 33,
      "outputs": [
        {
          "output_type": "execute_result",
          "data": {
            "text/plain": [
              "False"
            ]
          },
          "metadata": {},
          "execution_count": 33
        }
      ]
    },
    {
      "cell_type": "markdown",
      "source": [
        "# Часть 2."
      ],
      "metadata": {
        "id": "QBK4puutUGLh"
      }
    },
    {
      "cell_type": "markdown",
      "source": [
        "# Сформировать порождающую матрицу линейного кода (n, k, 5)."
      ],
      "metadata": {
        "id": "OFHw919DUKKJ"
      }
    },
    {
      "cell_type": "code",
      "source": [
        "k, n = 5, 13\n",
        "X = np.array([\n",
        "    [1, 1, 1, 1, 1, 0, 0, 1],\n",
        "    [1, 1, 0, 0, 0, 1, 1, 1],\n",
        "    [1, 0, 1, 1, 0, 1, 0, 1],\n",
        "    [0, 1, 1, 0, 1, 0, 1, 1],\n",
        "    [0, 0, 0, 1, 1, 1, 1, 1]\n",
        "])\n",
        "G = np.zeros((k,n), dtype=int)\n",
        "G[:,:k] = np.eye(k, dtype=int)\n",
        "G[:, k:] = X.copy()\n",
        "G"
      ],
      "metadata": {
        "colab": {
          "base_uri": "https://localhost:8080/"
        },
        "id": "9jI8bA5EUMee",
        "outputId": "90870621-3933-402f-e2c4-3f11993e50b5"
      },
      "execution_count": 34,
      "outputs": [
        {
          "output_type": "execute_result",
          "data": {
            "text/plain": [
              "array([[1, 0, 0, 0, 0, 1, 1, 1, 1, 1, 0, 0, 1],\n",
              "       [0, 1, 0, 0, 0, 1, 1, 0, 0, 0, 1, 1, 1],\n",
              "       [0, 0, 1, 0, 0, 1, 0, 1, 1, 0, 1, 0, 1],\n",
              "       [0, 0, 0, 1, 0, 0, 1, 1, 0, 1, 0, 1, 1],\n",
              "       [0, 0, 0, 0, 1, 0, 0, 0, 1, 1, 1, 1, 1]])"
            ]
          },
          "metadata": {},
          "execution_count": 34
        }
      ]
    },
    {
      "cell_type": "markdown",
      "source": [
        "# Сформировать проверочную матрицу на основе порождающей."
      ],
      "metadata": {
        "id": "LyWEyz3VUP8K"
      }
    },
    {
      "cell_type": "code",
      "source": [
        "H = np.zeros((n, n-k), dtype=int)\n",
        "H[:k, :] = X.copy()\n",
        "H[k:, :] = np.eye(n-k, dtype=int)\n",
        "H"
      ],
      "metadata": {
        "colab": {
          "base_uri": "https://localhost:8080/"
        },
        "id": "gd-xfSsVUQuX",
        "outputId": "8785c65e-1243-42b9-9e84-748f975c3e9d"
      },
      "execution_count": 35,
      "outputs": [
        {
          "output_type": "execute_result",
          "data": {
            "text/plain": [
              "array([[1, 1, 1, 1, 1, 0, 0, 1],\n",
              "       [1, 1, 0, 0, 0, 1, 1, 1],\n",
              "       [1, 0, 1, 1, 0, 1, 0, 1],\n",
              "       [0, 1, 1, 0, 1, 0, 1, 1],\n",
              "       [0, 0, 0, 1, 1, 1, 1, 1],\n",
              "       [1, 0, 0, 0, 0, 0, 0, 0],\n",
              "       [0, 1, 0, 0, 0, 0, 0, 0],\n",
              "       [0, 0, 1, 0, 0, 0, 0, 0],\n",
              "       [0, 0, 0, 1, 0, 0, 0, 0],\n",
              "       [0, 0, 0, 0, 1, 0, 0, 0],\n",
              "       [0, 0, 0, 0, 0, 1, 0, 0],\n",
              "       [0, 0, 0, 0, 0, 0, 1, 0],\n",
              "       [0, 0, 0, 0, 0, 0, 0, 1]])"
            ]
          },
          "metadata": {},
          "execution_count": 35
        }
      ]
    },
    {
      "cell_type": "markdown",
      "source": [
        "#  Сформировать таблицу синдромов для всех однократных и двукратных ошибок."
      ],
      "metadata": {
        "id": "4eww4r1nUWrk"
      }
    },
    {
      "cell_type": "code",
      "source": [
        "syndrome_table = create_syndrome_table(H.copy(), err_count=2)\n",
        "syndrome_table"
      ],
      "metadata": {
        "colab": {
          "base_uri": "https://localhost:8080/"
        },
        "id": "ML8yksB-UYLt",
        "outputId": "51f0aa00-fdb0-4cb6-e2e6-76691d1d2013"
      },
      "execution_count": 36,
      "outputs": [
        {
          "output_type": "execute_result",
          "data": {
            "text/plain": [
              "{'[1 1 1 1 1 0 0 1]': array([1, 0, 0, 0, 0, 0, 0, 0, 0, 0, 0, 0, 0]),\n",
              " '[1 1 0 0 0 1 1 1]': array([0, 1, 0, 0, 0, 0, 0, 0, 0, 0, 0, 0, 0]),\n",
              " '[1 0 1 1 0 1 0 1]': array([0, 0, 1, 0, 0, 0, 0, 0, 0, 0, 0, 0, 0]),\n",
              " '[0 1 1 0 1 0 1 1]': array([0, 0, 0, 1, 0, 0, 0, 0, 0, 0, 0, 0, 0]),\n",
              " '[0 0 0 1 1 1 1 1]': array([0, 0, 0, 0, 1, 0, 0, 0, 0, 0, 0, 0, 0]),\n",
              " '[1 0 0 0 0 0 0 0]': array([0, 0, 0, 0, 0, 1, 0, 0, 0, 0, 0, 0, 0]),\n",
              " '[0 1 0 0 0 0 0 0]': array([0, 0, 0, 0, 0, 0, 1, 0, 0, 0, 0, 0, 0]),\n",
              " '[0 0 1 0 0 0 0 0]': array([0, 0, 0, 0, 0, 0, 0, 1, 0, 0, 0, 0, 0]),\n",
              " '[0 0 0 1 0 0 0 0]': array([0, 0, 0, 0, 0, 0, 0, 0, 1, 0, 0, 0, 0]),\n",
              " '[0 0 0 0 1 0 0 0]': array([0, 0, 0, 0, 0, 0, 0, 0, 0, 1, 0, 0, 0]),\n",
              " '[0 0 0 0 0 1 0 0]': array([0, 0, 0, 0, 0, 0, 0, 0, 0, 0, 1, 0, 0]),\n",
              " '[0 0 0 0 0 0 1 0]': array([0, 0, 0, 0, 0, 0, 0, 0, 0, 0, 0, 1, 0]),\n",
              " '[0 0 0 0 0 0 0 1]': array([0, 0, 0, 0, 0, 0, 0, 0, 0, 0, 0, 0, 1]),\n",
              " '[0 0 1 1 1 1 1 0]': array([1, 1, 0, 0, 0, 0, 0, 0, 0, 0, 0, 0, 0]),\n",
              " '[0 1 0 0 1 1 0 0]': array([1, 0, 1, 0, 0, 0, 0, 0, 0, 0, 0, 0, 0]),\n",
              " '[1 0 0 1 0 0 1 0]': array([1, 0, 0, 1, 0, 0, 0, 0, 0, 0, 0, 0, 0]),\n",
              " '[1 1 1 0 0 1 1 0]': array([1, 0, 0, 0, 1, 0, 0, 0, 0, 0, 0, 0, 0]),\n",
              " '[0 1 1 1 1 0 0 1]': array([1, 0, 0, 0, 0, 1, 0, 0, 0, 0, 0, 0, 0]),\n",
              " '[1 0 1 1 1 0 0 1]': array([1, 0, 0, 0, 0, 0, 1, 0, 0, 0, 0, 0, 0]),\n",
              " '[1 1 0 1 1 0 0 1]': array([1, 0, 0, 0, 0, 0, 0, 1, 0, 0, 0, 0, 0]),\n",
              " '[1 1 1 0 1 0 0 1]': array([1, 0, 0, 0, 0, 0, 0, 0, 1, 0, 0, 0, 0]),\n",
              " '[1 1 1 1 0 0 0 1]': array([1, 0, 0, 0, 0, 0, 0, 0, 0, 1, 0, 0, 0]),\n",
              " '[1 1 1 1 1 1 0 1]': array([1, 0, 0, 0, 0, 0, 0, 0, 0, 0, 1, 0, 0]),\n",
              " '[1 1 1 1 1 0 1 1]': array([1, 0, 0, 0, 0, 0, 0, 0, 0, 0, 0, 1, 0]),\n",
              " '[1 1 1 1 1 0 0 0]': array([1, 0, 0, 0, 0, 0, 0, 0, 0, 0, 0, 0, 1]),\n",
              " '[0 1 1 1 0 0 1 0]': array([0, 1, 1, 0, 0, 0, 0, 0, 0, 0, 0, 0, 0]),\n",
              " '[1 0 1 0 1 1 0 0]': array([0, 1, 0, 1, 0, 0, 0, 0, 0, 0, 0, 0, 0]),\n",
              " '[1 1 0 1 1 0 0 0]': array([0, 1, 0, 0, 1, 0, 0, 0, 0, 0, 0, 0, 0]),\n",
              " '[0 1 0 0 0 1 1 1]': array([0, 1, 0, 0, 0, 1, 0, 0, 0, 0, 0, 0, 0]),\n",
              " '[1 0 0 0 0 1 1 1]': array([0, 1, 0, 0, 0, 0, 1, 0, 0, 0, 0, 0, 0]),\n",
              " '[1 1 1 0 0 1 1 1]': array([0, 1, 0, 0, 0, 0, 0, 1, 0, 0, 0, 0, 0]),\n",
              " '[1 1 0 1 0 1 1 1]': array([0, 1, 0, 0, 0, 0, 0, 0, 1, 0, 0, 0, 0]),\n",
              " '[1 1 0 0 1 1 1 1]': array([0, 1, 0, 0, 0, 0, 0, 0, 0, 1, 0, 0, 0]),\n",
              " '[1 1 0 0 0 0 1 1]': array([0, 1, 0, 0, 0, 0, 0, 0, 0, 0, 1, 0, 0]),\n",
              " '[1 1 0 0 0 1 0 1]': array([0, 1, 0, 0, 0, 0, 0, 0, 0, 0, 0, 1, 0]),\n",
              " '[1 1 0 0 0 1 1 0]': array([0, 1, 0, 0, 0, 0, 0, 0, 0, 0, 0, 0, 1]),\n",
              " '[1 1 0 1 1 1 1 0]': array([0, 0, 1, 1, 0, 0, 0, 0, 0, 0, 0, 0, 0]),\n",
              " '[1 0 1 0 1 0 1 0]': array([0, 0, 1, 0, 1, 0, 0, 0, 0, 0, 0, 0, 0]),\n",
              " '[0 0 1 1 0 1 0 1]': array([0, 0, 1, 0, 0, 1, 0, 0, 0, 0, 0, 0, 0]),\n",
              " '[1 1 1 1 0 1 0 1]': array([0, 0, 1, 0, 0, 0, 1, 0, 0, 0, 0, 0, 0]),\n",
              " '[1 0 0 1 0 1 0 1]': array([0, 0, 1, 0, 0, 0, 0, 1, 0, 0, 0, 0, 0]),\n",
              " '[1 0 1 0 0 1 0 1]': array([0, 0, 1, 0, 0, 0, 0, 0, 1, 0, 0, 0, 0]),\n",
              " '[1 0 1 1 1 1 0 1]': array([0, 0, 1, 0, 0, 0, 0, 0, 0, 1, 0, 0, 0]),\n",
              " '[1 0 1 1 0 0 0 1]': array([0, 0, 1, 0, 0, 0, 0, 0, 0, 0, 1, 0, 0]),\n",
              " '[1 0 1 1 0 1 1 1]': array([0, 0, 1, 0, 0, 0, 0, 0, 0, 0, 0, 1, 0]),\n",
              " '[1 0 1 1 0 1 0 0]': array([0, 0, 1, 0, 0, 0, 0, 0, 0, 0, 0, 0, 1]),\n",
              " '[0 1 1 1 0 1 0 0]': array([0, 0, 0, 1, 1, 0, 0, 0, 0, 0, 0, 0, 0]),\n",
              " '[1 1 1 0 1 0 1 1]': array([0, 0, 0, 1, 0, 1, 0, 0, 0, 0, 0, 0, 0]),\n",
              " '[0 0 1 0 1 0 1 1]': array([0, 0, 0, 1, 0, 0, 1, 0, 0, 0, 0, 0, 0]),\n",
              " '[0 1 0 0 1 0 1 1]': array([0, 0, 0, 1, 0, 0, 0, 1, 0, 0, 0, 0, 0]),\n",
              " '[0 1 1 1 1 0 1 1]': array([0, 0, 0, 1, 0, 0, 0, 0, 1, 0, 0, 0, 0]),\n",
              " '[0 1 1 0 0 0 1 1]': array([0, 0, 0, 1, 0, 0, 0, 0, 0, 1, 0, 0, 0]),\n",
              " '[0 1 1 0 1 1 1 1]': array([0, 0, 0, 1, 0, 0, 0, 0, 0, 0, 1, 0, 0]),\n",
              " '[0 1 1 0 1 0 0 1]': array([0, 0, 0, 1, 0, 0, 0, 0, 0, 0, 0, 1, 0]),\n",
              " '[0 1 1 0 1 0 1 0]': array([0, 0, 0, 1, 0, 0, 0, 0, 0, 0, 0, 0, 1]),\n",
              " '[1 0 0 1 1 1 1 1]': array([0, 0, 0, 0, 1, 1, 0, 0, 0, 0, 0, 0, 0]),\n",
              " '[0 1 0 1 1 1 1 1]': array([0, 0, 0, 0, 1, 0, 1, 0, 0, 0, 0, 0, 0]),\n",
              " '[0 0 1 1 1 1 1 1]': array([0, 0, 0, 0, 1, 0, 0, 1, 0, 0, 0, 0, 0]),\n",
              " '[0 0 0 0 1 1 1 1]': array([0, 0, 0, 0, 1, 0, 0, 0, 1, 0, 0, 0, 0]),\n",
              " '[0 0 0 1 0 1 1 1]': array([0, 0, 0, 0, 1, 0, 0, 0, 0, 1, 0, 0, 0]),\n",
              " '[0 0 0 1 1 0 1 1]': array([0, 0, 0, 0, 1, 0, 0, 0, 0, 0, 1, 0, 0]),\n",
              " '[0 0 0 1 1 1 0 1]': array([0, 0, 0, 0, 1, 0, 0, 0, 0, 0, 0, 1, 0]),\n",
              " '[0 0 0 1 1 1 1 0]': array([0, 0, 0, 0, 1, 0, 0, 0, 0, 0, 0, 0, 1]),\n",
              " '[1 1 0 0 0 0 0 0]': array([0, 0, 0, 0, 0, 1, 1, 0, 0, 0, 0, 0, 0]),\n",
              " '[1 0 1 0 0 0 0 0]': array([0, 0, 0, 0, 0, 1, 0, 1, 0, 0, 0, 0, 0]),\n",
              " '[1 0 0 1 0 0 0 0]': array([0, 0, 0, 0, 0, 1, 0, 0, 1, 0, 0, 0, 0]),\n",
              " '[1 0 0 0 1 0 0 0]': array([0, 0, 0, 0, 0, 1, 0, 0, 0, 1, 0, 0, 0]),\n",
              " '[1 0 0 0 0 1 0 0]': array([0, 0, 0, 0, 0, 1, 0, 0, 0, 0, 1, 0, 0]),\n",
              " '[1 0 0 0 0 0 1 0]': array([0, 0, 0, 0, 0, 1, 0, 0, 0, 0, 0, 1, 0]),\n",
              " '[1 0 0 0 0 0 0 1]': array([0, 0, 0, 0, 0, 1, 0, 0, 0, 0, 0, 0, 1]),\n",
              " '[0 1 1 0 0 0 0 0]': array([0, 0, 0, 0, 0, 0, 1, 1, 0, 0, 0, 0, 0]),\n",
              " '[0 1 0 1 0 0 0 0]': array([0, 0, 0, 0, 0, 0, 1, 0, 1, 0, 0, 0, 0]),\n",
              " '[0 1 0 0 1 0 0 0]': array([0, 0, 0, 0, 0, 0, 1, 0, 0, 1, 0, 0, 0]),\n",
              " '[0 1 0 0 0 1 0 0]': array([0, 0, 0, 0, 0, 0, 1, 0, 0, 0, 1, 0, 0]),\n",
              " '[0 1 0 0 0 0 1 0]': array([0, 0, 0, 0, 0, 0, 1, 0, 0, 0, 0, 1, 0]),\n",
              " '[0 1 0 0 0 0 0 1]': array([0, 0, 0, 0, 0, 0, 1, 0, 0, 0, 0, 0, 1]),\n",
              " '[0 0 1 1 0 0 0 0]': array([0, 0, 0, 0, 0, 0, 0, 1, 1, 0, 0, 0, 0]),\n",
              " '[0 0 1 0 1 0 0 0]': array([0, 0, 0, 0, 0, 0, 0, 1, 0, 1, 0, 0, 0]),\n",
              " '[0 0 1 0 0 1 0 0]': array([0, 0, 0, 0, 0, 0, 0, 1, 0, 0, 1, 0, 0]),\n",
              " '[0 0 1 0 0 0 1 0]': array([0, 0, 0, 0, 0, 0, 0, 1, 0, 0, 0, 1, 0]),\n",
              " '[0 0 1 0 0 0 0 1]': array([0, 0, 0, 0, 0, 0, 0, 1, 0, 0, 0, 0, 1]),\n",
              " '[0 0 0 1 1 0 0 0]': array([0, 0, 0, 0, 0, 0, 0, 0, 1, 1, 0, 0, 0]),\n",
              " '[0 0 0 1 0 1 0 0]': array([0, 0, 0, 0, 0, 0, 0, 0, 1, 0, 1, 0, 0]),\n",
              " '[0 0 0 1 0 0 1 0]': array([0, 0, 0, 0, 0, 0, 0, 0, 1, 0, 0, 1, 0]),\n",
              " '[0 0 0 1 0 0 0 1]': array([0, 0, 0, 0, 0, 0, 0, 0, 1, 0, 0, 0, 1]),\n",
              " '[0 0 0 0 1 1 0 0]': array([0, 0, 0, 0, 0, 0, 0, 0, 0, 1, 1, 0, 0]),\n",
              " '[0 0 0 0 1 0 1 0]': array([0, 0, 0, 0, 0, 0, 0, 0, 0, 1, 0, 1, 0]),\n",
              " '[0 0 0 0 1 0 0 1]': array([0, 0, 0, 0, 0, 0, 0, 0, 0, 1, 0, 0, 1]),\n",
              " '[0 0 0 0 0 1 1 0]': array([0, 0, 0, 0, 0, 0, 0, 0, 0, 0, 1, 1, 0]),\n",
              " '[0 0 0 0 0 1 0 1]': array([0, 0, 0, 0, 0, 0, 0, 0, 0, 0, 1, 0, 1]),\n",
              " '[0 0 0 0 0 0 1 1]': array([0, 0, 0, 0, 0, 0, 0, 0, 0, 0, 0, 1, 1])}"
            ]
          },
          "metadata": {},
          "execution_count": 36
        }
      ]
    },
    {
      "cell_type": "markdown",
      "source": [
        "# Сформировать кодовое слово длины n из слова длины k. Внести однократную ошибку в сформированное слово. Вычислить синдром, исправить ошибку с использованием таблицы синдромов. Убедиться в правильности полученного слова."
      ],
      "metadata": {
        "id": "uOUlw2D-UgNV"
      }
    },
    {
      "cell_type": "code",
      "source": [
        "word = np.array([0, 1, 1, 0, 1])\n",
        "code_word = np.dot(word, G) % 2\n",
        "err = np.array([0, 0, 0, 1, 0, 0, 0, 0, 0, 0, 0, 0, 0])\n",
        "receive_code_word = code_word ^ err\n",
        "syndrome = np.dot(receive_code_word, H) % 2\n",
        "if not np.array_equal(syndrome, np.zeros(n, dtype=int)):\n",
        "    receive_code_word ^= syndrome_table[syndrome.__str__()]\n",
        "decoded_word = receive_code_word[:k]\n",
        "decoded_word\n",
        ""
      ],
      "metadata": {
        "colab": {
          "base_uri": "https://localhost:8080/"
        },
        "id": "j70mqeh8Ulzs",
        "outputId": "44ca21af-2cd0-4bdf-e928-6c2d75c93c87"
      },
      "execution_count": 37,
      "outputs": [
        {
          "output_type": "execute_result",
          "data": {
            "text/plain": [
              "array([0, 1, 1, 0, 1])"
            ]
          },
          "metadata": {},
          "execution_count": 37
        }
      ]
    },
    {
      "cell_type": "code",
      "source": [
        "np.array_equal(word, decoded_word)"
      ],
      "metadata": {
        "colab": {
          "base_uri": "https://localhost:8080/"
        },
        "id": "Y_ldG9uSUorI",
        "outputId": "3a03ec65-02a2-44c9-90ff-6cccdd5c0923"
      },
      "execution_count": 38,
      "outputs": [
        {
          "output_type": "execute_result",
          "data": {
            "text/plain": [
              "True"
            ]
          },
          "metadata": {},
          "execution_count": 38
        }
      ]
    },
    {
      "cell_type": "markdown",
      "source": [
        "# Сформировать кодовое слово длины n из слова длины k. Внести двукратную ошибку в сформированное слово. Вычислить синдром, исправить ошибку с использованием таблицы синдромов. Убедиться в правильности полученного слова."
      ],
      "metadata": {
        "id": "HQIcsVxrUpvK"
      }
    },
    {
      "cell_type": "code",
      "source": [
        "word = np.array([1, 1, 0, 0, 1])\n",
        "code_word = np.dot(word, G) % 2\n",
        "err = np.array([0, 0, 0, 0, 0, 0, 0, 1, 0, 1, 0, 0, 0])\n",
        "receive_code_word = code_word ^ err\n",
        "syndrome = np.dot(receive_code_word, H) % 2\n",
        "if not np.array_equal(syndrome, np.zeros(n, dtype=int)):\n",
        "    receive_code_word ^= syndrome_table[syndrome.__str__()]\n",
        "decoded_word = receive_code_word[:k]\n",
        "decoded_word"
      ],
      "metadata": {
        "colab": {
          "base_uri": "https://localhost:8080/"
        },
        "id": "Urfz_eV4Uvw5",
        "outputId": "dcf54031-670b-4b24-f1b2-6737858c6c8a"
      },
      "execution_count": 39,
      "outputs": [
        {
          "output_type": "execute_result",
          "data": {
            "text/plain": [
              "array([1, 1, 0, 0, 1])"
            ]
          },
          "metadata": {},
          "execution_count": 39
        }
      ]
    },
    {
      "cell_type": "code",
      "source": [
        "np.array_equal(word, decoded_word)"
      ],
      "metadata": {
        "colab": {
          "base_uri": "https://localhost:8080/"
        },
        "id": "J3U7j90wUyDo",
        "outputId": "092f24b9-c19e-4305-d00c-f548f901f04d"
      },
      "execution_count": 40,
      "outputs": [
        {
          "output_type": "execute_result",
          "data": {
            "text/plain": [
              "True"
            ]
          },
          "metadata": {},
          "execution_count": 40
        }
      ]
    },
    {
      "cell_type": "markdown",
      "source": [
        "# Сформировать кодовое слово длины n из слова длины k. Внести трёхкратную ошибку в сформированное слово. Вычислить синдром, исправить ошибку с использованием таблицы синдромов. Убедиться, что полученное слово отличается от отправленного."
      ],
      "metadata": {
        "id": "YFcgzSYhUzjl"
      }
    },
    {
      "cell_type": "code",
      "source": [
        "word = np.array([1, 1, 1, 1, 1])\n",
        "code_word = np.dot(word, G) % 2\n",
        "err = np.array([0, 1, 0, 0, 1, 0, 0, 0, 0, 0, 0, 0, 1])\n",
        "receive_code_word = code_word ^ err\n",
        "syndrome = np.dot(receive_code_word, H) % 2\n",
        "if not np.array_equal(syndrome, np.zeros(n, dtype=int)):\n",
        "    receive_code_word ^= syndrome_table[syndrome.__str__()]\n",
        "decoded_word = receive_code_word[:k]\n",
        "decoded_word"
      ],
      "metadata": {
        "colab": {
          "base_uri": "https://localhost:8080/"
        },
        "id": "5ZD3PgLBU4mG",
        "outputId": "1ef6dac5-df76-44d8-a590-6232c23774ae"
      },
      "execution_count": 41,
      "outputs": [
        {
          "output_type": "execute_result",
          "data": {
            "text/plain": [
              "array([0, 0, 1, 1, 0])"
            ]
          },
          "metadata": {},
          "execution_count": 41
        }
      ]
    },
    {
      "cell_type": "code",
      "source": [
        "np.array_equal(word, decoded_word)"
      ],
      "metadata": {
        "colab": {
          "base_uri": "https://localhost:8080/"
        },
        "id": "4ZQEELntU7PC",
        "outputId": "a2e15fff-f216-4763-9a8f-5222de96c85e"
      },
      "execution_count": 42,
      "outputs": [
        {
          "output_type": "execute_result",
          "data": {
            "text/plain": [
              "False"
            ]
          },
          "metadata": {},
          "execution_count": 42
        }
      ]
    }
  ]
}