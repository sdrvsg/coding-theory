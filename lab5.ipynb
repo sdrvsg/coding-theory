{
  "nbformat": 4,
  "nbformat_minor": 0,
  "metadata": {
    "colab": {
      "provenance": []
    },
    "kernelspec": {
      "name": "python3",
      "display_name": "Python 3"
    },
    "language_info": {
      "name": "python"
    }
  },
  "cells": [
    {
      "cell_type": "code",
      "execution_count": 2,
      "metadata": {
        "id": "HfqkWukAp4jq"
      },
      "outputs": [],
      "source": [
        "import numpy as np\n",
        "import itertools as iter"
      ]
    },
    {
      "cell_type": "markdown",
      "source": [
        "# Написать функцию формирования порождающей матрицы кода Рида Маллера (r,m) в каноническом виде для произвольно заданных r и m. Реализовать алгоритм мажоритарного декодирования для кода Рида Маллера.\n"
      ],
      "metadata": {
        "id": "Irbz2iekqFKm"
      }
    },
    {
      "cell_type": "code",
      "source": [
        "def create_G(r:int, m:int) -> np.ndarray[np.ndarray[int]]:\n",
        "    n = 2**m\n",
        "    E = [2**i for i in range(m-1, -1, -1)]\n",
        "    arr = [0]\n",
        "    for i in range(1, r+1):\n",
        "        arr += [sum(j) for j in list(iter.combinations(E, i))]\n",
        "\n",
        "    G = np.zeros((len(arr), n), dtype=int)\n",
        "    for i in range(len(arr)):\n",
        "        for j in range(n-1, -1, -1):\n",
        "            if arr[i] & j == arr[i]:\n",
        "                G[i][n-j-1] = 1\n",
        "    return G"
      ],
      "metadata": {
        "id": "5AIHxCtwqgxu"
      },
      "execution_count": 3,
      "outputs": []
    },
    {
      "cell_type": "code",
      "source": [
        "def find_special(arr: np.ndarray[int], n:int):\n",
        "    unit_row = n\n",
        "    for j in range(n):\n",
        "        if arr[j] == 0:\n",
        "            unit_row = j\n",
        "            break\n",
        "    j = unit_row\n",
        "    steps = 0\n",
        "    for j in range(unit_row, n, unit_row):\n",
        "        if arr[j] == 0:\n",
        "            steps += 1\n",
        "        else:\n",
        "            break\n",
        "    x = unit_row*(steps+1)\n",
        "    block = n\n",
        "    for j in range(x, n, x):\n",
        "        if arr[j] == 0:\n",
        "            block = j\n",
        "            break\n",
        "    return unit_row, steps+1, block"
      ],
      "metadata": {
        "id": "XYPxD1-CZxhM"
      },
      "execution_count": 4,
      "outputs": []
    },
    {
      "cell_type": "code",
      "source": [
        "def create_decode_array(r: int, m: int):\n",
        "    n = 2**m\n",
        "    E = [2 ** i for i in range(m - 1, -1, -1)]\n",
        "    decode_array = []\n",
        "    for k in range(r, 0, -1):  # k = |J|\n",
        "        arr = []\n",
        "        for x in [sum(j) for j in list(iter.combinations(E, m-k))]:\n",
        "            v_t_array = np.zeros((2**(m-k), n), dtype=int)\n",
        "            for j in range(n - 1, -1, -1):\n",
        "                if x & j == x:\n",
        "                    v_t_array[0][n - j - 1] = 1\n",
        "            unit_row, steps, block = find_special(v_t_array[0], n)\n",
        "            for i in range(1, len(v_t_array)):\n",
        "                if i % steps == 0:\n",
        "                    v_t_array[i, block:] = v_t_array[i-steps, :n-block]\n",
        "                else:\n",
        "                    v_t_array[i, unit_row:] = v_t_array[i-1, :n-unit_row]\n",
        "            arr.append(v_t_array.T)\n",
        "        decode_array.append(np.array(arr))\n",
        "    decode_array.append([np.eye(n, dtype=int)])\n",
        "    return decode_array"
      ],
      "metadata": {
        "id": "XhQh-Pn5Zxok"
      },
      "execution_count": 5,
      "outputs": []
    },
    {
      "cell_type": "code",
      "source": [
        "def decoding_word(w, decode_array, G, r, m):\n",
        "    i = len(G) - 1\n",
        "    word = np.zeros(i+1, dtype=int)\n",
        "    w_ = w.copy()\n",
        "    for v_t_array in decode_array:\n",
        "        w_next = w_.copy()\n",
        "        threshold_amount = len(v_t_array[0][0]) // 2\n",
        "        for x in v_t_array:\n",
        "            units_amount = (np.dot(w_, x) % 2).sum()\n",
        "            if units_amount == threshold_amount:\n",
        "                print(f'допущена {2**(m-r-1)}-я ошибка. Сообщение не может быть восстановлено!')\n",
        "                return None\n",
        "            if units_amount > threshold_amount:\n",
        "                w_next ^= G[i]\n",
        "                word[i] = 1\n",
        "            else:\n",
        "                word[i] = 0\n",
        "            i -= 1\n",
        "        w_ = w_next\n",
        "    return word"
      ],
      "metadata": {
        "id": "luEcdJnIrJ-E"
      },
      "execution_count": 6,
      "outputs": []
    },
    {
      "cell_type": "markdown",
      "source": [
        "# Провести экспериментальную проверку алгоритма декодирования для кода Рида-Маллера (2,4)."
      ],
      "metadata": {
        "id": "0qKKreXraY-u"
      }
    },
    {
      "cell_type": "code",
      "source": [
        "R = 2\n",
        "M = 4\n",
        "G = create_G(R, M)\n",
        "G"
      ],
      "metadata": {
        "colab": {
          "base_uri": "https://localhost:8080/"
        },
        "id": "iSpbLHZxacKs",
        "outputId": "cab08384-d841-4f23-a914-602bdc180341"
      },
      "execution_count": 7,
      "outputs": [
        {
          "output_type": "execute_result",
          "data": {
            "text/plain": [
              "array([[1, 1, 1, 1, 1, 1, 1, 1, 1, 1, 1, 1, 1, 1, 1, 1],\n",
              "       [1, 1, 1, 1, 1, 1, 1, 1, 0, 0, 0, 0, 0, 0, 0, 0],\n",
              "       [1, 1, 1, 1, 0, 0, 0, 0, 1, 1, 1, 1, 0, 0, 0, 0],\n",
              "       [1, 1, 0, 0, 1, 1, 0, 0, 1, 1, 0, 0, 1, 1, 0, 0],\n",
              "       [1, 0, 1, 0, 1, 0, 1, 0, 1, 0, 1, 0, 1, 0, 1, 0],\n",
              "       [1, 1, 1, 1, 0, 0, 0, 0, 0, 0, 0, 0, 0, 0, 0, 0],\n",
              "       [1, 1, 0, 0, 1, 1, 0, 0, 0, 0, 0, 0, 0, 0, 0, 0],\n",
              "       [1, 0, 1, 0, 1, 0, 1, 0, 0, 0, 0, 0, 0, 0, 0, 0],\n",
              "       [1, 1, 0, 0, 0, 0, 0, 0, 1, 1, 0, 0, 0, 0, 0, 0],\n",
              "       [1, 0, 1, 0, 0, 0, 0, 0, 1, 0, 1, 0, 0, 0, 0, 0],\n",
              "       [1, 0, 0, 0, 1, 0, 0, 0, 1, 0, 0, 0, 1, 0, 0, 0]])"
            ]
          },
          "metadata": {},
          "execution_count": 7
        }
      ]
    },
    {
      "cell_type": "code",
      "source": [
        "decode_array = create_decode_array(R, M)\n",
        "decode_array"
      ],
      "metadata": {
        "colab": {
          "base_uri": "https://localhost:8080/"
        },
        "id": "FBGGXaMPadbY",
        "outputId": "53e86089-8c47-4f34-fbec-df9ceb22e497"
      },
      "execution_count": 8,
      "outputs": [
        {
          "output_type": "execute_result",
          "data": {
            "text/plain": [
              "[array([[[1, 0, 0, 0],\n",
              "         [1, 0, 0, 0],\n",
              "         [1, 0, 0, 0],\n",
              "         [1, 0, 0, 0],\n",
              "         [0, 1, 0, 0],\n",
              "         [0, 1, 0, 0],\n",
              "         [0, 1, 0, 0],\n",
              "         [0, 1, 0, 0],\n",
              "         [0, 0, 1, 0],\n",
              "         [0, 0, 1, 0],\n",
              "         [0, 0, 1, 0],\n",
              "         [0, 0, 1, 0],\n",
              "         [0, 0, 0, 1],\n",
              "         [0, 0, 0, 1],\n",
              "         [0, 0, 0, 1],\n",
              "         [0, 0, 0, 1]],\n",
              " \n",
              "        [[1, 0, 0, 0],\n",
              "         [1, 0, 0, 0],\n",
              "         [0, 1, 0, 0],\n",
              "         [0, 1, 0, 0],\n",
              "         [1, 0, 0, 0],\n",
              "         [1, 0, 0, 0],\n",
              "         [0, 1, 0, 0],\n",
              "         [0, 1, 0, 0],\n",
              "         [0, 0, 1, 0],\n",
              "         [0, 0, 1, 0],\n",
              "         [0, 0, 0, 1],\n",
              "         [0, 0, 0, 1],\n",
              "         [0, 0, 1, 0],\n",
              "         [0, 0, 1, 0],\n",
              "         [0, 0, 0, 1],\n",
              "         [0, 0, 0, 1]],\n",
              " \n",
              "        [[1, 0, 0, 0],\n",
              "         [0, 1, 0, 0],\n",
              "         [1, 0, 0, 0],\n",
              "         [0, 1, 0, 0],\n",
              "         [1, 0, 0, 0],\n",
              "         [0, 1, 0, 0],\n",
              "         [1, 0, 0, 0],\n",
              "         [0, 1, 0, 0],\n",
              "         [0, 0, 1, 0],\n",
              "         [0, 0, 0, 1],\n",
              "         [0, 0, 1, 0],\n",
              "         [0, 0, 0, 1],\n",
              "         [0, 0, 1, 0],\n",
              "         [0, 0, 0, 1],\n",
              "         [0, 0, 1, 0],\n",
              "         [0, 0, 0, 1]],\n",
              " \n",
              "        [[1, 0, 0, 0],\n",
              "         [1, 0, 0, 0],\n",
              "         [0, 1, 0, 0],\n",
              "         [0, 1, 0, 0],\n",
              "         [0, 0, 1, 0],\n",
              "         [0, 0, 1, 0],\n",
              "         [0, 0, 0, 1],\n",
              "         [0, 0, 0, 1],\n",
              "         [1, 0, 0, 0],\n",
              "         [1, 0, 0, 0],\n",
              "         [0, 1, 0, 0],\n",
              "         [0, 1, 0, 0],\n",
              "         [0, 0, 1, 0],\n",
              "         [0, 0, 1, 0],\n",
              "         [0, 0, 0, 1],\n",
              "         [0, 0, 0, 1]],\n",
              " \n",
              "        [[1, 0, 0, 0],\n",
              "         [0, 1, 0, 0],\n",
              "         [1, 0, 0, 0],\n",
              "         [0, 1, 0, 0],\n",
              "         [0, 0, 1, 0],\n",
              "         [0, 0, 0, 1],\n",
              "         [0, 0, 1, 0],\n",
              "         [0, 0, 0, 1],\n",
              "         [1, 0, 0, 0],\n",
              "         [0, 1, 0, 0],\n",
              "         [1, 0, 0, 0],\n",
              "         [0, 1, 0, 0],\n",
              "         [0, 0, 1, 0],\n",
              "         [0, 0, 0, 1],\n",
              "         [0, 0, 1, 0],\n",
              "         [0, 0, 0, 1]],\n",
              " \n",
              "        [[1, 0, 0, 0],\n",
              "         [0, 1, 0, 0],\n",
              "         [0, 0, 1, 0],\n",
              "         [0, 0, 0, 1],\n",
              "         [1, 0, 0, 0],\n",
              "         [0, 1, 0, 0],\n",
              "         [0, 0, 1, 0],\n",
              "         [0, 0, 0, 1],\n",
              "         [1, 0, 0, 0],\n",
              "         [0, 1, 0, 0],\n",
              "         [0, 0, 1, 0],\n",
              "         [0, 0, 0, 1],\n",
              "         [1, 0, 0, 0],\n",
              "         [0, 1, 0, 0],\n",
              "         [0, 0, 1, 0],\n",
              "         [0, 0, 0, 1]]]),\n",
              " array([[[1, 0, 0, 0, 0, 0, 0, 0],\n",
              "         [1, 0, 0, 0, 0, 0, 0, 0],\n",
              "         [0, 1, 0, 0, 0, 0, 0, 0],\n",
              "         [0, 1, 0, 0, 0, 0, 0, 0],\n",
              "         [0, 0, 1, 0, 0, 0, 0, 0],\n",
              "         [0, 0, 1, 0, 0, 0, 0, 0],\n",
              "         [0, 0, 0, 1, 0, 0, 0, 0],\n",
              "         [0, 0, 0, 1, 0, 0, 0, 0],\n",
              "         [0, 0, 0, 0, 1, 0, 0, 0],\n",
              "         [0, 0, 0, 0, 1, 0, 0, 0],\n",
              "         [0, 0, 0, 0, 0, 1, 0, 0],\n",
              "         [0, 0, 0, 0, 0, 1, 0, 0],\n",
              "         [0, 0, 0, 0, 0, 0, 1, 0],\n",
              "         [0, 0, 0, 0, 0, 0, 1, 0],\n",
              "         [0, 0, 0, 0, 0, 0, 0, 1],\n",
              "         [0, 0, 0, 0, 0, 0, 0, 1]],\n",
              " \n",
              "        [[1, 0, 0, 0, 0, 0, 0, 0],\n",
              "         [0, 1, 0, 0, 0, 0, 0, 0],\n",
              "         [1, 0, 0, 0, 0, 0, 0, 0],\n",
              "         [0, 1, 0, 0, 0, 0, 0, 0],\n",
              "         [0, 0, 1, 0, 0, 0, 0, 0],\n",
              "         [0, 0, 0, 1, 0, 0, 0, 0],\n",
              "         [0, 0, 1, 0, 0, 0, 0, 0],\n",
              "         [0, 0, 0, 1, 0, 0, 0, 0],\n",
              "         [0, 0, 0, 0, 1, 0, 0, 0],\n",
              "         [0, 0, 0, 0, 0, 1, 0, 0],\n",
              "         [0, 0, 0, 0, 1, 0, 0, 0],\n",
              "         [0, 0, 0, 0, 0, 1, 0, 0],\n",
              "         [0, 0, 0, 0, 0, 0, 1, 0],\n",
              "         [0, 0, 0, 0, 0, 0, 0, 1],\n",
              "         [0, 0, 0, 0, 0, 0, 1, 0],\n",
              "         [0, 0, 0, 0, 0, 0, 0, 1]],\n",
              " \n",
              "        [[1, 0, 0, 0, 0, 0, 0, 0],\n",
              "         [0, 1, 0, 0, 0, 0, 0, 0],\n",
              "         [0, 0, 1, 0, 0, 0, 0, 0],\n",
              "         [0, 0, 0, 1, 0, 0, 0, 0],\n",
              "         [1, 0, 0, 0, 0, 0, 0, 0],\n",
              "         [0, 1, 0, 0, 0, 0, 0, 0],\n",
              "         [0, 0, 1, 0, 0, 0, 0, 0],\n",
              "         [0, 0, 0, 1, 0, 0, 0, 0],\n",
              "         [0, 0, 0, 0, 1, 0, 0, 0],\n",
              "         [0, 0, 0, 0, 0, 1, 0, 0],\n",
              "         [0, 0, 0, 0, 0, 0, 1, 0],\n",
              "         [0, 0, 0, 0, 0, 0, 0, 1],\n",
              "         [0, 0, 0, 0, 1, 0, 0, 0],\n",
              "         [0, 0, 0, 0, 0, 1, 0, 0],\n",
              "         [0, 0, 0, 0, 0, 0, 1, 0],\n",
              "         [0, 0, 0, 0, 0, 0, 0, 1]],\n",
              " \n",
              "        [[1, 0, 0, 0, 0, 0, 0, 0],\n",
              "         [0, 1, 0, 0, 0, 0, 0, 0],\n",
              "         [0, 0, 1, 0, 0, 0, 0, 0],\n",
              "         [0, 0, 0, 1, 0, 0, 0, 0],\n",
              "         [0, 0, 0, 0, 1, 0, 0, 0],\n",
              "         [0, 0, 0, 0, 0, 1, 0, 0],\n",
              "         [0, 0, 0, 0, 0, 0, 1, 0],\n",
              "         [0, 0, 0, 0, 0, 0, 0, 1],\n",
              "         [1, 0, 0, 0, 0, 0, 0, 0],\n",
              "         [0, 1, 0, 0, 0, 0, 0, 0],\n",
              "         [0, 0, 1, 0, 0, 0, 0, 0],\n",
              "         [0, 0, 0, 1, 0, 0, 0, 0],\n",
              "         [0, 0, 0, 0, 1, 0, 0, 0],\n",
              "         [0, 0, 0, 0, 0, 1, 0, 0],\n",
              "         [0, 0, 0, 0, 0, 0, 1, 0],\n",
              "         [0, 0, 0, 0, 0, 0, 0, 1]]]),\n",
              " [array([[1, 0, 0, 0, 0, 0, 0, 0, 0, 0, 0, 0, 0, 0, 0, 0],\n",
              "         [0, 1, 0, 0, 0, 0, 0, 0, 0, 0, 0, 0, 0, 0, 0, 0],\n",
              "         [0, 0, 1, 0, 0, 0, 0, 0, 0, 0, 0, 0, 0, 0, 0, 0],\n",
              "         [0, 0, 0, 1, 0, 0, 0, 0, 0, 0, 0, 0, 0, 0, 0, 0],\n",
              "         [0, 0, 0, 0, 1, 0, 0, 0, 0, 0, 0, 0, 0, 0, 0, 0],\n",
              "         [0, 0, 0, 0, 0, 1, 0, 0, 0, 0, 0, 0, 0, 0, 0, 0],\n",
              "         [0, 0, 0, 0, 0, 0, 1, 0, 0, 0, 0, 0, 0, 0, 0, 0],\n",
              "         [0, 0, 0, 0, 0, 0, 0, 1, 0, 0, 0, 0, 0, 0, 0, 0],\n",
              "         [0, 0, 0, 0, 0, 0, 0, 0, 1, 0, 0, 0, 0, 0, 0, 0],\n",
              "         [0, 0, 0, 0, 0, 0, 0, 0, 0, 1, 0, 0, 0, 0, 0, 0],\n",
              "         [0, 0, 0, 0, 0, 0, 0, 0, 0, 0, 1, 0, 0, 0, 0, 0],\n",
              "         [0, 0, 0, 0, 0, 0, 0, 0, 0, 0, 0, 1, 0, 0, 0, 0],\n",
              "         [0, 0, 0, 0, 0, 0, 0, 0, 0, 0, 0, 0, 1, 0, 0, 0],\n",
              "         [0, 0, 0, 0, 0, 0, 0, 0, 0, 0, 0, 0, 0, 1, 0, 0],\n",
              "         [0, 0, 0, 0, 0, 0, 0, 0, 0, 0, 0, 0, 0, 0, 1, 0],\n",
              "         [0, 0, 0, 0, 0, 0, 0, 0, 0, 0, 0, 0, 0, 0, 0, 1]])]]"
            ]
          },
          "metadata": {},
          "execution_count": 8
        }
      ]
    },
    {
      "cell_type": "code",
      "source": [
        "word = np.array([1, 0, 0, 0, 0, 0, 0, 0, 0, 0, 0])\n",
        "w = np.dot(word, G) % 2\n",
        "w"
      ],
      "metadata": {
        "colab": {
          "base_uri": "https://localhost:8080/"
        },
        "id": "gMqAoXORagqT",
        "outputId": "22a27b53-a873-4006-8d13-333aac25c530"
      },
      "execution_count": 9,
      "outputs": [
        {
          "output_type": "execute_result",
          "data": {
            "text/plain": [
              "array([1, 1, 1, 1, 1, 1, 1, 1, 1, 1, 1, 1, 1, 1, 1, 1])"
            ]
          },
          "metadata": {},
          "execution_count": 9
        }
      ]
    },
    {
      "cell_type": "code",
      "source": [
        "err1_array = [w ^ x for x in np.eye(len(w), dtype=int)]  # все одномерные ошибки\n",
        "err2 = np.zeros_like(w)\n",
        "err2[0] = err2[1] = 1\n",
        "err3 = err2.copy()\n",
        "err3[2] = 1\n",
        "w_err2 = w ^ err2\n",
        "w_err3 = w ^ err3\n",
        "w, w_err2, w_err3"
      ],
      "metadata": {
        "colab": {
          "base_uri": "https://localhost:8080/"
        },
        "id": "lJt9UtsIajW1",
        "outputId": "32d34a5d-0270-457b-c973-3287fe63e819"
      },
      "execution_count": 10,
      "outputs": [
        {
          "output_type": "execute_result",
          "data": {
            "text/plain": [
              "(array([1, 1, 1, 1, 1, 1, 1, 1, 1, 1, 1, 1, 1, 1, 1, 1]),\n",
              " array([0, 0, 1, 1, 1, 1, 1, 1, 1, 1, 1, 1, 1, 1, 1, 1]),\n",
              " array([0, 0, 0, 1, 1, 1, 1, 1, 1, 1, 1, 1, 1, 1, 1, 1]))"
            ]
          },
          "metadata": {},
          "execution_count": 10
        }
      ]
    },
    {
      "cell_type": "markdown",
      "source": [
        "Декодирование слова без ошибки"
      ],
      "metadata": {
        "id": "30fLQAU2alV0"
      }
    },
    {
      "cell_type": "code",
      "source": [
        "decode_word = decoding_word(w, decode_array, G, R, M)\n",
        "if decode_word is not None:\n",
        "    print(decode_word)\n",
        "    print(np.array_equal(word, decode_word))"
      ],
      "metadata": {
        "colab": {
          "base_uri": "https://localhost:8080/"
        },
        "id": "PQw8FdINal0_",
        "outputId": "ef187993-3ae8-4252-8279-986ee4c993b6"
      },
      "execution_count": 11,
      "outputs": [
        {
          "output_type": "stream",
          "name": "stdout",
          "text": [
            "[1 0 0 0 0 0 0 0 0 0 0]\n",
            "True\n"
          ]
        }
      ]
    },
    {
      "cell_type": "markdown",
      "source": [
        "Декодирование всех однократных ошибок"
      ],
      "metadata": {
        "id": "8YbcrAB7aoDJ"
      }
    },
    {
      "cell_type": "code",
      "source": [
        "decode_words = [decoding_word(x, decode_array, G, R, M) for x in err1_array]\n",
        "for x in decode_words:\n",
        "    print(np.array_equal(x, word))"
      ],
      "metadata": {
        "colab": {
          "base_uri": "https://localhost:8080/"
        },
        "id": "ZbDl-_02apiM",
        "outputId": "01c4eea5-94b5-4c53-8315-f3ad423903be"
      },
      "execution_count": 12,
      "outputs": [
        {
          "output_type": "stream",
          "name": "stdout",
          "text": [
            "True\n",
            "True\n",
            "True\n",
            "True\n",
            "True\n",
            "True\n",
            "True\n",
            "True\n",
            "True\n",
            "True\n",
            "True\n",
            "True\n",
            "True\n",
            "True\n",
            "True\n",
            "True\n"
          ]
        }
      ]
    },
    {
      "cell_type": "markdown",
      "source": [
        "Декодирование двукратной ошибки (RM(2, 4) может их лишь обнаружить, но не исправить)"
      ],
      "metadata": {
        "id": "JTyTLer_aqya"
      }
    },
    {
      "cell_type": "code",
      "source": [
        "decode_word = decoding_word(w_err2, decode_array, G, R, M)\n",
        "if decode_word is not None:\n",
        "    print(decode_word)\n",
        "    print(np.array_equal(word, decode_word))"
      ],
      "metadata": {
        "colab": {
          "base_uri": "https://localhost:8080/"
        },
        "id": "RdEe-C72atT9",
        "outputId": "7ba79d03-8d28-4e1f-ce69-5f5111805d1c"
      },
      "execution_count": 13,
      "outputs": [
        {
          "output_type": "stream",
          "name": "stdout",
          "text": [
            "допущена 2-я ошибка. Сообщение не может быть восстановлено!\n"
          ]
        }
      ]
    },
    {
      "cell_type": "markdown",
      "source": [
        "Декодирование 3-кратной ошибки (RM(2,4) не может их обнаружить)"
      ],
      "metadata": {
        "id": "L-CHYXp8avBM"
      }
    },
    {
      "cell_type": "code",
      "source": [
        "decode_word = decoding_word(w_err3, decode_array, G, R, M)\n",
        "if decode_word is not None:\n",
        "    print(decode_word)\n",
        "    print(np.array_equal(word, decode_word))"
      ],
      "metadata": {
        "colab": {
          "base_uri": "https://localhost:8080/"
        },
        "id": "_yTze9P2awLJ",
        "outputId": "c3245747-6691-4187-83a8-b01a0eacd6ee"
      },
      "execution_count": 14,
      "outputs": [
        {
          "output_type": "stream",
          "name": "stdout",
          "text": [
            "[1 0 0 0 0 1 0 0 0 0 0]\n",
            "False\n"
          ]
        }
      ]
    }
  ]
}