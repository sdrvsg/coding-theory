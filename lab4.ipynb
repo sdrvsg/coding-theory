{
 "cells": [
  {
   "cell_type": "code",
   "id": "initial_id",
   "metadata": {
    "collapsed": true,
    "ExecuteTime": {
     "end_time": "2024-10-25T07:59:06.122135Z",
     "start_time": "2024-10-25T07:59:06.116777Z"
    }
   },
   "source": [
    "import random\n",
    "\n",
    "import numpy as np"
   ],
   "outputs": [],
   "execution_count": 22
  },
  {
   "metadata": {},
   "cell_type": "markdown",
   "source": "# Часть 1",
   "id": "343229d1df3c127c"
  },
  {
   "metadata": {},
   "cell_type": "markdown",
   "source": "## 1. Написать функцию формирования порождающей и проверочной матриц расширенного кода Голея (24,12,8).",
   "id": "f370fe4860cfbc7e"
  },
  {
   "metadata": {
    "ExecuteTime": {
     "end_time": "2024-10-25T07:59:06.202255Z",
     "start_time": "2024-10-25T07:59:06.193690Z"
    }
   },
   "cell_type": "code",
   "source": [
    "B = [[1, 1, 0, 1, 1, 1, 0, 0, 0, 1, 0, 1],\n",
    "     [1, 0, 1, 1, 1, 0, 0, 0, 1, 0, 1, 1],\n",
    "     [0, 1, 1, 1, 0, 0, 0, 1, 0, 1, 1, 1],\n",
    "     [1, 1, 1, 0, 0, 0, 1, 0, 1, 1, 0, 1],\n",
    "     [1, 1, 0, 0, 0, 1, 0, 1, 1, 0, 1, 1],\n",
    "     [1, 0, 0, 0, 1, 0, 1, 1, 0, 1, 1, 1],\n",
    "     [0, 0, 0, 1, 0, 1, 1, 0, 1, 1, 1, 1],\n",
    "     [0, 0, 1, 0, 1, 1, 0, 1, 1, 1, 0, 1],\n",
    "     [0, 1, 0, 1, 1, 0, 1, 1, 1, 0, 0, 1],\n",
    "     [1, 0, 1, 1, 0, 1, 1, 1, 0, 0, 0, 1],\n",
    "     [0, 1, 1, 0, 1, 1, 1, 0, 0, 0, 1, 1],\n",
    "     [1, 1, 1, 1, 1, 1, 1, 1, 1, 1, 1, 0]]"
   ],
   "id": "93c456a8653c2b2a",
   "outputs": [],
   "execution_count": 23
  },
  {
   "metadata": {
    "ExecuteTime": {
     "end_time": "2024-10-25T07:59:06.285251Z",
     "start_time": "2024-10-25T07:59:06.277425Z"
    }
   },
   "cell_type": "code",
   "source": [
    "def G_Golay():\n",
    "    G = np.zeros((12, 24), dtype=int)\n",
    "    G[:, :12] = np.eye(12, dtype=int)\n",
    "    for i in range(12):\n",
    "        G[i][12:] = B[i]\n",
    "    return G.astype(int)\n",
    "\n",
    "\n",
    "G_matrix = G_Golay()\n",
    "G_matrix"
   ],
   "id": "d7a4552d026aae15",
   "outputs": [
    {
     "data": {
      "text/plain": [
       "array([[1, 0, 0, 0, 0, 0, 0, 0, 0, 0, 0, 0, 1, 1, 0, 1, 1, 1, 0, 0, 0, 1,\n",
       "        0, 1],\n",
       "       [0, 1, 0, 0, 0, 0, 0, 0, 0, 0, 0, 0, 1, 0, 1, 1, 1, 0, 0, 0, 1, 0,\n",
       "        1, 1],\n",
       "       [0, 0, 1, 0, 0, 0, 0, 0, 0, 0, 0, 0, 0, 1, 1, 1, 0, 0, 0, 1, 0, 1,\n",
       "        1, 1],\n",
       "       [0, 0, 0, 1, 0, 0, 0, 0, 0, 0, 0, 0, 1, 1, 1, 0, 0, 0, 1, 0, 1, 1,\n",
       "        0, 1],\n",
       "       [0, 0, 0, 0, 1, 0, 0, 0, 0, 0, 0, 0, 1, 1, 0, 0, 0, 1, 0, 1, 1, 0,\n",
       "        1, 1],\n",
       "       [0, 0, 0, 0, 0, 1, 0, 0, 0, 0, 0, 0, 1, 0, 0, 0, 1, 0, 1, 1, 0, 1,\n",
       "        1, 1],\n",
       "       [0, 0, 0, 0, 0, 0, 1, 0, 0, 0, 0, 0, 0, 0, 0, 1, 0, 1, 1, 0, 1, 1,\n",
       "        1, 1],\n",
       "       [0, 0, 0, 0, 0, 0, 0, 1, 0, 0, 0, 0, 0, 0, 1, 0, 1, 1, 0, 1, 1, 1,\n",
       "        0, 1],\n",
       "       [0, 0, 0, 0, 0, 0, 0, 0, 1, 0, 0, 0, 0, 1, 0, 1, 1, 0, 1, 1, 1, 0,\n",
       "        0, 1],\n",
       "       [0, 0, 0, 0, 0, 0, 0, 0, 0, 1, 0, 0, 1, 0, 1, 1, 0, 1, 1, 1, 0, 0,\n",
       "        0, 1],\n",
       "       [0, 0, 0, 0, 0, 0, 0, 0, 0, 0, 1, 0, 0, 1, 1, 0, 1, 1, 1, 0, 0, 0,\n",
       "        1, 1],\n",
       "       [0, 0, 0, 0, 0, 0, 0, 0, 0, 0, 0, 1, 1, 1, 1, 1, 1, 1, 1, 1, 1, 1,\n",
       "        1, 0]])"
      ]
     },
     "execution_count": 24,
     "metadata": {},
     "output_type": "execute_result"
    }
   ],
   "execution_count": 24
  },
  {
   "metadata": {
    "ExecuteTime": {
     "end_time": "2024-10-25T07:59:06.369986Z",
     "start_time": "2024-10-25T07:59:06.362449Z"
    }
   },
   "cell_type": "code",
   "source": [
    "def H_Golay(G):\n",
    "    n = len(G.T)\n",
    "    k = len(G)\n",
    "    n_k = n - k\n",
    "    H = np.zeros((n, n_k), dtype=int)\n",
    "    I = np.eye(n_k, dtype=int)\n",
    "    H[:k, :] = I\n",
    "    H[k:, :] = G[:, k:]\n",
    "    return H\n",
    "\n",
    "\n",
    "H_matrix = H_Golay(G_matrix)\n",
    "H_matrix"
   ],
   "id": "ddd376154bd26194",
   "outputs": [
    {
     "data": {
      "text/plain": [
       "array([[1, 0, 0, 0, 0, 0, 0, 0, 0, 0, 0, 0],\n",
       "       [0, 1, 0, 0, 0, 0, 0, 0, 0, 0, 0, 0],\n",
       "       [0, 0, 1, 0, 0, 0, 0, 0, 0, 0, 0, 0],\n",
       "       [0, 0, 0, 1, 0, 0, 0, 0, 0, 0, 0, 0],\n",
       "       [0, 0, 0, 0, 1, 0, 0, 0, 0, 0, 0, 0],\n",
       "       [0, 0, 0, 0, 0, 1, 0, 0, 0, 0, 0, 0],\n",
       "       [0, 0, 0, 0, 0, 0, 1, 0, 0, 0, 0, 0],\n",
       "       [0, 0, 0, 0, 0, 0, 0, 1, 0, 0, 0, 0],\n",
       "       [0, 0, 0, 0, 0, 0, 0, 0, 1, 0, 0, 0],\n",
       "       [0, 0, 0, 0, 0, 0, 0, 0, 0, 1, 0, 0],\n",
       "       [0, 0, 0, 0, 0, 0, 0, 0, 0, 0, 1, 0],\n",
       "       [0, 0, 0, 0, 0, 0, 0, 0, 0, 0, 0, 1],\n",
       "       [1, 1, 0, 1, 1, 1, 0, 0, 0, 1, 0, 1],\n",
       "       [1, 0, 1, 1, 1, 0, 0, 0, 1, 0, 1, 1],\n",
       "       [0, 1, 1, 1, 0, 0, 0, 1, 0, 1, 1, 1],\n",
       "       [1, 1, 1, 0, 0, 0, 1, 0, 1, 1, 0, 1],\n",
       "       [1, 1, 0, 0, 0, 1, 0, 1, 1, 0, 1, 1],\n",
       "       [1, 0, 0, 0, 1, 0, 1, 1, 0, 1, 1, 1],\n",
       "       [0, 0, 0, 1, 0, 1, 1, 0, 1, 1, 1, 1],\n",
       "       [0, 0, 1, 0, 1, 1, 0, 1, 1, 1, 0, 1],\n",
       "       [0, 1, 0, 1, 1, 0, 1, 1, 1, 0, 0, 1],\n",
       "       [1, 0, 1, 1, 0, 1, 1, 1, 0, 0, 0, 1],\n",
       "       [0, 1, 1, 0, 1, 1, 1, 0, 0, 0, 1, 1],\n",
       "       [1, 1, 1, 1, 1, 1, 1, 1, 1, 1, 1, 0]])"
      ]
     },
     "execution_count": 25,
     "metadata": {},
     "output_type": "execute_result"
    }
   ],
   "execution_count": 25
  },
  {
   "metadata": {},
   "cell_type": "markdown",
   "source": "## 2. Провести исследование расширенного кода Голея для одно-, двух-, трёх- и четырёхкратных ошибок.",
   "id": "8b35f67136e10687"
  },
  {
   "metadata": {
    "ExecuteTime": {
     "end_time": "2024-10-25T07:59:06.520244Z",
     "start_time": "2024-10-25T07:59:06.510531Z"
    }
   },
   "cell_type": "code",
   "source": [
    "def get_error(receive, H, B):\n",
    "    s = receive @ H % 2\n",
    "    u1 = None\n",
    "    if sum(s) <= 3:\n",
    "        u1 = np.array(s)\n",
    "        u1 = np.hstack((u1, np.zeros(len(s), dtype=int)))\n",
    "    else:\n",
    "        for i in range(len(B)):\n",
    "            temp = (s + B[i]) % 2\n",
    "            if sum(temp) <= 2:\n",
    "                ei = np.zeros(len(s), dtype=int)\n",
    "                ei[i] = 1\n",
    "                u1 = np.hstack((temp, ei))\n",
    "    if u1 is not None:\n",
    "        u1\n",
    "    else:\n",
    "        sB = s @ B % 2\n",
    "        if sum(sB) <= 3:\n",
    "            u1 = np.hstack((np.zeros(len(s), dtype=int), sB))\n",
    "        else:\n",
    "            for i in range(len(B)):\n",
    "                temp = (sB + B[i]) % 2\n",
    "                if sum(temp) <= 2:\n",
    "                    ei = np.zeros(len(s), dtype=int)\n",
    "                    ei[i] = 1\n",
    "                    u1 = np.hstack((ei, temp))\n",
    "    return u1\n",
    "\n",
    "\n",
    "def set_error(send, error_count, G, H, B):\n",
    "    print(f'Исходное сообщение: {send}')\n",
    "\n",
    "    receive = send @ G % 2\n",
    "    print(f'Отправленное сообщение {receive}')\n",
    "\n",
    "    error = np.zeros(receive.shape[0], dtype=int)\n",
    "    error_indices = random.sample(range(receive.shape[0]), error_count)\n",
    "    for index in error_indices:\n",
    "        error[index] = 1\n",
    "    print(f'Ошибка: {error}')\n",
    "\n",
    "    receive = (receive + error) % 2\n",
    "    print(f'Сообщение с ошибкой {receive}')\n",
    "\n",
    "    error = get_error(receive, H, B)\n",
    "    if error is None:\n",
    "        print('Ошибка обнаружена, нельзя исправить')\n",
    "        return\n",
    "\n",
    "    message = (receive + error) % 2\n",
    "    print(f'Исправленное отправленное сообщение: {message}')\n",
    "\n",
    "    receive = send @ G % 2\n",
    "    if not np.array_equal(receive, message):\n",
    "        print('Сообщение было декодировано с ошибкой')"
   ],
   "id": "3c6026457025f843",
   "outputs": [],
   "execution_count": 26
  },
  {
   "metadata": {},
   "cell_type": "markdown",
   "source": "### Однократная ошибка",
   "id": "d21ff0835c64184a"
  },
  {
   "metadata": {
    "ExecuteTime": {
     "end_time": "2024-10-25T07:59:06.703115Z",
     "start_time": "2024-10-25T07:59:06.695364Z"
    }
   },
   "cell_type": "code",
   "source": [
    "send = np.array([1, 0, 0, 1, 1, 0, 0, 0, 1, 0, 1, 0])\n",
    "set_error(send, 1, G_matrix, H_matrix, B)"
   ],
   "id": "8a0fcd88b31032df",
   "outputs": [
    {
     "name": "stdout",
     "output_type": "stream",
     "text": [
      "Исходное сообщение: [1 0 0 1 1 0 0 0 1 0 1 0]\n",
      "Отправленное сообщение [1 0 0 1 1 0 0 0 1 0 1 0 1 1 0 0 1 1 1 0 1 0 0 1]\n",
      "Ошибка: [0 0 0 0 0 0 0 0 0 0 0 0 0 0 0 0 0 0 0 0 0 0 1 0]\n",
      "Сообщение с ошибкой [1 0 0 1 1 0 0 0 1 0 1 0 1 1 0 0 1 1 1 0 1 0 1 1]\n",
      "Исправленное отправленное сообщение: [1 0 0 1 1 0 0 0 1 0 1 0 1 1 0 0 1 1 1 0 1 0 0 1]\n"
     ]
    }
   ],
   "execution_count": 27
  },
  {
   "metadata": {},
   "cell_type": "markdown",
   "source": "### Двукратная ошибка",
   "id": "9ddc1aa3cf5a45e2"
  },
  {
   "metadata": {
    "ExecuteTime": {
     "end_time": "2024-10-25T07:59:06.897925Z",
     "start_time": "2024-10-25T07:59:06.892570Z"
    }
   },
   "cell_type": "code",
   "source": "set_error(send, 2, G_matrix, H_matrix, B)",
   "id": "b31022146dff1113",
   "outputs": [
    {
     "name": "stdout",
     "output_type": "stream",
     "text": [
      "Исходное сообщение: [1 0 0 1 1 0 0 0 1 0 1 0]\n",
      "Отправленное сообщение [1 0 0 1 1 0 0 0 1 0 1 0 1 1 0 0 1 1 1 0 1 0 0 1]\n",
      "Ошибка: [0 0 0 0 0 0 0 1 0 0 0 0 1 0 0 0 0 0 0 0 0 0 0 0]\n",
      "Сообщение с ошибкой [1 0 0 1 1 0 0 1 1 0 1 0 0 1 0 0 1 1 1 0 1 0 0 1]\n",
      "Исправленное отправленное сообщение: [1 0 0 1 1 0 0 0 1 0 1 0 1 1 0 0 1 1 1 0 1 0 0 1]\n"
     ]
    }
   ],
   "execution_count": 28
  },
  {
   "metadata": {},
   "cell_type": "markdown",
   "source": "### Трехкратная ошибка",
   "id": "c980f383274ad52f"
  },
  {
   "metadata": {
    "ExecuteTime": {
     "end_time": "2024-10-25T07:59:07.026935Z",
     "start_time": "2024-10-25T07:59:07.018055Z"
    }
   },
   "cell_type": "code",
   "source": "set_error(send, 3, G_matrix, H_matrix, B)",
   "id": "b255121ac7fe995a",
   "outputs": [
    {
     "name": "stdout",
     "output_type": "stream",
     "text": [
      "Исходное сообщение: [1 0 0 1 1 0 0 0 1 0 1 0]\n",
      "Отправленное сообщение [1 0 0 1 1 0 0 0 1 0 1 0 1 1 0 0 1 1 1 0 1 0 0 1]\n",
      "Ошибка: [0 0 0 0 1 0 0 0 0 0 0 0 0 0 0 0 0 0 1 0 0 0 1 0]\n",
      "Сообщение с ошибкой [1 0 0 1 0 0 0 0 1 0 1 0 1 1 0 0 1 1 0 0 1 0 1 1]\n",
      "Исправленное отправленное сообщение: [1 0 0 1 1 0 0 0 1 0 1 0 1 1 0 0 1 1 1 0 1 0 0 1]\n"
     ]
    }
   ],
   "execution_count": 29
  },
  {
   "metadata": {},
   "cell_type": "markdown",
   "source": "### Четырёхкратная ошибка",
   "id": "21c60a712623958c"
  },
  {
   "metadata": {
    "ExecuteTime": {
     "end_time": "2024-10-25T07:59:07.078942Z",
     "start_time": "2024-10-25T07:59:07.073493Z"
    }
   },
   "cell_type": "code",
   "source": "set_error(send, 4, G_matrix, H_matrix, B)",
   "id": "6414b51df2737ba2",
   "outputs": [
    {
     "name": "stdout",
     "output_type": "stream",
     "text": [
      "Исходное сообщение: [1 0 0 1 1 0 0 0 1 0 1 0]\n",
      "Отправленное сообщение [1 0 0 1 1 0 0 0 1 0 1 0 1 1 0 0 1 1 1 0 1 0 0 1]\n",
      "Ошибка: [0 0 0 0 0 1 0 0 1 0 0 0 1 0 1 0 0 0 0 0 0 0 0 0]\n",
      "Сообщение с ошибкой [1 0 0 1 1 1 0 0 0 0 1 0 0 1 1 0 1 1 1 0 1 0 0 1]\n",
      "Ошибка обнаружена, нельзя исправить\n"
     ]
    }
   ],
   "execution_count": 30
  },
  {
   "metadata": {},
   "cell_type": "markdown",
   "source": "# Часть 2",
   "id": "fb0a0c34be3f4f1b"
  },
  {
   "metadata": {},
   "cell_type": "markdown",
   "source": "## 1. Написать функцию формирования порождающей и проверочных матриц кода Рида-Маллера 𝑅𝑀(𝑟,𝑚) на основе параметров 𝑟 и 𝑚.",
   "id": "4b78f0196535fc14"
  },
  {
   "metadata": {
    "ExecuteTime": {
     "end_time": "2024-10-25T07:59:07.153191Z",
     "start_time": "2024-10-25T07:59:07.147426Z"
    }
   },
   "cell_type": "code",
   "source": [
    "def reed_muller_matrix(r, m):\n",
    "    if r == 0:\n",
    "        return np.ones((1, 2 ** m), dtype=int)\n",
    "\n",
    "    if r == m:\n",
    "        G_m = reed_muller_matrix(m - 1, m)\n",
    "        bottom_row = np.zeros((1, 2 ** m), dtype=int)\n",
    "        bottom_row[0, -1] = 1\n",
    "        return np.vstack([G_m, bottom_row])\n",
    "\n",
    "    G_r_m = reed_muller_matrix(r, m - 1)\n",
    "    G_r_m_1 = reed_muller_matrix(r - 1, m - 1)\n",
    "\n",
    "    top = np.hstack([G_r_m, G_r_m])\n",
    "    bottom = np.hstack([np.zeros((G_r_m_1.shape[0], G_r_m_1.shape[1]), dtype=int), G_r_m_1])\n",
    "\n",
    "    return np.vstack([top, bottom])"
   ],
   "id": "4c47ff645340161",
   "outputs": [],
   "execution_count": 31
  },
  {
   "metadata": {},
   "cell_type": "markdown",
   "source": "## 2. Провести исследование кода Рида-Маллера 𝑅𝑀(1,3) для одно- и двукратных ошибок.",
   "id": "db3a4473906ce774"
  },
  {
   "metadata": {
    "ExecuteTime": {
     "end_time": "2024-10-25T07:59:07.235650Z",
     "start_time": "2024-10-25T07:59:07.229371Z"
    }
   },
   "cell_type": "code",
   "source": [
    "G = reed_muller_matrix(1, 3)\n",
    "G"
   ],
   "id": "9e8492d0c5cff162",
   "outputs": [
    {
     "data": {
      "text/plain": [
       "array([[1, 1, 1, 1, 1, 1, 1, 1],\n",
       "       [0, 1, 0, 1, 0, 1, 0, 1],\n",
       "       [0, 0, 1, 1, 0, 0, 1, 1],\n",
       "       [0, 0, 0, 0, 1, 1, 1, 1]])"
      ]
     },
     "execution_count": 32,
     "metadata": {},
     "output_type": "execute_result"
    }
   ],
   "execution_count": 32
  },
  {
   "metadata": {
    "ExecuteTime": {
     "end_time": "2024-10-25T07:59:07.329469Z",
     "start_time": "2024-10-25T07:59:07.324956Z"
    }
   },
   "cell_type": "code",
   "source": [
    "def kronecker(A, B):\n",
    "    rows_A, cols_A = A.shape\n",
    "    rows_B, cols_B = B.shape\n",
    "\n",
    "    result = np.zeros((rows_A * rows_B, cols_A * cols_B), dtype=A.dtype)\n",
    "    for i in range(rows_A):\n",
    "        for j in range(cols_A):\n",
    "            result[i * rows_B:(i + 1) * rows_B, j * cols_B:(j + 1) * cols_B] = A[i, j] * B\n",
    "    return result"
   ],
   "id": "b011bee57f71fb38",
   "outputs": [],
   "execution_count": 33
  },
  {
   "metadata": {
    "ExecuteTime": {
     "end_time": "2024-10-25T07:59:07.400509Z",
     "start_time": "2024-10-25T07:59:07.395271Z"
    }
   },
   "cell_type": "code",
   "source": [
    "def Hmi_matrix(H, m, i):\n",
    "    matrix = np.eye(2 ** (m - i), dtype=int)\n",
    "    matrix = kronecker(matrix, H)\n",
    "    matrix = kronecker(matrix, np.eye(2 ** (i - 1)))\n",
    "    return matrix"
   ],
   "id": "61262b6545124db",
   "outputs": [],
   "execution_count": 34
  },
  {
   "metadata": {
    "ExecuteTime": {
     "end_time": "2024-10-25T07:59:07.469689Z",
     "start_time": "2024-10-25T07:59:07.461156Z"
    }
   },
   "cell_type": "code",
   "source": [
    "def set_error_RM(send, errors_count, G, m):\n",
    "    print(f'Исходное сообщение: {send}')\n",
    "    \n",
    "    receive = send @ G % 2\n",
    "    print(f'Отправленное сообщение: {receive}')\n",
    "    \n",
    "    error = np.zeros(receive.shape[0], dtype=int)\n",
    "    error_indices = random.sample(range(receive.shape[0]), errors_count)\n",
    "    for index in error_indices:\n",
    "        error[index] = 1\n",
    "    print(f'Допущенная ошибка: {error}')\n",
    "    \n",
    "    receive = (receive + error) % 2\n",
    "    print(f'Сообщение с ошибкой: {receive}')\n",
    "\n",
    "    for i in range(len(receive)):\n",
    "        if receive[i] == 0:\n",
    "            receive[i] = -1\n",
    "            \n",
    "    w_array = []\n",
    "    H = np.array([[1, 1], [1, -1]])\n",
    "    w_array.append(receive @ Hmi_matrix(H, m, 1))\n",
    "    for i in range(2, m + 1):\n",
    "        w_array.append(w_array[-1] @ Hmi_matrix(H, m, i))\n",
    "        \n",
    "    maximum = w_array[0][0]\n",
    "    index = -1\n",
    "    for i in range(len(w_array)):\n",
    "        for j in range(len(w_array[i])):\n",
    "            if abs(w_array[i][j]) > abs(maximum):\n",
    "                index = j\n",
    "                maximum = w_array[i][j]\n",
    "                \n",
    "    counter = 0\n",
    "    for i in range(len(w_array)):\n",
    "        for j in range(len(w_array[i])):\n",
    "            if abs(w_array[i][j]) == abs(maximum):\n",
    "                counter += 1\n",
    "            if counter > 1:\n",
    "                print('Невозможно исправить ошибку')\n",
    "                return\n",
    "            \n",
    "    message = list(map(int, list(('{' + f'0:0{m}b' + '}').format(index))))\n",
    "    message.append(1 if maximum > 0 else 0)\n",
    "    print(f'Исправленное сообщение: {np.array(message[::-1])}')\n",
    "    \n",
    "    if not np.array_equal(send, message):\n",
    "        print('Сообщение было декодировано с ошибкой')"
   ],
   "id": "844268a498cf7216",
   "outputs": [],
   "execution_count": 35
  },
  {
   "metadata": {},
   "cell_type": "markdown",
   "source": "### Однократная ошибка",
   "id": "18c78f2488930a89"
  },
  {
   "metadata": {
    "ExecuteTime": {
     "end_time": "2024-10-25T07:59:07.521884Z",
     "start_time": "2024-10-25T07:59:07.514003Z"
    }
   },
   "cell_type": "code",
   "source": [
    "m = 3\n",
    "send = np.array([1, 0, 0, 1])\n",
    "set_error_RM(send, 1, G, m)"
   ],
   "id": "dd379e0fcbe6e40a",
   "outputs": [
    {
     "name": "stdout",
     "output_type": "stream",
     "text": [
      "Исходное сообщение: [1 0 0 1]\n",
      "Отправленное сообщение: [1 1 1 1 0 0 0 0]\n",
      "Допущенная ошибка: [0 0 0 1 0 0 0 0]\n",
      "Сообщение с ошибкой: [1 1 1 0 0 0 0 0]\n",
      "Исправленное сообщение: [1 0 0 1]\n"
     ]
    }
   ],
   "execution_count": 36
  },
  {
   "metadata": {},
   "cell_type": "markdown",
   "source": "### Двукратная ошибка",
   "id": "e863b8b991b6c668"
  },
  {
   "metadata": {
    "ExecuteTime": {
     "end_time": "2024-10-25T07:59:07.580563Z",
     "start_time": "2024-10-25T07:59:07.575655Z"
    }
   },
   "cell_type": "code",
   "source": "set_error_RM(send, 2, G, m)",
   "id": "b2528e8461c915cb",
   "outputs": [
    {
     "name": "stdout",
     "output_type": "stream",
     "text": [
      "Исходное сообщение: [1 0 0 1]\n",
      "Отправленное сообщение: [1 1 1 1 0 0 0 0]\n",
      "Допущенная ошибка: [0 1 0 0 0 0 1 0]\n",
      "Сообщение с ошибкой: [1 0 1 1 0 0 1 0]\n",
      "Невозможно исправить ошибку\n"
     ]
    }
   ],
   "execution_count": 37
  },
  {
   "metadata": {},
   "cell_type": "markdown",
   "source": "# 3. Провести исследование кода Рида-Маллера 𝑅𝑀(1,4) для одно-, двух-, трёх- и четырёхкратных ошибок.",
   "id": "175b6b2a849edf0c"
  },
  {
   "metadata": {
    "ExecuteTime": {
     "end_time": "2024-10-25T07:59:07.666666Z",
     "start_time": "2024-10-25T07:59:07.660307Z"
    }
   },
   "cell_type": "code",
   "source": [
    "G = reed_muller_matrix(1, 4)\n",
    "G"
   ],
   "id": "8c8cfba2e1c8ca3c",
   "outputs": [
    {
     "data": {
      "text/plain": [
       "array([[1, 1, 1, 1, 1, 1, 1, 1, 1, 1, 1, 1, 1, 1, 1, 1],\n",
       "       [0, 1, 0, 1, 0, 1, 0, 1, 0, 1, 0, 1, 0, 1, 0, 1],\n",
       "       [0, 0, 1, 1, 0, 0, 1, 1, 0, 0, 1, 1, 0, 0, 1, 1],\n",
       "       [0, 0, 0, 0, 1, 1, 1, 1, 0, 0, 0, 0, 1, 1, 1, 1],\n",
       "       [0, 0, 0, 0, 0, 0, 0, 0, 1, 1, 1, 1, 1, 1, 1, 1]])"
      ]
     },
     "execution_count": 38,
     "metadata": {},
     "output_type": "execute_result"
    }
   ],
   "execution_count": 38
  },
  {
   "metadata": {},
   "cell_type": "markdown",
   "source": "### Однократная ошибка",
   "id": "6c63631c676d3ed5"
  },
  {
   "metadata": {
    "ExecuteTime": {
     "end_time": "2024-10-25T07:59:07.831754Z",
     "start_time": "2024-10-25T07:59:07.821477Z"
    }
   },
   "cell_type": "code",
   "source": [
    "m = 4\n",
    "send = np.array([1, 0, 1, 0, 1])\n",
    "set_error_RM(send, 1, G, m)"
   ],
   "id": "23e3f1740a4189e5",
   "outputs": [
    {
     "name": "stdout",
     "output_type": "stream",
     "text": [
      "Исходное сообщение: [1 0 1 0 1]\n",
      "Отправленное сообщение: [1 1 0 0 1 1 0 0 0 0 1 1 0 0 1 1]\n",
      "Допущенная ошибка: [0 0 0 0 0 0 0 0 0 0 0 1 0 0 0 0]\n",
      "Сообщение с ошибкой: [1 1 0 0 1 1 0 0 0 0 1 0 0 0 1 1]\n",
      "Исправленное сообщение: [1 0 1 0 1]\n"
     ]
    }
   ],
   "execution_count": 39
  },
  {
   "metadata": {},
   "cell_type": "markdown",
   "source": "### Двукратная ошибка",
   "id": "c84a9e934fc48d71"
  },
  {
   "metadata": {
    "ExecuteTime": {
     "end_time": "2024-10-25T08:00:59.572117Z",
     "start_time": "2024-10-25T08:00:59.564843Z"
    }
   },
   "cell_type": "code",
   "source": "set_error_RM(send, 2, G, m)",
   "id": "baf6275011b9abf0",
   "outputs": [
    {
     "name": "stdout",
     "output_type": "stream",
     "text": [
      "Исходное сообщение: [1 0 1 0 1]\n",
      "Отправленное сообщение: [1 1 0 0 1 1 0 0 0 0 1 1 0 0 1 1]\n",
      "Допущенная ошибка: [0 0 0 0 0 0 0 0 0 0 1 1 0 0 0 0]\n",
      "Сообщение с ошибкой: [1 1 0 0 1 1 0 0 0 0 0 0 0 0 1 1]\n",
      "Исправленное сообщение: [1 0 1 0 1]\n"
     ]
    }
   ],
   "execution_count": 41
  },
  {
   "metadata": {},
   "cell_type": "markdown",
   "source": "### Трёхкратная ошибка",
   "id": "a8c36172c5dba30f"
  },
  {
   "metadata": {
    "ExecuteTime": {
     "end_time": "2024-10-25T08:01:04.010129Z",
     "start_time": "2024-10-25T08:01:04.003781Z"
    }
   },
   "cell_type": "code",
   "source": "set_error_RM(send, 3, G, m)",
   "id": "20b70705620a8112",
   "outputs": [
    {
     "name": "stdout",
     "output_type": "stream",
     "text": [
      "Исходное сообщение: [1 0 1 0 1]\n",
      "Отправленное сообщение: [1 1 0 0 1 1 0 0 0 0 1 1 0 0 1 1]\n",
      "Допущенная ошибка: [0 0 0 0 0 1 1 0 0 1 0 0 0 0 0 0]\n",
      "Сообщение с ошибкой: [1 1 0 0 1 0 1 0 0 1 1 1 0 0 1 1]\n",
      "Исправленное сообщение: [1 0 1 0 1]\n"
     ]
    }
   ],
   "execution_count": 42
  },
  {
   "metadata": {},
   "cell_type": "markdown",
   "source": "### Четырёхкратная ошибка",
   "id": "a4007b8df197c157"
  },
  {
   "metadata": {
    "ExecuteTime": {
     "end_time": "2024-10-25T08:01:06.668849Z",
     "start_time": "2024-10-25T08:01:06.660152Z"
    }
   },
   "cell_type": "code",
   "source": "set_error_RM(send, 4, G, m)",
   "id": "f368461728d98d20",
   "outputs": [
    {
     "name": "stdout",
     "output_type": "stream",
     "text": [
      "Исходное сообщение: [1 0 1 0 1]\n",
      "Отправленное сообщение: [1 1 0 0 1 1 0 0 0 0 1 1 0 0 1 1]\n",
      "Допущенная ошибка: [1 0 0 0 0 1 0 1 0 0 0 0 0 0 0 1]\n",
      "Сообщение с ошибкой: [0 1 0 0 1 0 0 1 0 0 1 1 0 0 1 0]\n",
      "Невозможно исправить ошибку\n"
     ]
    }
   ],
   "execution_count": 43
  },
  {
   "metadata": {},
   "cell_type": "code",
   "outputs": [],
   "execution_count": null,
   "source": "",
   "id": "f18fbddcd5bfb913"
  }
 ],
 "metadata": {
  "kernelspec": {
   "display_name": "Python 3",
   "language": "python",
   "name": "python3"
  },
  "language_info": {
   "codemirror_mode": {
    "name": "ipython",
    "version": 2
   },
   "file_extension": ".py",
   "mimetype": "text/x-python",
   "name": "python",
   "nbconvert_exporter": "python",
   "pygments_lexer": "ipython2",
   "version": "2.7.6"
  }
 },
 "nbformat": 4,
 "nbformat_minor": 5
}
