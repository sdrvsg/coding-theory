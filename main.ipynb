{
 "cells": [
  {
   "cell_type": "code",
   "id": "initial_id",
   "metadata": {
    "collapsed": true,
    "ExecuteTime": {
     "end_time": "2024-09-13T07:41:51.756470Z",
     "start_time": "2024-09-13T07:41:51.753277Z"
    }
   },
   "source": [
    "import numpy as np\n",
    "import itertools"
   ],
   "outputs": [],
   "execution_count": 75
  },
  {
   "metadata": {},
   "cell_type": "markdown",
   "source": "# 1.1 Реализовать функцию REF(), приводящую матрицу к ступенчатому виду.",
   "id": "71d234dd17c66f71"
  },
  {
   "metadata": {
    "ExecuteTime": {
     "end_time": "2024-09-13T07:41:51.798002Z",
     "start_time": "2024-09-13T07:41:51.790649Z"
    }
   },
   "cell_type": "code",
   "source": [
    "def ref(matrix):\n",
    "    matrix = np.array(matrix, dtype=int)\n",
    "\n",
    "    rows, cols = matrix.shape\n",
    "    lead = 0\n",
    "\n",
    "    for r in range(rows):\n",
    "        if lead >= cols:\n",
    "            return matrix\n",
    "\n",
    "        i = r\n",
    "        while matrix[i, lead] == 0:\n",
    "            i += 1\n",
    "            if i == rows:\n",
    "                i = r\n",
    "                lead += 1\n",
    "                if lead == cols:\n",
    "                    return matrix\n",
    "\n",
    "        matrix[[i, r]] = matrix[[r, i]]\n",
    "\n",
    "        for i in range(r + 1, rows):\n",
    "            if matrix[i, lead] == 1:\n",
    "                matrix[i] = matrix[i] ^ matrix[r]\n",
    "\n",
    "        lead += 1\n",
    "\n",
    "    return matrix"
   ],
   "id": "e597d42402971db9",
   "outputs": [],
   "execution_count": 76
  },
  {
   "metadata": {
    "ExecuteTime": {
     "end_time": "2024-09-13T07:41:51.833571Z",
     "start_time": "2024-09-13T07:41:51.824572Z"
    }
   },
   "cell_type": "code",
   "source": [
    "m = [[1, 0, 1, 1, 0, 0, 0, 1, 0, 0, 1],\n",
    "     [0, 0, 0, 1, 1, 1, 0, 1, 0, 1, 0],\n",
    "     [0, 0, 0, 0, 1, 0, 0, 1, 0, 0, 1],\n",
    "     [0, 0, 0, 0, 0, 0, 1, 0, 0, 1, 0],\n",
    "     [0, 0, 0, 0, 0, 0, 0, 0, 1, 1, 1]]\n",
    "ref(m)"
   ],
   "id": "fff47ebea5919fd7",
   "outputs": [
    {
     "data": {
      "text/plain": [
       "array([[1, 0, 1, 1, 0, 0, 0, 1, 0, 0, 1],\n",
       "       [0, 0, 0, 1, 1, 1, 0, 1, 0, 1, 0],\n",
       "       [0, 0, 0, 0, 1, 0, 0, 1, 0, 0, 1],\n",
       "       [0, 0, 0, 0, 0, 0, 1, 0, 0, 1, 0],\n",
       "       [0, 0, 0, 0, 0, 0, 0, 0, 1, 1, 1]])"
      ]
     },
     "execution_count": 77,
     "metadata": {},
     "output_type": "execute_result"
    }
   ],
   "execution_count": 77
  },
  {
   "metadata": {},
   "cell_type": "markdown",
   "source": "# 1.2. Реализовать функцию RREF(), приводящую матрицу к приведённому ступенчатому виду.",
   "id": "c09d37bc133f2856"
  },
  {
   "metadata": {
    "ExecuteTime": {
     "end_time": "2024-09-13T07:41:51.914090Z",
     "start_time": "2024-09-13T07:41:51.906321Z"
    }
   },
   "cell_type": "code",
   "source": [
    "def rref(matrix):\n",
    "    matrix = np.array(matrix, dtype=float)\n",
    "    rows, cols = matrix.shape\n",
    "    lead = 0\n",
    "\n",
    "    for r in range(rows):\n",
    "        if lead >= cols:\n",
    "            return matrix\n",
    "\n",
    "        i = r\n",
    "        while matrix[i, lead] == 0:\n",
    "            i += 1\n",
    "            if i == rows:\n",
    "                i = r\n",
    "                lead += 1\n",
    "                if lead == cols:\n",
    "                    return matrix\n",
    "\n",
    "        matrix[[i, r]] = matrix[[r, i]]\n",
    "\n",
    "        lv = matrix[r, lead]\n",
    "        matrix[r] = matrix[r] / lv\n",
    "\n",
    "        for i in range(rows):\n",
    "            if i != r:\n",
    "                lv = matrix[i, lead]\n",
    "                matrix[i] = matrix[i] - lv * matrix[r]\n",
    "\n",
    "        lead += 1\n",
    "\n",
    "    return matrix"
   ],
   "id": "7075625472002c4b",
   "outputs": [],
   "execution_count": 78
  },
  {
   "metadata": {
    "ExecuteTime": {
     "end_time": "2024-09-13T07:41:52.059976Z",
     "start_time": "2024-09-13T07:41:52.050658Z"
    }
   },
   "cell_type": "code",
   "source": "rref(m)",
   "id": "b85db495b0424ffe",
   "outputs": [
    {
     "data": {
      "text/plain": [
       "array([[ 1.,  0.,  1.,  0.,  0., -1.,  0.,  1.,  0., -1.,  2.],\n",
       "       [ 0.,  0.,  0.,  1.,  0.,  1.,  0.,  0.,  0.,  1., -1.],\n",
       "       [ 0.,  0.,  0.,  0.,  1.,  0.,  0.,  1.,  0.,  0.,  1.],\n",
       "       [ 0.,  0.,  0.,  0.,  0.,  0.,  1.,  0.,  0.,  1.,  0.],\n",
       "       [ 0.,  0.,  0.,  0.,  0.,  0.,  0.,  0.,  1.,  1.,  1.]])"
      ]
     },
     "execution_count": 79,
     "metadata": {},
     "output_type": "execute_result"
    }
   ],
   "execution_count": 79
  },
  {
   "metadata": {},
   "cell_type": "markdown",
   "source": "# 1.3. Создать класс линейных кодов LinearCode.",
   "id": "1be0b5be14ace909"
  },
  {
   "metadata": {
    "ExecuteTime": {
     "end_time": "2024-09-13T07:41:52.280027Z",
     "start_time": "2024-09-13T07:41:52.264724Z"
    }
   },
   "cell_type": "code",
   "source": [
    "class LinearCode:\n",
    "    def __init__(self, matrix):\n",
    "        self.matrix = np.array(matrix, dtype=int)\n",
    "        self.lead = []\n",
    "        self.check = []\n",
    "\n",
    "    def ref(self):\n",
    "        rows, cols = self.matrix.shape\n",
    "        lead = 0\n",
    "        \n",
    "        for r in range(rows):\n",
    "            if lead >= cols:\n",
    "                return\n",
    "        \n",
    "            i = r\n",
    "            while self.matrix[i, lead] == 0:\n",
    "                i += 1\n",
    "                if i == rows:\n",
    "                    i = r\n",
    "                    lead += 1\n",
    "                    if lead == cols:\n",
    "                        return\n",
    "\n",
    "            self.matrix[[i, r]] = self.matrix[[r, i]]\n",
    "        \n",
    "            for i in range(r + 1, rows):\n",
    "                if self.matrix[i, lead] == 1:\n",
    "                    self.matrix[i] = self.matrix[i] ^ self.matrix[r]\n",
    "        \n",
    "            lead += 1\n",
    "\n",
    "    def rref(self):\n",
    "        rows, cols = self.matrix.shape\n",
    "        lead = 0\n",
    "        \n",
    "        for r in range(rows):\n",
    "            if lead >= cols:\n",
    "                return\n",
    "        \n",
    "            i = r\n",
    "            while self.matrix[i, lead] == 0:\n",
    "                i += 1\n",
    "                if i == rows:\n",
    "                    i = r\n",
    "                    lead += 1\n",
    "                    if lead == cols:\n",
    "                        return\n",
    "\n",
    "            self.matrix[[i, r]] = self.matrix[[r, i]]\n",
    "        \n",
    "            lv = self.matrix[r, lead]\n",
    "            self.matrix[r] = self.matrix[r] / lv\n",
    "        \n",
    "            for i in range(rows):\n",
    "                if i != r:\n",
    "                    lv = self.matrix[i, lead]\n",
    "                    self.matrix[i] = self.matrix[i] - lv * self.matrix[r]\n",
    "        \n",
    "            lead += 1\n",
    "\n",
    "    def delete_null(self):\n",
    "        for i in range(0,self.matrix.shape[0]):\n",
    "            if 1 not in self.matrix[i,:]:\n",
    "                self.matrix = np.delete(self.matrix, i, axis=0)\n",
    "\n",
    "    def count_k_n(self):\n",
    "        return self.matrix.shape[1], self.matrix.shape[0]\n",
    "\n",
    "    def fix_lead(self):\n",
    "        self.lead = []\n",
    "        for i in range(0, self.matrix.shape[0]):\n",
    "            ones = np.where(self.matrix[i, :] == 1)\n",
    "            if ones[0].size == 0:\n",
    "                return\n",
    "            else:\n",
    "                self.lead.append(ones[0][0])\n",
    "\n",
    "    def delete_lead(self):\n",
    "        for i in range(0, len(self.lead)):\n",
    "            self.matrix = np.delete(self.matrix, self.lead[i] - i, axis=1)\n",
    "\n",
    "    def checking_matrix(self):\n",
    "        self.check = []\n",
    "        temp = np.eye(self.matrix.shape[1], dtype = int)\n",
    "        k = s = 0\n",
    "        for i in range(0, self.matrix.shape[0] + self.matrix.shape[1]):\n",
    "            if i in self.lead:\n",
    "                self.check.append(self.matrix[k])\n",
    "                k += 1\n",
    "            else:\n",
    "                self.check.append(temp[s])\n",
    "                s += 1\n",
    "        self.check = np.array(self.check)\n",
    "\n",
    "    def generate_code_words_summing(self):\n",
    "        \"\"\" Формируем кодовые слова, складывая все слова из порождающего множества \"\"\"\n",
    "        zeros = np.zeros(self.matrix.shape[1], dtype=int)\n",
    "        final_word = set()\n",
    "        final_word.add(tuple(zeros.tolist()))\n",
    "        for i in range(1, self.matrix.shape[0] + 1):\n",
    "            words = list(itertools.combinations(range(self.matrix.shape[0]), i))\n",
    "            for c in words:\n",
    "                word = np.zeros(self.matrix.shape[1], dtype=int)\n",
    "                for j in c:\n",
    "                    word += self.matrix[j, :]\n",
    "                word %= 2\n",
    "                final_word.add(tuple(word.tolist()))\n",
    "        return np.array(list(final_word))\n",
    "\n",
    "    def generate_code_words_k(self):\n",
    "        \"\"\" Формируем кодовые слова, беря все кодовые слова длины k и умножая на матрицу \"\"\"\n",
    "        n, k = self.count_k_n()\n",
    "        final_code = itertools.product(range(2), repeat=k)\n",
    "        answer = []\n",
    "        for code in final_code:\n",
    "            one_word = np.dot(code,self.matrix) % 2\n",
    "            answer.append(one_word)\n",
    "        return answer"
   ],
   "id": "d13e23b27de22973",
   "outputs": [],
   "execution_count": 80
  },
  {
   "metadata": {},
   "cell_type": "markdown",
   "source": "## 1.3.1 На основе входной матрицы сформировать порождающую матрицу в ступенчатом виде.",
   "id": "c230fa5abe203ccf"
  },
  {
   "metadata": {
    "ExecuteTime": {
     "end_time": "2024-09-13T07:41:52.516593Z",
     "start_time": "2024-09-13T07:41:52.510560Z"
    }
   },
   "cell_type": "code",
   "source": [
    "linear_code = LinearCode(m)\n",
    "linear_code.rref()\n",
    "linear_code.delete_null()\n",
    "linear_code.matrix"
   ],
   "id": "f9f26afcc0c40894",
   "outputs": [
    {
     "data": {
      "text/plain": [
       "array([[ 1,  0,  1,  0,  0, -1,  0,  1,  0, -1,  2],\n",
       "       [ 0,  0,  0,  1,  0,  1,  0,  0,  0,  1, -1],\n",
       "       [ 0,  0,  0,  0,  1,  0,  0,  1,  0,  0,  1],\n",
       "       [ 0,  0,  0,  0,  0,  0,  1,  0,  0,  1,  0],\n",
       "       [ 0,  0,  0,  0,  0,  0,  0,  0,  1,  1,  1]])"
      ]
     },
     "execution_count": 81,
     "metadata": {},
     "output_type": "execute_result"
    }
   ],
   "execution_count": 81
  },
  {
   "metadata": {},
   "cell_type": "markdown",
   "source": "## 1.3.2 Задать n равное числу столбцов и k равное числу строк полученной матрицы (без учёта полностью нулевых строк).",
   "id": "1745bd66dc624f7c"
  },
  {
   "metadata": {
    "ExecuteTime": {
     "end_time": "2024-09-13T07:41:52.792271Z",
     "start_time": "2024-09-13T07:41:52.786384Z"
    }
   },
   "cell_type": "code",
   "source": "linear_code.count_k_n()",
   "id": "970de2aa3210f399",
   "outputs": [
    {
     "data": {
      "text/plain": [
       "(11, 5)"
      ]
     },
     "execution_count": 82,
     "metadata": {},
     "output_type": "execute_result"
    }
   ],
   "execution_count": 82
  },
  {
   "metadata": {},
   "cell_type": "markdown",
   "source": "## Шаг 2. Зафиксировать ведущие столбцы lead матрицы 𝐆∗.",
   "id": "e8be950f32fa88ce"
  },
  {
   "metadata": {
    "ExecuteTime": {
     "end_time": "2024-09-13T07:41:52.923448Z",
     "start_time": "2024-09-13T07:41:52.916085Z"
    }
   },
   "cell_type": "code",
   "source": [
    "linear_code.fix_lead()\n",
    "linear_code.lead"
   ],
   "id": "a81b5b932b66aab2",
   "outputs": [
    {
     "data": {
      "text/plain": [
       "[np.int64(0), np.int64(3), np.int64(4), np.int64(6), np.int64(8)]"
      ]
     },
     "execution_count": 83,
     "metadata": {},
     "output_type": "execute_result"
    }
   ],
   "execution_count": 83
  },
  {
   "metadata": {},
   "cell_type": "markdown",
   "source": "## Шаг 3. Сформировать сокращённую матрицу 𝐗, удалив ведущие столбцы матрицы 𝐆∗.",
   "id": "965db641362e9fcb"
  },
  {
   "metadata": {
    "ExecuteTime": {
     "end_time": "2024-09-13T07:41:53.183014Z",
     "start_time": "2024-09-13T07:41:53.175968Z"
    }
   },
   "cell_type": "code",
   "source": [
    "linear_code.delete_lead()\n",
    "linear_code.matrix"
   ],
   "id": "68f1ac600d35a0ce",
   "outputs": [
    {
     "data": {
      "text/plain": [
       "array([[ 0,  1, -1,  1, -1,  2],\n",
       "       [ 0,  0,  1,  0,  1, -1],\n",
       "       [ 0,  0,  0,  1,  0,  1],\n",
       "       [ 0,  0,  0,  0,  1,  0],\n",
       "       [ 0,  0,  0,  0,  1,  1]])"
      ]
     },
     "execution_count": 84,
     "metadata": {},
     "output_type": "execute_result"
    }
   ],
   "execution_count": 84
  },
  {
   "metadata": {},
   "cell_type": "markdown",
   "source": "## Шаг 4. Сформировать матрицу 𝐇, поместив в строки, соответствующие позициям ведущих столбцов строки из 𝐗, а в остальные – строки единичной матрицы.",
   "id": "c21f962d558998c4"
  },
  {
   "metadata": {
    "ExecuteTime": {
     "end_time": "2024-09-13T07:41:53.315608Z",
     "start_time": "2024-09-13T07:41:53.309978Z"
    }
   },
   "cell_type": "code",
   "source": [
    "linear_code.checking_matrix()\n",
    "linear_code.check"
   ],
   "id": "2517a258e0c5bd21",
   "outputs": [
    {
     "data": {
      "text/plain": [
       "array([[ 0,  1, -1,  1, -1,  2],\n",
       "       [ 1,  0,  0,  0,  0,  0],\n",
       "       [ 0,  1,  0,  0,  0,  0],\n",
       "       [ 0,  0,  1,  0,  1, -1],\n",
       "       [ 0,  0,  0,  1,  0,  1],\n",
       "       [ 0,  0,  1,  0,  0,  0],\n",
       "       [ 0,  0,  0,  0,  1,  0],\n",
       "       [ 0,  0,  0,  1,  0,  0],\n",
       "       [ 0,  0,  0,  0,  1,  1],\n",
       "       [ 0,  0,  0,  0,  1,  0],\n",
       "       [ 0,  0,  0,  0,  0,  1]])"
      ]
     },
     "execution_count": 85,
     "metadata": {},
     "output_type": "execute_result"
    }
   ],
   "execution_count": 85
  },
  {
   "metadata": {},
   "cell_type": "markdown",
   "source": "# 1.4. Сформировать все кодовые слова длины n двумя способами.",
   "id": "42e20bfb712a1b2b"
  },
  {
   "metadata": {
    "ExecuteTime": {
     "end_time": "2024-09-13T07:41:53.489092Z",
     "start_time": "2024-09-13T07:41:53.478979Z"
    }
   },
   "cell_type": "code",
   "source": [
    "G = np.array([\n",
    "    [1, 0, 1, 1, 0, 0, 0, 1, 0, 0, 1],\n",
    "    [0, 0, 0, 1, 1, 1, 0, 1, 0, 1, 0],\n",
    "    [0, 0, 0, 0, 1, 0, 0, 1, 0, 0, 1],\n",
    "    [0, 0, 0, 0, 0, 0, 1, 0, 0, 1, 0],\n",
    "    [0, 0, 0, 0, 0, 0, 0, 0, 1, 1, 1]\n",
    "])\n",
    "\n",
    "H = np.array([\n",
    "    [0, 1, 1, 1, 1, 0],\n",
    "    [1, 0, 0, 0, 0, 0],\n",
    "    [0, 1, 0, 0, 0, 0],\n",
    "    [0, 0, 1, 0, 1, 1],\n",
    "    [0, 0, 0, 1, 0, 1],\n",
    "    [0, 0, 1, 0, 0, 0],\n",
    "    [0, 0, 0, 0, 1, 0],\n",
    "    [0, 0, 0, 1, 0, 0],\n",
    "    [0, 0, 0, 0, 1, 1],\n",
    "    [0, 0, 0, 0, 1, 0],\n",
    "    [0, 0, 0, 0, 0, 1]\n",
    "])\n",
    "\n",
    "linear_code = LinearCode(G)"
   ],
   "id": "cc32d930f5e4b87b",
   "outputs": [],
   "execution_count": 86
  },
  {
   "metadata": {},
   "cell_type": "markdown",
   "source": "## 1.4.1 Сложить все слова из порождающего множества, оставить неповторяющиеся.",
   "id": "10e283b1c066f74"
  },
  {
   "metadata": {
    "ExecuteTime": {
     "end_time": "2024-09-13T07:41:53.677128Z",
     "start_time": "2024-09-13T07:41:53.669545Z"
    }
   },
   "cell_type": "code",
   "source": [
    "code_words_summing = linear_code.generate_code_words_summing()\n",
    "code_words_summing"
   ],
   "id": "a6ef64ad3285e68d",
   "outputs": [
    {
     "data": {
      "text/plain": [
       "array([[0, 0, 0, 0, 0, 0, 1, 0, 0, 1, 0],\n",
       "       [0, 0, 0, 1, 1, 1, 1, 1, 1, 1, 1],\n",
       "       [1, 0, 1, 0, 1, 1, 0, 0, 1, 0, 0],\n",
       "       [0, 0, 0, 0, 0, 0, 1, 0, 1, 0, 1],\n",
       "       [1, 0, 1, 1, 1, 0, 1, 0, 0, 1, 0],\n",
       "       [1, 0, 1, 1, 0, 0, 1, 1, 1, 0, 0],\n",
       "       [0, 0, 0, 0, 1, 0, 0, 1, 1, 1, 0],\n",
       "       [0, 0, 0, 1, 1, 1, 1, 1, 0, 0, 0],\n",
       "       [0, 0, 0, 1, 1, 1, 0, 1, 0, 1, 0],\n",
       "       [0, 0, 0, 0, 1, 0, 1, 1, 1, 0, 0],\n",
       "       [1, 0, 1, 1, 0, 0, 1, 1, 0, 1, 1],\n",
       "       [0, 0, 0, 1, 1, 1, 0, 1, 1, 0, 1],\n",
       "       [1, 0, 1, 0, 0, 1, 1, 1, 0, 0, 0],\n",
       "       [1, 0, 1, 0, 0, 1, 1, 1, 1, 1, 1],\n",
       "       [0, 0, 0, 1, 0, 1, 0, 0, 1, 0, 0],\n",
       "       [0, 0, 0, 0, 1, 0, 1, 1, 0, 1, 1],\n",
       "       [0, 0, 0, 0, 1, 0, 0, 1, 0, 0, 1],\n",
       "       [1, 0, 1, 0, 1, 1, 0, 0, 0, 1, 1],\n",
       "       [1, 0, 1, 0, 0, 1, 0, 1, 0, 1, 0],\n",
       "       [0, 0, 0, 0, 0, 0, 0, 0, 0, 0, 0],\n",
       "       [1, 0, 1, 1, 1, 0, 0, 0, 1, 1, 1],\n",
       "       [1, 0, 1, 1, 1, 0, 0, 0, 0, 0, 0],\n",
       "       [1, 0, 1, 1, 1, 0, 1, 0, 1, 0, 1],\n",
       "       [0, 0, 0, 1, 0, 1, 1, 0, 0, 0, 1],\n",
       "       [1, 0, 1, 0, 1, 1, 1, 0, 1, 1, 0],\n",
       "       [1, 0, 1, 1, 0, 0, 0, 1, 1, 1, 0],\n",
       "       [1, 0, 1, 0, 1, 1, 1, 0, 0, 0, 1],\n",
       "       [0, 0, 0, 1, 0, 1, 1, 0, 1, 1, 0],\n",
       "       [1, 0, 1, 0, 0, 1, 0, 1, 1, 0, 1],\n",
       "       [0, 0, 0, 0, 0, 0, 0, 0, 1, 1, 1],\n",
       "       [1, 0, 1, 1, 0, 0, 0, 1, 0, 0, 1],\n",
       "       [0, 0, 0, 1, 0, 1, 0, 0, 0, 1, 1]])"
      ]
     },
     "execution_count": 87,
     "metadata": {},
     "output_type": "execute_result"
    }
   ],
   "execution_count": 87
  },
  {
   "metadata": {},
   "cell_type": "markdown",
   "source": "## 1.4.2 Взять все двоичные слова длины k, умножить каждое на G.",
   "id": "d49c3ad63078dc5e"
  },
  {
   "metadata": {
    "ExecuteTime": {
     "end_time": "2024-09-13T07:41:53.879212Z",
     "start_time": "2024-09-13T07:41:53.872552Z"
    }
   },
   "cell_type": "code",
   "source": [
    "code_words_k = linear_code.generate_code_words_k()\n",
    "code_words_k"
   ],
   "id": "587a24b87e1a6109",
   "outputs": [
    {
     "data": {
      "text/plain": [
       "[array([0, 0, 0, 0, 0, 0, 0, 0, 0, 0, 0]),\n",
       " array([0, 0, 0, 0, 0, 0, 0, 0, 1, 1, 1]),\n",
       " array([0, 0, 0, 0, 0, 0, 1, 0, 0, 1, 0]),\n",
       " array([0, 0, 0, 0, 0, 0, 1, 0, 1, 0, 1]),\n",
       " array([0, 0, 0, 0, 1, 0, 0, 1, 0, 0, 1]),\n",
       " array([0, 0, 0, 0, 1, 0, 0, 1, 1, 1, 0]),\n",
       " array([0, 0, 0, 0, 1, 0, 1, 1, 0, 1, 1]),\n",
       " array([0, 0, 0, 0, 1, 0, 1, 1, 1, 0, 0]),\n",
       " array([0, 0, 0, 1, 1, 1, 0, 1, 0, 1, 0]),\n",
       " array([0, 0, 0, 1, 1, 1, 0, 1, 1, 0, 1]),\n",
       " array([0, 0, 0, 1, 1, 1, 1, 1, 0, 0, 0]),\n",
       " array([0, 0, 0, 1, 1, 1, 1, 1, 1, 1, 1]),\n",
       " array([0, 0, 0, 1, 0, 1, 0, 0, 0, 1, 1]),\n",
       " array([0, 0, 0, 1, 0, 1, 0, 0, 1, 0, 0]),\n",
       " array([0, 0, 0, 1, 0, 1, 1, 0, 0, 0, 1]),\n",
       " array([0, 0, 0, 1, 0, 1, 1, 0, 1, 1, 0]),\n",
       " array([1, 0, 1, 1, 0, 0, 0, 1, 0, 0, 1]),\n",
       " array([1, 0, 1, 1, 0, 0, 0, 1, 1, 1, 0]),\n",
       " array([1, 0, 1, 1, 0, 0, 1, 1, 0, 1, 1]),\n",
       " array([1, 0, 1, 1, 0, 0, 1, 1, 1, 0, 0]),\n",
       " array([1, 0, 1, 1, 1, 0, 0, 0, 0, 0, 0]),\n",
       " array([1, 0, 1, 1, 1, 0, 0, 0, 1, 1, 1]),\n",
       " array([1, 0, 1, 1, 1, 0, 1, 0, 0, 1, 0]),\n",
       " array([1, 0, 1, 1, 1, 0, 1, 0, 1, 0, 1]),\n",
       " array([1, 0, 1, 0, 1, 1, 0, 0, 0, 1, 1]),\n",
       " array([1, 0, 1, 0, 1, 1, 0, 0, 1, 0, 0]),\n",
       " array([1, 0, 1, 0, 1, 1, 1, 0, 0, 0, 1]),\n",
       " array([1, 0, 1, 0, 1, 1, 1, 0, 1, 1, 0]),\n",
       " array([1, 0, 1, 0, 0, 1, 0, 1, 0, 1, 0]),\n",
       " array([1, 0, 1, 0, 0, 1, 0, 1, 1, 0, 1]),\n",
       " array([1, 0, 1, 0, 0, 1, 1, 1, 0, 0, 0]),\n",
       " array([1, 0, 1, 0, 0, 1, 1, 1, 1, 1, 1])]"
      ]
     },
     "execution_count": 88,
     "metadata": {},
     "output_type": "execute_result"
    }
   ],
   "execution_count": 88
  },
  {
   "metadata": {},
   "cell_type": "markdown",
   "source": "### Убедиться, что полученные множества кодовых слов совпадают.",
   "id": "45ddf7c7fe81abf0"
  },
  {
   "metadata": {
    "ExecuteTime": {
     "end_time": "2024-09-13T07:41:54.066517Z",
     "start_time": "2024-09-13T07:41:54.058189Z"
    }
   },
   "cell_type": "code",
   "source": [
    "set_code_word_summing = set()\n",
    "for word in code_words_summing:\n",
    "    set_code_word_summing.add(tuple(word.tolist()))\n",
    "\n",
    "set_code_word_k = set()\n",
    "for word in code_words_k:\n",
    "    set_code_word_k.add(tuple(word.tolist()))\n",
    "    \n",
    "set_code_word_summing == set_code_word_k"
   ],
   "id": "15ead35edddff332",
   "outputs": [
    {
     "data": {
      "text/plain": [
       "True"
      ]
     },
     "execution_count": 89,
     "metadata": {},
     "output_type": "execute_result"
    }
   ],
   "execution_count": 89
  },
  {
   "metadata": {},
   "cell_type": "markdown",
   "source": "### Убедиться, что умножение кодовых слов на проверочную матрицу в результате даёт нулевые вектора",
   "id": "66d15646e079b90a"
  },
  {
   "metadata": {
    "ExecuteTime": {
     "end_time": "2024-09-13T07:41:54.214840Z",
     "start_time": "2024-09-13T07:41:54.206157Z"
    }
   },
   "cell_type": "code",
   "source": [
    "check_zero_matrix = []\n",
    "for code in set_code_word_k:\n",
    "    one_word = np.dot(code, H) % 2\n",
    "    check_zero_matrix.append(one_word)\n",
    "check_zero_matrix"
   ],
   "id": "447812e58aacfa59",
   "outputs": [
    {
     "data": {
      "text/plain": [
       "[array([0, 0, 0, 0, 0, 0]),\n",
       " array([0, 0, 0, 0, 0, 0]),\n",
       " array([0, 0, 0, 0, 0, 0]),\n",
       " array([0, 0, 0, 0, 0, 0]),\n",
       " array([0, 0, 0, 0, 0, 0]),\n",
       " array([0, 0, 0, 0, 0, 0]),\n",
       " array([0, 0, 0, 0, 0, 0]),\n",
       " array([0, 0, 0, 0, 0, 0]),\n",
       " array([0, 0, 0, 0, 0, 0]),\n",
       " array([0, 0, 0, 0, 0, 0]),\n",
       " array([0, 0, 0, 0, 0, 0]),\n",
       " array([0, 0, 0, 0, 0, 0]),\n",
       " array([0, 0, 0, 0, 0, 0]),\n",
       " array([0, 0, 0, 0, 0, 0]),\n",
       " array([0, 0, 0, 0, 0, 0]),\n",
       " array([0, 0, 0, 0, 0, 0]),\n",
       " array([0, 0, 0, 0, 0, 0]),\n",
       " array([0, 0, 0, 0, 0, 0]),\n",
       " array([0, 0, 0, 0, 0, 0]),\n",
       " array([0, 0, 0, 0, 0, 0]),\n",
       " array([0, 0, 0, 0, 0, 0]),\n",
       " array([0, 0, 0, 0, 0, 0]),\n",
       " array([0, 0, 0, 0, 0, 0]),\n",
       " array([0, 0, 0, 0, 0, 0]),\n",
       " array([0, 0, 0, 0, 0, 0]),\n",
       " array([0, 0, 0, 0, 0, 0]),\n",
       " array([0, 0, 0, 0, 0, 0]),\n",
       " array([0, 0, 0, 0, 0, 0]),\n",
       " array([0, 0, 0, 0, 0, 0]),\n",
       " array([0, 0, 0, 0, 0, 0]),\n",
       " array([0, 0, 0, 0, 0, 0]),\n",
       " array([0, 0, 0, 0, 0, 0])]"
      ]
     },
     "execution_count": 90,
     "metadata": {},
     "output_type": "execute_result"
    }
   ],
   "execution_count": 90
  },
  {
   "metadata": {},
   "cell_type": "markdown",
   "source": "# 1.5 Вычислить кодовое расстояние получившегося кода.",
   "id": "1c1cbf73733da778"
  },
  {
   "metadata": {
    "ExecuteTime": {
     "end_time": "2024-09-13T07:41:54.325545Z",
     "start_time": "2024-09-13T07:41:54.318135Z"
    }
   },
   "cell_type": "code",
   "source": [
    "sums = np.sum(G, axis=1)\n",
    "d = sums[np.argmin(sums)]\n",
    "t = d - 1\n",
    "\n",
    "d, t"
   ],
   "id": "150d4fa1f8100778",
   "outputs": [
    {
     "data": {
      "text/plain": [
       "(np.int64(2), np.int64(1))"
      ]
     },
     "execution_count": 91,
     "metadata": {},
     "output_type": "execute_result"
    }
   ],
   "execution_count": 91
  },
  {
   "metadata": {},
   "cell_type": "markdown",
   "source": "## 1.4.1 Внести в кодовое слово ошибку кратности не более t, умножить полученное слово на H, убедиться в обнаружении ошибки.",
   "id": "e133a92b36fc53ee"
  },
  {
   "metadata": {
    "ExecuteTime": {
     "end_time": "2024-09-13T07:41:54.430995Z",
     "start_time": "2024-09-13T07:41:54.425757Z"
    }
   },
   "cell_type": "code",
   "source": [
    "v = np.array([1, 0, 1, 1, 1, 0, 1, 0, 0, 1, 0])\n",
    "e1 = np.array([0, 0, 1, 0, 0, 0, 0, 0, 0, 0, 0])\n",
    "s = (v + e1) % 2\n",
    "print(f'v + e1 = {s}')\n",
    "\n",
    "s2 = np.dot(s, H) % 2\n",
    "print(f'(v + e1)@H = {s2} - error')"
   ],
   "id": "56518f4ad9e907a4",
   "outputs": [
    {
     "name": "stdout",
     "output_type": "stream",
     "text": [
      "v + e1 = [1 0 0 1 1 0 1 0 0 1 0]\n",
      "(v + e1)@H = [0 1 0 0 0 0] - error\n"
     ]
    }
   ],
   "execution_count": 92
  },
  {
   "metadata": {},
   "cell_type": "markdown",
   "source": "## 1.4.2 Найти для некоторого кодового слова ошибку кратности t+1 такую, что при умножении на H ошибка не может быть обнаружена.",
   "id": "b9c18479fdade7c7"
  },
  {
   "metadata": {
    "ExecuteTime": {
     "end_time": "2024-09-13T07:41:54.539386Z",
     "start_time": "2024-09-13T07:41:54.530006Z"
    }
   },
   "cell_type": "code",
   "source": [
    "is_find = 0\n",
    "print(v)\n",
    "\n",
    "for i in range(len(v)):\n",
    "    if is_find:\n",
    "        break\n",
    "    for j in range(len(v)):\n",
    "        if i != j:\n",
    "            e2 = np.zeros(len(v), dtype=int)\n",
    "            e2[i], e2[j] = 1, 1\n",
    "\n",
    "            s = (v + e2) % 2\n",
    "            s2 = np.dot(s, H) % 2\n",
    "            if sum(s2) == 0:\n",
    "                is_find = 1\n",
    "                break\n",
    "\n",
    "print(f'e2 = {e2}')\n",
    "print(f'v + e2 = {s}')\n",
    "print(f'(v + e2)@H = {s2} - no error')"
   ],
   "id": "d0d210f02012f4fc",
   "outputs": [
    {
     "name": "stdout",
     "output_type": "stream",
     "text": [
      "[1 0 1 1 1 0 1 0 0 1 0]\n",
      "e2 = [0 0 0 0 0 0 1 0 0 1 0]\n",
      "v + e2 = [1 0 1 1 1 0 0 0 0 0 0]\n",
      "(v + e2)@H = [0 0 0 0 0 0] - no error\n"
     ]
    }
   ],
   "execution_count": 93
  }
 ],
 "metadata": {
  "kernelspec": {
   "display_name": "Python 3",
   "language": "python",
   "name": "python3"
  },
  "language_info": {
   "codemirror_mode": {
    "name": "ipython",
    "version": 2
   },
   "file_extension": ".py",
   "mimetype": "text/x-python",
   "name": "python",
   "nbconvert_exporter": "python",
   "pygments_lexer": "ipython2",
   "version": "2.7.6"
  }
 },
 "nbformat": 4,
 "nbformat_minor": 5
}
