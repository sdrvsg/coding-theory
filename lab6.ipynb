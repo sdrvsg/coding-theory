{
  "nbformat": 4,
  "nbformat_minor": 0,
  "metadata": {
    "colab": {
      "provenance": []
    },
    "kernelspec": {
      "name": "python3",
      "display_name": "Python 3"
    },
    "language_info": {
      "name": "python"
    }
  },
  "cells": [
    {
      "cell_type": "code",
      "execution_count": 1,
      "metadata": {
        "id": "bn4NLRw8yp48"
      },
      "outputs": [],
      "source": [
        "import numpy as np\n",
        "import itertools as iter"
      ]
    },
    {
      "cell_type": "markdown",
      "source": [
        "# Написать функции кодирования и декодирования для циклического кода порождающим многочленом 𝑔(𝑥) = 1+𝑥^2 +𝑥^3, исправляющего однократные ошибки и провести исследование этого кода для одно-, двух- и трёхкратных ошибок."
      ],
      "metadata": {
        "id": "76V2YnWKl1Ht"
      }
    },
    {
      "cell_type": "code",
      "source": [
        "def create_G(n, m, g_x):\n",
        "    G = np.zeros((m, n), dtype=int)\n",
        "    for i in range(m):\n",
        "        G[i, i: i + g_x.size] = g_x\n",
        "    for i in range(1, m):\n",
        "        for j in range(i):\n",
        "            if G[j][i] == 1:\n",
        "                G[j] ^= G[i]\n",
        "    return G"
      ],
      "metadata": {
        "id": "e3rCEz7uy3F6"
      },
      "execution_count": 2,
      "outputs": []
    },
    {
      "cell_type": "code",
      "source": [
        "def vec_to_num(v):\n",
        "    return (np.array([2 ** i for i in range(v.size)]) * v).sum()"
      ],
      "metadata": {
        "id": "xLbjmI2MK4Z7"
      },
      "execution_count": 3,
      "outputs": []
    },
    {
      "cell_type": "code",
      "source": [
        "def find_remainder(bin_pol_num_1, bin_pol_num_2, n, m):\n",
        "    bin_pol_num_2 <<= m\n",
        "    for i in range(1, m + 1):\n",
        "        bin_pol_num_2 >>= 1\n",
        "        if bin_pol_num_1 >= 1 << (n - i):\n",
        "            bin_pol_num_1 ^= bin_pol_num_2\n",
        "    return bin_pol_num_1"
      ],
      "metadata": {
        "id": "F6StLLnl4YP-"
      },
      "execution_count": 4,
      "outputs": []
    },
    {
      "cell_type": "code",
      "source": [
        "def decode_word(w, m, t, g_x_num):\n",
        "    n = w.size\n",
        "    w_num = vec_to_num(w)\n",
        "    w_num = find_remainder(w_num, g_x_num, n, m)\n",
        "    if w_num == 0:\n",
        "        return w.copy()[:m]\n",
        "    k = 0\n",
        "    while k > -n:\n",
        "        if w_num < 1 << t and w_num % 2 == 1:  #\n",
        "            break\n",
        "        w_num <<= 1\n",
        "        if w_num >= 1 << (n - m):\n",
        "            w_num ^= g_x_num\n",
        "        k -= 1\n",
        "    w_fix = w.copy()\n",
        "    while w_num != 0:\n",
        "        if w_num % 2 == 1:\n",
        "            w_fix[k] ^= 1\n",
        "        k += 1\n",
        "        w_num >>= 1\n",
        "    return w_fix[:m]"
      ],
      "metadata": {
        "id": "KA_J-YYNoxVx"
      },
      "execution_count": 5,
      "outputs": []
    },
    {
      "cell_type": "code",
      "source": [
        "n = 7\n",
        "m = 4\n",
        "t = 1\n",
        "g_x = np.array([1, 0, 1, 1])\n",
        "g_x_num = vec_to_num(g_x)\n",
        "g_x_num"
      ],
      "metadata": {
        "colab": {
          "base_uri": "https://localhost:8080/"
        },
        "id": "zS0xP7hEy_0W",
        "outputId": "c1f37a3d-3b1a-47da-daa6-b394fe28bae3"
      },
      "execution_count": 6,
      "outputs": [
        {
          "output_type": "execute_result",
          "data": {
            "text/plain": [
              "13"
            ]
          },
          "metadata": {},
          "execution_count": 6
        }
      ]
    },
    {
      "cell_type": "code",
      "source": [
        "G = create_G(n, m, g_x)\n",
        "G"
      ],
      "metadata": {
        "colab": {
          "base_uri": "https://localhost:8080/"
        },
        "id": "JmprszwQAegM",
        "outputId": "e20001a4-8d7c-42ac-fbd4-67c2f41e24d9"
      },
      "execution_count": 7,
      "outputs": [
        {
          "output_type": "execute_result",
          "data": {
            "text/plain": [
              "array([[1, 0, 0, 0, 1, 0, 1],\n",
              "       [0, 1, 0, 0, 1, 1, 1],\n",
              "       [0, 0, 1, 0, 1, 1, 0],\n",
              "       [0, 0, 0, 1, 0, 1, 1]])"
            ]
          },
          "metadata": {},
          "execution_count": 7
        }
      ]
    },
    {
      "cell_type": "code",
      "source": [
        "word = np.array([1, 0, 0, 1])\n",
        "v = np.dot(word, G) % 2\n",
        "v"
      ],
      "metadata": {
        "colab": {
          "base_uri": "https://localhost:8080/"
        },
        "id": "_yOTMLmqCOOK",
        "outputId": "2518c111-c067-4e2f-ea5b-f8c37d4299f7"
      },
      "execution_count": 8,
      "outputs": [
        {
          "output_type": "execute_result",
          "data": {
            "text/plain": [
              "array([1, 0, 0, 1, 1, 1, 0])"
            ]
          },
          "metadata": {},
          "execution_count": 8
        }
      ]
    },
    {
      "cell_type": "code",
      "source": [
        "err2 = np.zeros_like(v, dtype=int)\n",
        "err2[1] = err2[2] = 1\n",
        "err3 = err2.copy()\n",
        "err3[3] = 1"
      ],
      "metadata": {
        "id": "1EG5x7YTJHJf"
      },
      "execution_count": 9,
      "outputs": []
    },
    {
      "cell_type": "code",
      "source": [
        "w_err2 = v ^ err2\n",
        "w_err3 = v ^ err3\n",
        "w_err1_array = [v.copy() ^ err1 for err1 in np.eye(n, dtype=int)]\n",
        "w_err1_array"
      ],
      "metadata": {
        "colab": {
          "base_uri": "https://localhost:8080/"
        },
        "id": "y_TgpZJcqM2-",
        "outputId": "8b3d1d62-1caa-4fe2-8e58-f20a32c95c65"
      },
      "execution_count": 10,
      "outputs": [
        {
          "output_type": "execute_result",
          "data": {
            "text/plain": [
              "[array([0, 0, 0, 1, 1, 1, 0]),\n",
              " array([1, 1, 0, 1, 1, 1, 0]),\n",
              " array([1, 0, 1, 1, 1, 1, 0]),\n",
              " array([1, 0, 0, 0, 1, 1, 0]),\n",
              " array([1, 0, 0, 1, 0, 1, 0]),\n",
              " array([1, 0, 0, 1, 1, 0, 0]),\n",
              " array([1, 0, 0, 1, 1, 1, 1])]"
            ]
          },
          "metadata": {},
          "execution_count": 10
        }
      ]
    },
    {
      "cell_type": "code",
      "source": [
        "dec_word = decode_word(v, m, t, g_x_num)\n",
        "np.array_equal(dec_word, word)"
      ],
      "metadata": {
        "colab": {
          "base_uri": "https://localhost:8080/"
        },
        "id": "RvX2eFIs6dvG",
        "outputId": "21622885-9607-4327-8a81-2c6b43770648"
      },
      "execution_count": 11,
      "outputs": [
        {
          "output_type": "execute_result",
          "data": {
            "text/plain": [
              "True"
            ]
          },
          "metadata": {},
          "execution_count": 11
        }
      ]
    },
    {
      "cell_type": "code",
      "source": [
        "for w in w_err1_array:\n",
        "    dec_word = decode_word(w, m, t, g_x_num)\n",
        "    print(np.array_equal(dec_word, word))"
      ],
      "metadata": {
        "colab": {
          "base_uri": "https://localhost:8080/"
        },
        "id": "x079qu4gw8oU",
        "outputId": "f662c4bd-14eb-4fb9-a0e7-1f7477bb9377"
      },
      "execution_count": 12,
      "outputs": [
        {
          "output_type": "stream",
          "name": "stdout",
          "text": [
            "True\n",
            "True\n",
            "True\n",
            "True\n",
            "True\n",
            "True\n",
            "True\n"
          ]
        }
      ]
    },
    {
      "cell_type": "code",
      "source": [
        "dec_word = decode_word(w_err2, m, t, g_x_num)\n",
        "np.array_equal(dec_word, word)"
      ],
      "metadata": {
        "colab": {
          "base_uri": "https://localhost:8080/"
        },
        "id": "BDeNL_Ti65oI",
        "outputId": "48e0c9c9-5f5c-40e9-debb-70ed1e0a2f14"
      },
      "execution_count": 13,
      "outputs": [
        {
          "output_type": "execute_result",
          "data": {
            "text/plain": [
              "False"
            ]
          },
          "metadata": {},
          "execution_count": 13
        }
      ]
    },
    {
      "cell_type": "code",
      "source": [
        "dec_word = decode_word(w_err3, m, t, g_x_num)\n",
        "np.array_equal(dec_word, word)"
      ],
      "metadata": {
        "colab": {
          "base_uri": "https://localhost:8080/"
        },
        "id": "oVZSkWIK7J4O",
        "outputId": "8ef3951d-44a5-4c5d-8af2-18d724cd5688"
      },
      "execution_count": 14,
      "outputs": [
        {
          "output_type": "execute_result",
          "data": {
            "text/plain": [
              "False"
            ]
          },
          "metadata": {},
          "execution_count": 14
        }
      ]
    },
    {
      "cell_type": "markdown",
      "source": [
        "# Написать функции кодирования и декодирования для циклического кода (15,9) с порождающим многочленом 𝑔(𝑥) = 1+ 𝑥^3 +𝑥^4 +𝑥^5 +𝑥^6, исправляющего пакеты ошибок кратности 3 и провести исследование этого кода для пакетов ошибок длины 1, 2, 3 и 4."
      ],
      "metadata": {
        "id": "WDi8sl5Q_8Bo"
      }
    },
    {
      "cell_type": "code",
      "source": [
        "n = 15\n",
        "m = 9\n",
        "t = 3\n",
        "g_x = np.array([1, 1, 1, 1, 0, 0, 1])\n",
        "g_x_num = vec_to_num(g_x)\n",
        "g_x_num"
      ],
      "metadata": {
        "colab": {
          "base_uri": "https://localhost:8080/"
        },
        "id": "Rds9_-P7AB0W",
        "outputId": "618ea195-40f1-4bd0-e9bb-5bc8b2ce0135"
      },
      "execution_count": 15,
      "outputs": [
        {
          "output_type": "execute_result",
          "data": {
            "text/plain": [
              "79"
            ]
          },
          "metadata": {},
          "execution_count": 15
        }
      ]
    },
    {
      "cell_type": "code",
      "source": [
        "G = create_G(n, m, g_x)\n",
        "G"
      ],
      "metadata": {
        "colab": {
          "base_uri": "https://localhost:8080/"
        },
        "id": "_DE-4VXLAT_d",
        "outputId": "f3ae3a5d-9a4e-47db-f5ca-6cb7c0d12c76"
      },
      "execution_count": 16,
      "outputs": [
        {
          "output_type": "execute_result",
          "data": {
            "text/plain": [
              "array([[1, 0, 0, 0, 0, 0, 0, 0, 0, 1, 1, 1, 1, 0, 0],\n",
              "       [0, 1, 0, 0, 0, 0, 0, 0, 0, 0, 1, 1, 1, 1, 0],\n",
              "       [0, 0, 1, 0, 0, 0, 0, 0, 0, 0, 0, 1, 1, 1, 1],\n",
              "       [0, 0, 0, 1, 0, 0, 0, 0, 0, 1, 1, 1, 0, 1, 1],\n",
              "       [0, 0, 0, 0, 1, 0, 0, 0, 0, 1, 0, 0, 0, 0, 1],\n",
              "       [0, 0, 0, 0, 0, 1, 0, 0, 0, 1, 0, 1, 1, 0, 0],\n",
              "       [0, 0, 0, 0, 0, 0, 1, 0, 0, 0, 1, 0, 1, 1, 0],\n",
              "       [0, 0, 0, 0, 0, 0, 0, 1, 0, 0, 0, 1, 0, 1, 1],\n",
              "       [0, 0, 0, 0, 0, 0, 0, 0, 1, 1, 1, 1, 0, 0, 1]])"
            ]
          },
          "metadata": {},
          "execution_count": 16
        }
      ]
    },
    {
      "cell_type": "code",
      "source": [
        "word = np.array([1, 1, 1, 0, 0, 0, 0, 0, 0])\n",
        "v = np.dot(word, G) % 2\n",
        "v"
      ],
      "metadata": {
        "colab": {
          "base_uri": "https://localhost:8080/"
        },
        "id": "gzdyTyhBBZWM",
        "outputId": "d81658e8-24ea-45b8-e181-aea200bb9ec8"
      },
      "execution_count": 17,
      "outputs": [
        {
          "output_type": "execute_result",
          "data": {
            "text/plain": [
              "array([1, 1, 1, 0, 0, 0, 0, 0, 0, 1, 0, 1, 1, 0, 1])"
            ]
          },
          "metadata": {},
          "execution_count": 17
        }
      ]
    },
    {
      "cell_type": "code",
      "source": [
        "err2 = np.zeros_like(v, dtype=int)\n",
        "err2[1] = err2[2] = 1\n",
        "err3 = err2.copy()\n",
        "err3[3] = 1\n",
        "err4 = np.zeros_like(v, dtype=int)\n",
        "err4[6] = err4[7] = err4[9] = 1"
      ],
      "metadata": {
        "id": "ncHaAC7lBgcJ"
      },
      "execution_count": 18,
      "outputs": []
    },
    {
      "cell_type": "code",
      "source": [
        "w_err2 = v ^ err2\n",
        "w_err3 = v ^ err3\n",
        "w_err4 = v ^ err4\n",
        "w_err1_array = [v.copy() ^ err1 for err1 in np.eye(n, dtype=int)]\n",
        "w_err1_array"
      ],
      "metadata": {
        "colab": {
          "base_uri": "https://localhost:8080/"
        },
        "id": "DSuBOfW8BoPw",
        "outputId": "0c76d424-2ab7-4113-b2f6-717990e4609f"
      },
      "execution_count": 19,
      "outputs": [
        {
          "output_type": "execute_result",
          "data": {
            "text/plain": [
              "[array([0, 1, 1, 0, 0, 0, 0, 0, 0, 1, 0, 1, 1, 0, 1]),\n",
              " array([1, 0, 1, 0, 0, 0, 0, 0, 0, 1, 0, 1, 1, 0, 1]),\n",
              " array([1, 1, 0, 0, 0, 0, 0, 0, 0, 1, 0, 1, 1, 0, 1]),\n",
              " array([1, 1, 1, 1, 0, 0, 0, 0, 0, 1, 0, 1, 1, 0, 1]),\n",
              " array([1, 1, 1, 0, 1, 0, 0, 0, 0, 1, 0, 1, 1, 0, 1]),\n",
              " array([1, 1, 1, 0, 0, 1, 0, 0, 0, 1, 0, 1, 1, 0, 1]),\n",
              " array([1, 1, 1, 0, 0, 0, 1, 0, 0, 1, 0, 1, 1, 0, 1]),\n",
              " array([1, 1, 1, 0, 0, 0, 0, 1, 0, 1, 0, 1, 1, 0, 1]),\n",
              " array([1, 1, 1, 0, 0, 0, 0, 0, 1, 1, 0, 1, 1, 0, 1]),\n",
              " array([1, 1, 1, 0, 0, 0, 0, 0, 0, 0, 0, 1, 1, 0, 1]),\n",
              " array([1, 1, 1, 0, 0, 0, 0, 0, 0, 1, 1, 1, 1, 0, 1]),\n",
              " array([1, 1, 1, 0, 0, 0, 0, 0, 0, 1, 0, 0, 1, 0, 1]),\n",
              " array([1, 1, 1, 0, 0, 0, 0, 0, 0, 1, 0, 1, 0, 0, 1]),\n",
              " array([1, 1, 1, 0, 0, 0, 0, 0, 0, 1, 0, 1, 1, 1, 1]),\n",
              " array([1, 1, 1, 0, 0, 0, 0, 0, 0, 1, 0, 1, 1, 0, 0])]"
            ]
          },
          "metadata": {},
          "execution_count": 19
        }
      ]
    },
    {
      "cell_type": "code",
      "source": [
        "dec_word = decode_word(v, m, t, g_x_num)\n",
        "np.array_equal(dec_word, word)"
      ],
      "metadata": {
        "colab": {
          "base_uri": "https://localhost:8080/"
        },
        "id": "6x27FDumBuED",
        "outputId": "6a4852a7-0964-4782-ac87-750e5b7f323a"
      },
      "execution_count": 20,
      "outputs": [
        {
          "output_type": "execute_result",
          "data": {
            "text/plain": [
              "True"
            ]
          },
          "metadata": {},
          "execution_count": 20
        }
      ]
    },
    {
      "cell_type": "code",
      "source": [
        "for w in w_err1_array:\n",
        "    dec_word = decode_word(w, m, t, g_x_num)\n",
        "    print(np.array_equal(dec_word, word))"
      ],
      "metadata": {
        "colab": {
          "base_uri": "https://localhost:8080/"
        },
        "id": "em0CdTmJB5Oj",
        "outputId": "9f455465-bd36-466b-8013-c8e3189cfeac"
      },
      "execution_count": 21,
      "outputs": [
        {
          "output_type": "stream",
          "name": "stdout",
          "text": [
            "True\n",
            "True\n",
            "True\n",
            "True\n",
            "True\n",
            "True\n",
            "True\n",
            "True\n",
            "True\n",
            "True\n",
            "True\n",
            "True\n",
            "True\n",
            "True\n",
            "True\n"
          ]
        }
      ]
    },
    {
      "cell_type": "code",
      "source": [
        "dec_word = decode_word(w_err2, m, t, g_x_num)\n",
        "np.array_equal(dec_word, word)"
      ],
      "metadata": {
        "colab": {
          "base_uri": "https://localhost:8080/"
        },
        "id": "sNKIxALTEoF8",
        "outputId": "15ff5bf8-bc2f-4587-eb30-07f687114a71"
      },
      "execution_count": 22,
      "outputs": [
        {
          "output_type": "execute_result",
          "data": {
            "text/plain": [
              "True"
            ]
          },
          "metadata": {},
          "execution_count": 22
        }
      ]
    },
    {
      "cell_type": "code",
      "source": [
        "dec_word = decode_word(w_err3, m, t, g_x_num)\n",
        "np.array_equal(dec_word, word)"
      ],
      "metadata": {
        "colab": {
          "base_uri": "https://localhost:8080/"
        },
        "id": "Hm4IHsVaFE7K",
        "outputId": "ff99f8b2-8688-490c-ae4f-8a4f8d68a6f4"
      },
      "execution_count": 23,
      "outputs": [
        {
          "output_type": "execute_result",
          "data": {
            "text/plain": [
              "True"
            ]
          },
          "metadata": {},
          "execution_count": 23
        }
      ]
    },
    {
      "cell_type": "code",
      "source": [
        "dec_word = decode_word(w_err4, m, t, g_x_num)\n",
        "np.array_equal(dec_word, word)"
      ],
      "metadata": {
        "colab": {
          "base_uri": "https://localhost:8080/"
        },
        "id": "RENDBp19FLDm",
        "outputId": "4a65df38-e6c3-4177-b672-b6170272abbf"
      },
      "execution_count": 24,
      "outputs": [
        {
          "output_type": "execute_result",
          "data": {
            "text/plain": [
              "False"
            ]
          },
          "metadata": {},
          "execution_count": 24
        }
      ]
    }
  ]
}