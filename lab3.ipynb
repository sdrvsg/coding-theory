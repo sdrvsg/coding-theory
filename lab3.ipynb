{
 "nbformat": 4,
 "nbformat_minor": 0,
 "metadata": {
  "colab": {
   "provenance": []
  },
  "kernelspec": {
   "name": "python3",
   "display_name": "Python 3 (ipykernel)",
   "language": "python"
  },
  "language_info": {
   "name": "python"
  }
 },
 "cells": [
  {
   "cell_type": "code",
   "metadata": {
    "id": "HfqkWukAp4jq",
    "ExecuteTime": {
     "end_time": "2024-10-11T13:52:03.676880Z",
     "start_time": "2024-10-11T13:52:03.342165Z"
    }
   },
   "source": [
    "import numpy as np\n",
    "import itertools\n",
    "import random"
   ],
   "outputs": [],
   "execution_count": 1
  },
  {
   "cell_type": "markdown",
   "source": [
    "# Написать функцию формирования порождающей и проверочной матриц кода Хэммин на основе параметра r, а также таблицы синдромов для всех однократных ошибок.\n"
   ],
   "metadata": {
    "id": "Irbz2iekqFKm"
   }
  },
  {
   "cell_type": "code",
   "source": [
    "# Функция формирования проверочной матрицы\n",
    "def generate_hamming_h_matrix(r: int) -> np.ndarray:\n",
    "    n = 2 ** r - 1\n",
    "    res = []\n",
    "    cur_r = r - 1\n",
    "    for i in range(n, 0, -1):\n",
    "        if i != 2 ** cur_r:\n",
    "            res.append(list(map(int, f\"{i:0{r}b}\")))\n",
    "        else:\n",
    "            cur_r -= 1\n",
    "\n",
    "    identity_matrix = np.eye(r, dtype=int)\n",
    "\n",
    "    H = np.vstack((res, identity_matrix))\n",
    "\n",
    "    return H\n",
    "\n",
    "\n",
    "# Функция построения порождающей матрицы\n",
    "def H_to_G(H: np.ndarray, r) -> np.ndarray:\n",
    "    k = 2 ** r - r - 1\n",
    "    res = np.eye(k, dtype=int)\n",
    "    G = np.hstack((res, H[:k]))\n",
    "    return G\n",
    "\n",
    "\n",
    "# Функция построения таблицы синдромов\n",
    "def generate_syndrome_table(matrix: np.ndarray, error_weight: int) -> dict:\n",
    "    n = matrix.shape[0]\n",
    "    syndrome_table = {}\n",
    "    for error in range(1, error_weight + 1):\n",
    "        for error_indices in itertools.combinations(range(n), error):\n",
    "            error_vector = np.zeros(n, dtype=int)\n",
    "            for index in error_indices:\n",
    "                error_vector[index] = 1\n",
    "            syndrome = error_vector @ matrix % 2\n",
    "            syndrome_table[tuple(map(int, syndrome))] = tuple(error_indices)\n",
    "\n",
    "    return syndrome_table"
   ],
   "metadata": {
    "id": "5AIHxCtwqgxu",
    "ExecuteTime": {
     "end_time": "2024-10-11T13:52:03.708431Z",
     "start_time": "2024-10-11T13:52:03.698506Z"
    }
   },
   "outputs": [],
   "execution_count": 2
  },
  {
   "cell_type": "markdown",
   "source": [
    "## Проверочная матрица при r = 2"
   ],
   "metadata": {
    "id": "1pljpuhDrLke"
   }
  },
  {
   "cell_type": "code",
   "source": [
    "r = 2\n",
    "H = generate_hamming_h_matrix(r)\n",
    "H"
   ],
   "metadata": {
    "colab": {
     "base_uri": "https://localhost:8080/"
    },
    "id": "luEcdJnIrJ-E",
    "outputId": "31d035b8-ac81-4652-9801-a0967788bf4b",
    "ExecuteTime": {
     "end_time": "2024-10-11T13:52:03.743554Z",
     "start_time": "2024-10-11T13:52:03.734574Z"
    }
   },
   "outputs": [
    {
     "data": {
      "text/plain": [
       "array([[1, 1],\n",
       "       [1, 0],\n",
       "       [0, 1]])"
      ]
     },
     "execution_count": 3,
     "metadata": {},
     "output_type": "execute_result"
    }
   ],
   "execution_count": 3
  },
  {
   "cell_type": "markdown",
   "source": [
    "## Порождающая матрица на основе проверочной матрицы"
   ],
   "metadata": {
    "id": "HUlsrDNfrfpD"
   }
  },
  {
   "cell_type": "code",
   "source": [
    "G = H_to_G(H, r)\n",
    "G"
   ],
   "metadata": {
    "colab": {
     "base_uri": "https://localhost:8080/"
    },
    "id": "SbcsgYrQruCn",
    "outputId": "cf5eacac-02c7-4030-858e-a91f9756ac76",
    "ExecuteTime": {
     "end_time": "2024-10-11T13:52:04.289022Z",
     "start_time": "2024-10-11T13:52:04.283504Z"
    }
   },
   "outputs": [
    {
     "data": {
      "text/plain": [
       "array([[1, 1, 1]])"
      ]
     },
     "execution_count": 4,
     "metadata": {},
     "output_type": "execute_result"
    }
   ],
   "execution_count": 4
  },
  {
   "cell_type": "markdown",
   "source": [
    "## Таблица синдромов для всех единичных ошибок"
   ],
   "metadata": {
    "id": "LKW7YyzDr7cH"
   }
  },
  {
   "cell_type": "code",
   "source": [
    "syndrome_table = generate_syndrome_table(H, 1)\n",
    "syndrome_table"
   ],
   "metadata": {
    "colab": {
     "base_uri": "https://localhost:8080/"
    },
    "id": "AiMFje4cr-h_",
    "outputId": "14bb79cc-5e74-45d2-958d-13ef8518aa9d",
    "ExecuteTime": {
     "end_time": "2024-10-11T13:52:04.353066Z",
     "start_time": "2024-10-11T13:52:04.344404Z"
    }
   },
   "outputs": [
    {
     "data": {
      "text/plain": [
       "{(1, 1): (0,), (1, 0): (1,), (0, 1): (2,)}"
      ]
     },
     "execution_count": 5,
     "metadata": {},
     "output_type": "execute_result"
    }
   ],
   "execution_count": 5
  },
  {
   "cell_type": "markdown",
   "source": [
    "# Провести исследование кода Хэмминга для одно-, двух- и трёхкратных ошибок для r = 2, 3, 4."
   ],
   "metadata": {
    "id": "aMlsbybPsNWZ"
   }
  },
  {
   "cell_type": "code",
   "source": [
    "# Функция для допущения и проверки ошибки\n",
    "\n",
    "def hamming_correction_test(G: np.ndarray, H: np.ndarray, syndrome_table: dict, error_degree: int, u: np.ndarray):\n",
    "    # Шаг 1: Формируем кодовое слово u и кодируем его с помощью G\n",
    "    print(f\"Исходное слово: {u}\")\n",
    "    encoded_word = (u @ G) % 2\n",
    "    print(f\"Закодированное слово: {encoded_word}\")\n",
    "\n",
    "    # Шаг 2: Вносим ошибки в кодовое слово\n",
    "    error_pattern = np.zeros_like(encoded_word, dtype=int)\n",
    "    error_positions = random.sample(range(len(encoded_word)), error_degree)\n",
    "    error_pattern[error_positions] = 1\n",
    "    print(f\"Ошибка: {error_pattern}\")\n",
    "\n",
    "    # Слово с ошибками\n",
    "    received_word = (encoded_word + error_pattern) % 2\n",
    "    print(f\"Принятое слово с ошибкой: {received_word}\")\n",
    "\n",
    "    # Шаг 3: Рассчитываем синдром\n",
    "    syndrome = (received_word @ H) % 2\n",
    "    print(f\"Синдром: {syndrome}\")\n",
    "\n",
    "    # Шаг 4: Если синдром ненулевой, проводим коррекцию\n",
    "    if np.any(syndrome):\n",
    "        print(\"Ошибка обнаружена.\")\n",
    "        error_position = syndrome_table.get(tuple(syndrome), None)\n",
    "\n",
    "        # Если синдром найден в таблице, корректируем ошибку\n",
    "        if error_position:\n",
    "            received_word[error_position] = (received_word[error_position] + 1) % 2\n",
    "            print(f\"Сообщение после исправления: {received_word}\")\n",
    "\n",
    "            # Проверка корректности исправления\n",
    "            if np.array_equal(encoded_word, received_word):\n",
    "                print(\"Ошибка успешно исправлена!\")\n",
    "            else:\n",
    "                print(\"Ошибка не была полностью исправлена.\")\n",
    "        else:\n",
    "            print(\"Синдром отсутствует в таблице, ошибка не исправлена.\")\n",
    "    else:\n",
    "        print(\"Ошибок не обнаружено.\")"
   ],
   "metadata": {
    "id": "0eK_smLMsCdn",
    "ExecuteTime": {
     "end_time": "2024-10-11T13:52:51.528260Z",
     "start_time": "2024-10-11T13:52:51.512777Z"
    }
   },
   "outputs": [],
   "execution_count": 40
  },
  {
   "cell_type": "markdown",
   "source": [
    "## Проведем исследование кода Хэмминга для ошибки кратности 1"
   ],
   "metadata": {
    "id": "aWjO5KSXvlTh"
   }
  },
  {
   "cell_type": "code",
   "source": [
    "hamming_correction_test(G, H, syndrome_table, 1, np.array([1]))"
   ],
   "metadata": {
    "colab": {
     "base_uri": "https://localhost:8080/"
    },
    "id": "qySeNpHHvmTB",
    "outputId": "f5277149-393a-49c0-a31d-fb4ad895c5fa",
    "ExecuteTime": {
     "end_time": "2024-10-11T13:52:06.432939Z",
     "start_time": "2024-10-11T13:52:06.424197Z"
    }
   },
   "outputs": [
    {
     "name": "stdout",
     "output_type": "stream",
     "text": [
      "Исходное слово: [1]\n",
      "Закодированное слово: [1 1 1]\n",
      "Ошибка: [0 0 1]\n",
      "Принятое слово с ошибкой: [1 1 0]\n",
      "Синдром: [0 1]\n",
      "Ошибка обнаружена.\n",
      "Сообщение после исправления: [1 1 1]\n",
      "Ошибка успешно исправлена!\n"
     ]
    }
   ],
   "execution_count": 7
  },
  {
   "cell_type": "markdown",
   "source": [
    "Код успешно нашел ошибку и исправил ее"
   ],
   "metadata": {
    "id": "CdEkDiyhwNMP"
   }
  },
  {
   "cell_type": "markdown",
   "source": [
    "## Проведем исследование кода Хэмминга для ошибки кратности 2"
   ],
   "metadata": {
    "id": "Om9UlJZzvuk7"
   }
  },
  {
   "cell_type": "code",
   "source": [
    "hamming_correction_test(G, H, syndrome_table, 2, np.array([1]))"
   ],
   "metadata": {
    "colab": {
     "base_uri": "https://localhost:8080/"
    },
    "id": "4Z8Yrn0avzKT",
    "outputId": "c395db54-2aaa-4b34-f36b-7bacebd6d72f",
    "ExecuteTime": {
     "end_time": "2024-10-11T13:52:06.679567Z",
     "start_time": "2024-10-11T13:52:06.673429Z"
    }
   },
   "outputs": [
    {
     "name": "stdout",
     "output_type": "stream",
     "text": [
      "Исходное слово: [1]\n",
      "Закодированное слово: [1 1 1]\n",
      "Ошибка: [1 0 1]\n",
      "Принятое слово с ошибкой: [0 1 0]\n",
      "Синдром: [1 0]\n",
      "Ошибка обнаружена.\n",
      "Сообщение после исправления: [0 0 0]\n",
      "Ошибка не была полностью исправлена.\n"
     ]
    }
   ],
   "execution_count": 8
  },
  {
   "cell_type": "markdown",
   "source": [
    "Код смог обнаружить ошибку, но не смогли ее исправить"
   ],
   "metadata": {
    "id": "1ykU5hwqwGNe"
   }
  },
  {
   "cell_type": "markdown",
   "source": [
    "## Проведем исследование кода Хэмминга для ошибки кратности 3"
   ],
   "metadata": {
    "id": "EeRem3ccv4b0"
   }
  },
  {
   "cell_type": "code",
   "source": [
    "hamming_correction_test(G, H, syndrome_table, 3, np.array([1]))"
   ],
   "metadata": {
    "colab": {
     "base_uri": "https://localhost:8080/"
    },
    "id": "yP_9jpumwBS-",
    "outputId": "551c30ec-93c5-47bc-891d-5d3fc05385e5",
    "ExecuteTime": {
     "end_time": "2024-10-11T13:52:06.861822Z",
     "start_time": "2024-10-11T13:52:06.855329Z"
    }
   },
   "outputs": [
    {
     "name": "stdout",
     "output_type": "stream",
     "text": [
      "Исходное слово: [1]\n",
      "Закодированное слово: [1 1 1]\n",
      "Ошибка: [1 1 1]\n",
      "Принятое слово с ошибкой: [0 0 0]\n",
      "Синдром: [0 0]\n",
      "Ошибок не обнаружено.\n"
     ]
    }
   ],
   "execution_count": 9
  },
  {
   "cell_type": "markdown",
   "source": [
    "Код не смог даже обнаружить ошибку"
   ],
   "metadata": {
    "id": "l9hjwcyuw6qr"
   }
  },
  {
   "cell_type": "markdown",
   "source": [
    "# Теперь проделаем все для r = 3, но для начала создадим:\n",
    "## 1. Проверочная матрица при r = 3\n",
    "## 2. Порождающая матрица на основе проверочной матрицы\n",
    "## 3. Таблица синдромов"
   ],
   "metadata": {
    "id": "AqYTNLPLw-q1"
   }
  },
  {
   "cell_type": "code",
   "source": [
    "# 1\n",
    "r = 3\n",
    "H = generate_hamming_h_matrix(r)\n",
    "H"
   ],
   "metadata": {
    "colab": {
     "base_uri": "https://localhost:8080/"
    },
    "id": "9EALEvrHxL91",
    "outputId": "85243f6f-a825-43ce-8758-9d8bcf4b812e",
    "ExecuteTime": {
     "end_time": "2024-10-11T13:52:07.003854Z",
     "start_time": "2024-10-11T13:52:06.997405Z"
    }
   },
   "outputs": [
    {
     "data": {
      "text/plain": [
       "array([[1, 1, 1],\n",
       "       [1, 1, 0],\n",
       "       [1, 0, 1],\n",
       "       [0, 1, 1],\n",
       "       [1, 0, 0],\n",
       "       [0, 1, 0],\n",
       "       [0, 0, 1]])"
      ]
     },
     "execution_count": 10,
     "metadata": {},
     "output_type": "execute_result"
    }
   ],
   "execution_count": 10
  },
  {
   "cell_type": "code",
   "source": [
    "#2\n",
    "G = H_to_G(H, r)\n",
    "G"
   ],
   "metadata": {
    "colab": {
     "base_uri": "https://localhost:8080/"
    },
    "id": "Ga8so1biyCFP",
    "outputId": "34f915ac-81c2-4412-8726-504347fffb80",
    "ExecuteTime": {
     "end_time": "2024-10-11T13:52:07.130935Z",
     "start_time": "2024-10-11T13:52:07.122483Z"
    }
   },
   "outputs": [
    {
     "data": {
      "text/plain": [
       "array([[1, 0, 0, 0, 1, 1, 1],\n",
       "       [0, 1, 0, 0, 1, 1, 0],\n",
       "       [0, 0, 1, 0, 1, 0, 1],\n",
       "       [0, 0, 0, 1, 0, 1, 1]])"
      ]
     },
     "execution_count": 11,
     "metadata": {},
     "output_type": "execute_result"
    }
   ],
   "execution_count": 11
  },
  {
   "cell_type": "code",
   "source": [
    "#3\n",
    "syndrome_table = generate_syndrome_table(H, 1)\n",
    "syndrome_table"
   ],
   "metadata": {
    "colab": {
     "base_uri": "https://localhost:8080/"
    },
    "id": "bHsvi1uoyDLQ",
    "outputId": "3715efc9-2217-4168-b512-f38617f8ac34",
    "ExecuteTime": {
     "end_time": "2024-10-11T13:52:07.310629Z",
     "start_time": "2024-10-11T13:52:07.302183Z"
    }
   },
   "outputs": [
    {
     "data": {
      "text/plain": [
       "{(1, 1, 1): (0,),\n",
       " (1, 1, 0): (1,),\n",
       " (1, 0, 1): (2,),\n",
       " (0, 1, 1): (3,),\n",
       " (1, 0, 0): (4,),\n",
       " (0, 1, 0): (5,),\n",
       " (0, 0, 1): (6,)}"
      ]
     },
     "execution_count": 12,
     "metadata": {},
     "output_type": "execute_result"
    }
   ],
   "execution_count": 12
  },
  {
   "cell_type": "markdown",
   "source": [
    "## Проведем исследование кода Хэмминга для ошибки кратности 1"
   ],
   "metadata": {
    "id": "dPyhBpL7yKRW"
   }
  },
  {
   "cell_type": "code",
   "source": [
    "hamming_correction_test(G, H, syndrome_table, 1, np.array([1, 0, 0, 1]))"
   ],
   "metadata": {
    "colab": {
     "base_uri": "https://localhost:8080/"
    },
    "id": "R6k9H01hyLye",
    "outputId": "d7094bdf-e38f-4929-cdc8-4bd4e7bfe14d",
    "ExecuteTime": {
     "end_time": "2024-10-11T13:52:07.492857Z",
     "start_time": "2024-10-11T13:52:07.486550Z"
    }
   },
   "outputs": [
    {
     "name": "stdout",
     "output_type": "stream",
     "text": [
      "Исходное слово: [1 0 0 1]\n",
      "Закодированное слово: [1 0 0 1 1 0 0]\n",
      "Ошибка: [0 0 0 0 1 0 0]\n",
      "Принятое слово с ошибкой: [1 0 0 1 0 0 0]\n",
      "Синдром: [1 0 0]\n",
      "Ошибка обнаружена.\n",
      "Сообщение после исправления: [1 0 0 1 1 0 0]\n",
      "Ошибка успешно исправлена!\n"
     ]
    }
   ],
   "execution_count": 13
  },
  {
   "cell_type": "markdown",
   "source": [
    "Код успешно нашел ошибку и исправил ее"
   ],
   "metadata": {
    "id": "LSsLylVvyPES"
   }
  },
  {
   "cell_type": "markdown",
   "source": [
    "## Проведем исследование кода Хэмминга для ошибки кратности 2"
   ],
   "metadata": {
    "id": "MWTr52cnyYj8"
   }
  },
  {
   "cell_type": "code",
   "source": [
    "hamming_correction_test(G, H, syndrome_table, 2, np.array([1, 0, 0, 1]))"
   ],
   "metadata": {
    "colab": {
     "base_uri": "https://localhost:8080/"
    },
    "id": "peOtdj7DyUju",
    "outputId": "994dcde6-35e3-48ed-df48-52d6a42c116a",
    "ExecuteTime": {
     "end_time": "2024-10-11T13:52:07.666934Z",
     "start_time": "2024-10-11T13:52:07.659045Z"
    }
   },
   "outputs": [
    {
     "name": "stdout",
     "output_type": "stream",
     "text": [
      "Исходное слово: [1 0 0 1]\n",
      "Закодированное слово: [1 0 0 1 1 0 0]\n",
      "Ошибка: [0 1 0 0 0 0 1]\n",
      "Принятое слово с ошибкой: [1 1 0 1 1 0 1]\n",
      "Синдром: [1 1 1]\n",
      "Ошибка обнаружена.\n",
      "Сообщение после исправления: [0 1 0 1 1 0 1]\n",
      "Ошибка не была полностью исправлена.\n"
     ]
    }
   ],
   "execution_count": 14
  },
  {
   "cell_type": "markdown",
   "source": "Код смог обнаружить ошибку, но не смог ее исправить",
   "metadata": {
    "id": "WqP7p5-AyZsu"
   }
  },
  {
   "cell_type": "markdown",
   "source": [
    "## Проведем исследование кода Хэмминга для ошибки кратности 3"
   ],
   "metadata": {
    "id": "q9AevSxxyZ3Q"
   }
  },
  {
   "cell_type": "code",
   "source": [
    "hamming_correction_test(G, H, syndrome_table, 3, np.array([1, 0, 0, 1]))"
   ],
   "metadata": {
    "colab": {
     "base_uri": "https://localhost:8080/"
    },
    "id": "NH3LBTCmykM5",
    "outputId": "2bcb792a-50e8-43bd-df79-86d2325219b6",
    "ExecuteTime": {
     "end_time": "2024-10-11T13:52:07.877193Z",
     "start_time": "2024-10-11T13:52:07.869493Z"
    }
   },
   "outputs": [
    {
     "name": "stdout",
     "output_type": "stream",
     "text": [
      "Исходное слово: [1 0 0 1]\n",
      "Закодированное слово: [1 0 0 1 1 0 0]\n",
      "Ошибка: [0 1 0 0 1 1 0]\n",
      "Принятое слово с ошибкой: [1 1 0 1 0 1 0]\n",
      "Синдром: [0 0 0]\n",
      "Ошибок не обнаружено.\n"
     ]
    }
   ],
   "execution_count": 15
  },
  {
   "cell_type": "markdown",
   "source": "Код не обнаружил ошибки",
   "metadata": {
    "id": "-BcLq2jAymZ5"
   }
  },
  {
   "cell_type": "markdown",
   "source": [
    "# Теперь проделаем все для r = 4, но для начала создадим:\n",
    "## 1. Проверочная матрица при r = 4\n",
    "## 2. Порождающая матрица на основе проверочной матрицы\n",
    "## 3. Таблица синдромов"
   ],
   "metadata": {
    "id": "AO6ZjYRXzCS6"
   }
  },
  {
   "cell_type": "code",
   "source": [
    "# 1\n",
    "r = 4\n",
    "H = generate_hamming_h_matrix(r)\n",
    "H"
   ],
   "metadata": {
    "colab": {
     "base_uri": "https://localhost:8080/"
    },
    "outputId": "3b9d2f63-536a-4066-cbdd-0a2ed0a35f63",
    "id": "49II1mpCzCS7",
    "ExecuteTime": {
     "end_time": "2024-10-11T13:52:08.018583Z",
     "start_time": "2024-10-11T13:52:08.009250Z"
    }
   },
   "outputs": [
    {
     "data": {
      "text/plain": [
       "array([[1, 1, 1, 1],\n",
       "       [1, 1, 1, 0],\n",
       "       [1, 1, 0, 1],\n",
       "       [1, 1, 0, 0],\n",
       "       [1, 0, 1, 1],\n",
       "       [1, 0, 1, 0],\n",
       "       [1, 0, 0, 1],\n",
       "       [0, 1, 1, 1],\n",
       "       [0, 1, 1, 0],\n",
       "       [0, 1, 0, 1],\n",
       "       [0, 0, 1, 1],\n",
       "       [1, 0, 0, 0],\n",
       "       [0, 1, 0, 0],\n",
       "       [0, 0, 1, 0],\n",
       "       [0, 0, 0, 1]])"
      ]
     },
     "execution_count": 16,
     "metadata": {},
     "output_type": "execute_result"
    }
   ],
   "execution_count": 16
  },
  {
   "cell_type": "code",
   "source": [
    "#2\n",
    "G = H_to_G(H, r)\n",
    "G"
   ],
   "metadata": {
    "colab": {
     "base_uri": "https://localhost:8080/"
    },
    "outputId": "dbf0662e-4e06-4c07-87c4-11dcfd64cc50",
    "id": "9xmqFtFizCS7",
    "ExecuteTime": {
     "end_time": "2024-10-11T13:52:08.157417Z",
     "start_time": "2024-10-11T13:52:08.149981Z"
    }
   },
   "outputs": [
    {
     "data": {
      "text/plain": [
       "array([[1, 0, 0, 0, 0, 0, 0, 0, 0, 0, 0, 1, 1, 1, 1],\n",
       "       [0, 1, 0, 0, 0, 0, 0, 0, 0, 0, 0, 1, 1, 1, 0],\n",
       "       [0, 0, 1, 0, 0, 0, 0, 0, 0, 0, 0, 1, 1, 0, 1],\n",
       "       [0, 0, 0, 1, 0, 0, 0, 0, 0, 0, 0, 1, 1, 0, 0],\n",
       "       [0, 0, 0, 0, 1, 0, 0, 0, 0, 0, 0, 1, 0, 1, 1],\n",
       "       [0, 0, 0, 0, 0, 1, 0, 0, 0, 0, 0, 1, 0, 1, 0],\n",
       "       [0, 0, 0, 0, 0, 0, 1, 0, 0, 0, 0, 1, 0, 0, 1],\n",
       "       [0, 0, 0, 0, 0, 0, 0, 1, 0, 0, 0, 0, 1, 1, 1],\n",
       "       [0, 0, 0, 0, 0, 0, 0, 0, 1, 0, 0, 0, 1, 1, 0],\n",
       "       [0, 0, 0, 0, 0, 0, 0, 0, 0, 1, 0, 0, 1, 0, 1],\n",
       "       [0, 0, 0, 0, 0, 0, 0, 0, 0, 0, 1, 0, 0, 1, 1]])"
      ]
     },
     "execution_count": 17,
     "metadata": {},
     "output_type": "execute_result"
    }
   ],
   "execution_count": 17
  },
  {
   "cell_type": "code",
   "source": [
    "#3\n",
    "syndrome_table = generate_syndrome_table(H, 1)\n",
    "syndrome_table"
   ],
   "metadata": {
    "colab": {
     "base_uri": "https://localhost:8080/"
    },
    "outputId": "52c226d2-f5f8-4f7b-fc9c-8837f0de73a0",
    "id": "Sn-fOhEazCS8",
    "ExecuteTime": {
     "end_time": "2024-10-11T13:52:08.386549Z",
     "start_time": "2024-10-11T13:52:08.376506Z"
    }
   },
   "outputs": [
    {
     "data": {
      "text/plain": [
       "{(1, 1, 1, 1): (0,),\n",
       " (1, 1, 1, 0): (1,),\n",
       " (1, 1, 0, 1): (2,),\n",
       " (1, 1, 0, 0): (3,),\n",
       " (1, 0, 1, 1): (4,),\n",
       " (1, 0, 1, 0): (5,),\n",
       " (1, 0, 0, 1): (6,),\n",
       " (0, 1, 1, 1): (7,),\n",
       " (0, 1, 1, 0): (8,),\n",
       " (0, 1, 0, 1): (9,),\n",
       " (0, 0, 1, 1): (10,),\n",
       " (1, 0, 0, 0): (11,),\n",
       " (0, 1, 0, 0): (12,),\n",
       " (0, 0, 1, 0): (13,),\n",
       " (0, 0, 0, 1): (14,)}"
      ]
     },
     "execution_count": 18,
     "metadata": {},
     "output_type": "execute_result"
    }
   ],
   "execution_count": 18
  },
  {
   "cell_type": "markdown",
   "source": [
    "## Проведем исследование кода Хэмминга для ошибки кратности 1"
   ],
   "metadata": {
    "id": "8pWrZHagzCS8"
   }
  },
  {
   "cell_type": "code",
   "source": [
    "hamming_correction_test(G, H, syndrome_table, 1, np.array([0, 0, 1, 0, 1, 1, 0, 0, 1, 1, 1]))"
   ],
   "metadata": {
    "colab": {
     "base_uri": "https://localhost:8080/"
    },
    "outputId": "3b29e4eb-273d-4df6-c470-841d8c1cccfe",
    "id": "MW1IYq4NzCS9",
    "ExecuteTime": {
     "end_time": "2024-10-11T13:52:08.564063Z",
     "start_time": "2024-10-11T13:52:08.556122Z"
    }
   },
   "outputs": [
    {
     "name": "stdout",
     "output_type": "stream",
     "text": [
      "Исходное слово: [0 0 1 0 1 1 0 0 1 1 1]\n",
      "Закодированное слово: [0 0 1 0 1 1 0 0 1 1 1 1 1 0 0]\n",
      "Ошибка: [0 0 0 0 0 0 0 0 0 0 1 0 0 0 0]\n",
      "Принятое слово с ошибкой: [0 0 1 0 1 1 0 0 1 1 0 1 1 0 0]\n",
      "Синдром: [0 0 1 1]\n",
      "Ошибка обнаружена.\n",
      "Сообщение после исправления: [0 0 1 0 1 1 0 0 1 1 1 1 1 0 0]\n",
      "Ошибка успешно исправлена!\n"
     ]
    }
   ],
   "execution_count": 19
  },
  {
   "cell_type": "markdown",
   "source": [
    "Код успешно нашел ошибку и исправил ее"
   ],
   "metadata": {
    "id": "3wg6tPV6zCS9"
   }
  },
  {
   "cell_type": "markdown",
   "source": [
    "## Проведем исследование кода Хэмминга для ошибки кратности 2"
   ],
   "metadata": {
    "id": "nNTE5DvRzCS9"
   }
  },
  {
   "cell_type": "code",
   "source": [
    "hamming_correction_test(G, H, syndrome_table, 2, np.array([0, 0, 1, 0, 1, 1, 0, 0, 1, 1, 1]))"
   ],
   "metadata": {
    "colab": {
     "base_uri": "https://localhost:8080/"
    },
    "outputId": "294e479c-f8d9-427f-f6c9-6e0f87c4c35a",
    "id": "dfferGB1zCS9",
    "ExecuteTime": {
     "end_time": "2024-10-11T13:52:08.739456Z",
     "start_time": "2024-10-11T13:52:08.733234Z"
    }
   },
   "outputs": [
    {
     "name": "stdout",
     "output_type": "stream",
     "text": [
      "Исходное слово: [0 0 1 0 1 1 0 0 1 1 1]\n",
      "Закодированное слово: [0 0 1 0 1 1 0 0 1 1 1 1 1 0 0]\n",
      "Ошибка: [0 0 0 0 0 0 0 0 0 0 1 0 1 0 0]\n",
      "Принятое слово с ошибкой: [0 0 1 0 1 1 0 0 1 1 0 1 0 0 0]\n",
      "Синдром: [0 1 1 1]\n",
      "Ошибка обнаружена.\n",
      "Сообщение после исправления: [0 0 1 0 1 1 0 1 1 1 0 1 0 0 0]\n",
      "Ошибка не была полностью исправлена.\n"
     ]
    }
   ],
   "execution_count": 20
  },
  {
   "cell_type": "markdown",
   "source": "Код смог обнаружить ошибку, но не смог ее исправить",
   "metadata": {
    "id": "eUA4WyrYzCS9"
   }
  },
  {
   "cell_type": "markdown",
   "source": [
    "## Проведем исследование кода Хэмминга для ошибки кратности 3"
   ],
   "metadata": {
    "id": "PUR-Oa4CzCS9"
   }
  },
  {
   "cell_type": "code",
   "source": [
    "hamming_correction_test(G, H, syndrome_table, 3, np.array([0, 0, 1, 0, 1, 1, 0, 0, 1, 1, 1]))"
   ],
   "metadata": {
    "colab": {
     "base_uri": "https://localhost:8080/"
    },
    "outputId": "41e6e5dc-824e-43e8-a3a5-f87b45b72486",
    "id": "ri11LPSTzCS-",
    "ExecuteTime": {
     "end_time": "2024-10-11T13:52:08.907575Z",
     "start_time": "2024-10-11T13:52:08.900714Z"
    }
   },
   "outputs": [
    {
     "name": "stdout",
     "output_type": "stream",
     "text": [
      "Исходное слово: [0 0 1 0 1 1 0 0 1 1 1]\n",
      "Закодированное слово: [0 0 1 0 1 1 0 0 1 1 1 1 1 0 0]\n",
      "Ошибка: [0 0 0 0 0 0 0 0 1 1 0 0 0 1 0]\n",
      "Принятое слово с ошибкой: [0 0 1 0 1 1 0 0 0 0 1 1 1 1 0]\n",
      "Синдром: [0 0 0 1]\n",
      "Ошибка обнаружена.\n",
      "Сообщение после исправления: [0 0 1 0 1 1 0 0 0 0 1 1 1 1 1]\n",
      "Ошибка не была полностью исправлена.\n"
     ]
    }
   ],
   "execution_count": 21
  },
  {
   "cell_type": "markdown",
   "source": "Код смог обнаружить ошибку, но не смог ее исправить",
   "metadata": {
    "id": "UK6XdamAzCS-"
   }
  },
  {
   "cell_type": "markdown",
   "source": [
    "# Написать функцию формирования порождающей и проверочной матриц расширенного кода Хэмминга на основе параметра r, а также таблицы синдромов для всех однократных ошибок"
   ],
   "metadata": {
    "id": "9gQvM_KbzjUZ"
   }
  },
  {
   "cell_type": "code",
   "source": [
    "# Возьмем r = 3\n",
    "r = 2\n",
    "H = generate_hamming_h_matrix(r)\n",
    "H_exp = np.vstack((H, np.array([0] * H.shape[1])))\n",
    "H_exp = np.hstack((H_exp, np.array([[1] * H_exp.shape[0]]).T))\n",
    "H_exp"
   ],
   "metadata": {
    "colab": {
     "base_uri": "https://localhost:8080/"
    },
    "id": "VjwpME8vzrdv",
    "outputId": "82efefa2-7dff-4760-81a3-2e0423aa365f",
    "ExecuteTime": {
     "end_time": "2024-10-11T13:52:09.098989Z",
     "start_time": "2024-10-11T13:52:09.090249Z"
    }
   },
   "outputs": [
    {
     "data": {
      "text/plain": [
       "array([[1, 1, 1],\n",
       "       [1, 0, 1],\n",
       "       [0, 1, 1],\n",
       "       [0, 0, 1]])"
      ]
     },
     "execution_count": 22,
     "metadata": {},
     "output_type": "execute_result"
    }
   ],
   "execution_count": 22
  },
  {
   "cell_type": "code",
   "source": [
    "# Функция для параждающей матрицы\n",
    "def expand_G_matrix(G: np.ndarray) -> np.ndarray:\n",
    "    col = np.zeros((G.shape[0], 1), dtype=int)\n",
    "    for i in range(G.shape[0]):\n",
    "        if sum(G[i]) % 2 == 1:\n",
    "            col[i] = 1\n",
    "    return np.hstack((G, col))\n",
    "\n",
    "\n",
    "# Построим\n",
    "G = H_to_G(H, r)\n",
    "G_exp = expand_G_matrix(G)\n",
    "G_exp"
   ],
   "metadata": {
    "colab": {
     "base_uri": "https://localhost:8080/"
    },
    "id": "7jfXrKIrz8JM",
    "outputId": "3b3be510-1b81-4057-de28-7ee007837c79",
    "ExecuteTime": {
     "end_time": "2024-10-11T13:52:09.272948Z",
     "start_time": "2024-10-11T13:52:09.260754Z"
    }
   },
   "outputs": [
    {
     "data": {
      "text/plain": [
       "array([[1, 1, 1, 1]])"
      ]
     },
     "execution_count": 23,
     "metadata": {},
     "output_type": "execute_result"
    }
   ],
   "execution_count": 23
  },
  {
   "cell_type": "code",
   "source": [
    "# Таблица синдромов\n",
    "syndrome_table = generate_syndrome_table(H_exp, 1)\n",
    "syndrome_table"
   ],
   "metadata": {
    "colab": {
     "base_uri": "https://localhost:8080/"
    },
    "id": "_pDCgHgh0Pa_",
    "outputId": "5b8b73de-e431-4204-91bf-a26037c1debf",
    "ExecuteTime": {
     "end_time": "2024-10-11T13:52:09.371848Z",
     "start_time": "2024-10-11T13:52:09.359881Z"
    }
   },
   "outputs": [
    {
     "data": {
      "text/plain": [
       "{(1, 1, 1): (0,), (1, 0, 1): (1,), (0, 1, 1): (2,), (0, 0, 1): (3,)}"
      ]
     },
     "execution_count": 24,
     "metadata": {},
     "output_type": "execute_result"
    }
   ],
   "execution_count": 24
  },
  {
   "cell_type": "markdown",
   "source": [
    "# Провести исследование расширенного кода Хэмминга для одно-, двух-, трёх- и четырёхкратных ошибок для r = 2, 3, 4"
   ],
   "metadata": {
    "id": "AIwGEse20V86"
   }
  },
  {
   "cell_type": "code",
   "source": [
    "hamming_correction_test(G_exp, H_exp, syndrome_table, 1, np.array([1]))"
   ],
   "metadata": {
    "colab": {
     "base_uri": "https://localhost:8080/"
    },
    "id": "JyT6Eli30ddY",
    "outputId": "04c4a0c6-0ba8-4319-ee79-eb7333cec82e",
    "ExecuteTime": {
     "end_time": "2024-10-11T13:52:09.602892Z",
     "start_time": "2024-10-11T13:52:09.597563Z"
    }
   },
   "outputs": [
    {
     "name": "stdout",
     "output_type": "stream",
     "text": [
      "Исходное слово: [1]\n",
      "Закодированное слово: [1 1 1 1]\n",
      "Ошибка: [0 0 1 0]\n",
      "Принятое слово с ошибкой: [1 1 0 1]\n",
      "Синдром: [0 1 1]\n",
      "Ошибка обнаружена.\n",
      "Сообщение после исправления: [1 1 1 1]\n",
      "Ошибка успешно исправлена!\n"
     ]
    }
   ],
   "execution_count": 25
  },
  {
   "cell_type": "code",
   "source": [
    "hamming_correction_test(G_exp, H_exp, syndrome_table, 2, np.array([1]))"
   ],
   "metadata": {
    "colab": {
     "base_uri": "https://localhost:8080/"
    },
    "id": "bWEvdQHp0gri",
    "outputId": "563313ba-2667-49bd-c380-92eb2c919049",
    "ExecuteTime": {
     "end_time": "2024-10-11T13:52:09.762265Z",
     "start_time": "2024-10-11T13:52:09.755445Z"
    }
   },
   "outputs": [
    {
     "name": "stdout",
     "output_type": "stream",
     "text": [
      "Исходное слово: [1]\n",
      "Закодированное слово: [1 1 1 1]\n",
      "Ошибка: [0 1 1 0]\n",
      "Принятое слово с ошибкой: [1 0 0 1]\n",
      "Синдром: [1 1 0]\n",
      "Ошибка обнаружена.\n",
      "Синдром отсутствует в таблице, ошибка не исправлена.\n"
     ]
    }
   ],
   "execution_count": 26
  },
  {
   "cell_type": "code",
   "source": [
    "hamming_correction_test(G_exp, H_exp, syndrome_table, 3, np.array([1]))"
   ],
   "metadata": {
    "colab": {
     "base_uri": "https://localhost:8080/"
    },
    "id": "IwOFu4RW0inN",
    "outputId": "125be3fc-1486-4e7f-a5bb-5cbf42596b7a",
    "ExecuteTime": {
     "end_time": "2024-10-11T13:52:09.902565Z",
     "start_time": "2024-10-11T13:52:09.895053Z"
    }
   },
   "outputs": [
    {
     "name": "stdout",
     "output_type": "stream",
     "text": [
      "Исходное слово: [1]\n",
      "Закодированное слово: [1 1 1 1]\n",
      "Ошибка: [0 1 1 1]\n",
      "Принятое слово с ошибкой: [1 0 0 0]\n",
      "Синдром: [1 1 1]\n",
      "Ошибка обнаружена.\n",
      "Сообщение после исправления: [0 0 0 0]\n",
      "Ошибка не была полностью исправлена.\n"
     ]
    }
   ],
   "execution_count": 27
  },
  {
   "cell_type": "code",
   "source": [
    "r = 3\n",
    "H = generate_hamming_h_matrix(r)\n",
    "H_exp = np.vstack((H, np.array([0] * H.shape[1])))\n",
    "H_exp = np.hstack((H_exp, np.array([[1] * H_exp.shape[0]]).T))\n",
    "H_exp"
   ],
   "metadata": {
    "colab": {
     "base_uri": "https://localhost:8080/"
    },
    "id": "Lj_awlbH0lEE",
    "outputId": "2f118070-658a-4a8e-ca52-e27c2a5ad8f0",
    "ExecuteTime": {
     "end_time": "2024-10-11T13:52:10.034679Z",
     "start_time": "2024-10-11T13:52:10.024773Z"
    }
   },
   "outputs": [
    {
     "data": {
      "text/plain": [
       "array([[1, 1, 1, 1],\n",
       "       [1, 1, 0, 1],\n",
       "       [1, 0, 1, 1],\n",
       "       [0, 1, 1, 1],\n",
       "       [1, 0, 0, 1],\n",
       "       [0, 1, 0, 1],\n",
       "       [0, 0, 1, 1],\n",
       "       [0, 0, 0, 1]])"
      ]
     },
     "execution_count": 28,
     "metadata": {},
     "output_type": "execute_result"
    }
   ],
   "execution_count": 28
  },
  {
   "cell_type": "code",
   "source": [
    "G = H_to_G(H, r)\n",
    "G_exp = expand_G_matrix(G)\n",
    "G_exp"
   ],
   "metadata": {
    "colab": {
     "base_uri": "https://localhost:8080/"
    },
    "id": "u02duJE40lgu",
    "outputId": "7e8bb983-4106-47ce-954a-ab91a36e055f",
    "ExecuteTime": {
     "end_time": "2024-10-11T13:52:10.154527Z",
     "start_time": "2024-10-11T13:52:10.146715Z"
    }
   },
   "outputs": [
    {
     "data": {
      "text/plain": [
       "array([[1, 0, 0, 0, 1, 1, 1, 0],\n",
       "       [0, 1, 0, 0, 1, 1, 0, 1],\n",
       "       [0, 0, 1, 0, 1, 0, 1, 1],\n",
       "       [0, 0, 0, 1, 0, 1, 1, 1]])"
      ]
     },
     "execution_count": 29,
     "metadata": {},
     "output_type": "execute_result"
    }
   ],
   "execution_count": 29
  },
  {
   "cell_type": "code",
   "source": [
    "syndrome_table = generate_syndrome_table(H_exp, 1)\n",
    "syndrome_table"
   ],
   "metadata": {
    "colab": {
     "base_uri": "https://localhost:8080/"
    },
    "id": "hBbPxMOP0nvq",
    "outputId": "8a79e2ab-5960-4afd-eb91-0033fc87815d",
    "ExecuteTime": {
     "end_time": "2024-10-11T13:52:10.285276Z",
     "start_time": "2024-10-11T13:52:10.274847Z"
    }
   },
   "outputs": [
    {
     "data": {
      "text/plain": [
       "{(1, 1, 1, 1): (0,),\n",
       " (1, 1, 0, 1): (1,),\n",
       " (1, 0, 1, 1): (2,),\n",
       " (0, 1, 1, 1): (3,),\n",
       " (1, 0, 0, 1): (4,),\n",
       " (0, 1, 0, 1): (5,),\n",
       " (0, 0, 1, 1): (6,),\n",
       " (0, 0, 0, 1): (7,)}"
      ]
     },
     "execution_count": 30,
     "metadata": {},
     "output_type": "execute_result"
    }
   ],
   "execution_count": 30
  },
  {
   "cell_type": "code",
   "source": [
    "hamming_correction_test(G_exp, H_exp, syndrome_table, 1, np.array([1, 0, 1, 0]))"
   ],
   "metadata": {
    "colab": {
     "base_uri": "https://localhost:8080/"
    },
    "id": "qI93lgyR0o6U",
    "outputId": "7f7624ec-1d33-4495-aa20-940b059566cc",
    "ExecuteTime": {
     "end_time": "2024-10-11T13:52:10.520088Z",
     "start_time": "2024-10-11T13:52:10.511592Z"
    }
   },
   "outputs": [
    {
     "name": "stdout",
     "output_type": "stream",
     "text": [
      "Исходное слово: [1 0 1 0]\n",
      "Закодированное слово: [1 0 1 0 0 1 0 1]\n",
      "Ошибка: [0 0 0 0 1 0 0 0]\n",
      "Принятое слово с ошибкой: [1 0 1 0 1 1 0 1]\n",
      "Синдром: [1 0 0 1]\n",
      "Ошибка обнаружена.\n",
      "Сообщение после исправления: [1 0 1 0 0 1 0 1]\n",
      "Ошибка успешно исправлена!\n"
     ]
    }
   ],
   "execution_count": 31
  },
  {
   "cell_type": "code",
   "source": [
    "hamming_correction_test(G_exp, H_exp, syndrome_table, 2, np.array([1, 0, 1, 0]))"
   ],
   "metadata": {
    "colab": {
     "base_uri": "https://localhost:8080/"
    },
    "id": "gkbNI58Z0qBN",
    "outputId": "4eb0cd8b-814e-482b-a453-6bf6a2460630",
    "ExecuteTime": {
     "end_time": "2024-10-11T13:52:10.676204Z",
     "start_time": "2024-10-11T13:52:10.669681Z"
    }
   },
   "outputs": [
    {
     "name": "stdout",
     "output_type": "stream",
     "text": [
      "Исходное слово: [1 0 1 0]\n",
      "Закодированное слово: [1 0 1 0 0 1 0 1]\n",
      "Ошибка: [0 1 0 0 1 0 0 0]\n",
      "Принятое слово с ошибкой: [1 1 1 0 1 1 0 1]\n",
      "Синдром: [0 1 0 0]\n",
      "Ошибка обнаружена.\n",
      "Синдром отсутствует в таблице, ошибка не исправлена.\n"
     ]
    }
   ],
   "execution_count": 32
  },
  {
   "cell_type": "code",
   "source": [
    "hamming_correction_test(G_exp, H_exp, syndrome_table, 3, np.array([1, 0, 1, 0]))"
   ],
   "metadata": {
    "colab": {
     "base_uri": "https://localhost:8080/"
    },
    "id": "T8_SM-UK0rJY",
    "outputId": "89e12045-df3a-4f2f-daab-705b7b715931",
    "ExecuteTime": {
     "end_time": "2024-10-11T13:52:10.843186Z",
     "start_time": "2024-10-11T13:52:10.834977Z"
    }
   },
   "outputs": [
    {
     "name": "stdout",
     "output_type": "stream",
     "text": [
      "Исходное слово: [1 0 1 0]\n",
      "Закодированное слово: [1 0 1 0 0 1 0 1]\n",
      "Ошибка: [1 1 0 0 0 1 0 0]\n",
      "Принятое слово с ошибкой: [0 1 1 0 0 0 0 1]\n",
      "Синдром: [0 1 1 1]\n",
      "Ошибка обнаружена.\n",
      "Сообщение после исправления: [0 1 1 1 0 0 0 1]\n",
      "Ошибка не была полностью исправлена.\n"
     ]
    }
   ],
   "execution_count": 33
  },
  {
   "cell_type": "code",
   "source": [
    "r = 4\n",
    "H = generate_hamming_h_matrix(r)\n",
    "H_exp = np.vstack((H, np.array([0] * H.shape[1])))\n",
    "H_exp = np.hstack((H_exp, np.array([[1] * H_exp.shape[0]]).T))\n",
    "H_exp"
   ],
   "metadata": {
    "colab": {
     "base_uri": "https://localhost:8080/"
    },
    "id": "DzdlRIV20smp",
    "outputId": "f2fa3016-431c-457b-d935-5235343fc50a",
    "ExecuteTime": {
     "end_time": "2024-10-11T13:52:10.966257Z",
     "start_time": "2024-10-11T13:52:10.958240Z"
    }
   },
   "outputs": [
    {
     "data": {
      "text/plain": [
       "array([[1, 1, 1, 1, 1],\n",
       "       [1, 1, 1, 0, 1],\n",
       "       [1, 1, 0, 1, 1],\n",
       "       [1, 1, 0, 0, 1],\n",
       "       [1, 0, 1, 1, 1],\n",
       "       [1, 0, 1, 0, 1],\n",
       "       [1, 0, 0, 1, 1],\n",
       "       [0, 1, 1, 1, 1],\n",
       "       [0, 1, 1, 0, 1],\n",
       "       [0, 1, 0, 1, 1],\n",
       "       [0, 0, 1, 1, 1],\n",
       "       [1, 0, 0, 0, 1],\n",
       "       [0, 1, 0, 0, 1],\n",
       "       [0, 0, 1, 0, 1],\n",
       "       [0, 0, 0, 1, 1],\n",
       "       [0, 0, 0, 0, 1]])"
      ]
     },
     "execution_count": 34,
     "metadata": {},
     "output_type": "execute_result"
    }
   ],
   "execution_count": 34
  },
  {
   "cell_type": "code",
   "source": [
    "G = H_to_G(H, r)\n",
    "G_exp = expand_G_matrix(G)\n",
    "G_exp"
   ],
   "metadata": {
    "colab": {
     "base_uri": "https://localhost:8080/"
    },
    "id": "uEpzXU090uIA",
    "outputId": "3ee69b68-d7b1-45cb-ee11-cdb218549c55",
    "ExecuteTime": {
     "end_time": "2024-10-11T13:52:11.136157Z",
     "start_time": "2024-10-11T13:52:11.127215Z"
    }
   },
   "outputs": [
    {
     "data": {
      "text/plain": [
       "array([[1, 0, 0, 0, 0, 0, 0, 0, 0, 0, 0, 1, 1, 1, 1, 1],\n",
       "       [0, 1, 0, 0, 0, 0, 0, 0, 0, 0, 0, 1, 1, 1, 0, 0],\n",
       "       [0, 0, 1, 0, 0, 0, 0, 0, 0, 0, 0, 1, 1, 0, 1, 0],\n",
       "       [0, 0, 0, 1, 0, 0, 0, 0, 0, 0, 0, 1, 1, 0, 0, 1],\n",
       "       [0, 0, 0, 0, 1, 0, 0, 0, 0, 0, 0, 1, 0, 1, 1, 0],\n",
       "       [0, 0, 0, 0, 0, 1, 0, 0, 0, 0, 0, 1, 0, 1, 0, 1],\n",
       "       [0, 0, 0, 0, 0, 0, 1, 0, 0, 0, 0, 1, 0, 0, 1, 1],\n",
       "       [0, 0, 0, 0, 0, 0, 0, 1, 0, 0, 0, 0, 1, 1, 1, 0],\n",
       "       [0, 0, 0, 0, 0, 0, 0, 0, 1, 0, 0, 0, 1, 1, 0, 1],\n",
       "       [0, 0, 0, 0, 0, 0, 0, 0, 0, 1, 0, 0, 1, 0, 1, 1],\n",
       "       [0, 0, 0, 0, 0, 0, 0, 0, 0, 0, 1, 0, 0, 1, 1, 1]])"
      ]
     },
     "execution_count": 35,
     "metadata": {},
     "output_type": "execute_result"
    }
   ],
   "execution_count": 35
  },
  {
   "cell_type": "code",
   "source": [
    "syndrome_table = generate_syndrome_table(H_exp, 1)\n",
    "syndrome_table"
   ],
   "metadata": {
    "colab": {
     "base_uri": "https://localhost:8080/"
    },
    "id": "DySFB9rP0vZZ",
    "outputId": "b99260c1-217c-43cc-dc35-8bcdb46f7303",
    "ExecuteTime": {
     "end_time": "2024-10-11T13:52:11.244372Z",
     "start_time": "2024-10-11T13:52:11.236796Z"
    }
   },
   "outputs": [
    {
     "data": {
      "text/plain": [
       "{(1, 1, 1, 1, 1): (0,),\n",
       " (1, 1, 1, 0, 1): (1,),\n",
       " (1, 1, 0, 1, 1): (2,),\n",
       " (1, 1, 0, 0, 1): (3,),\n",
       " (1, 0, 1, 1, 1): (4,),\n",
       " (1, 0, 1, 0, 1): (5,),\n",
       " (1, 0, 0, 1, 1): (6,),\n",
       " (0, 1, 1, 1, 1): (7,),\n",
       " (0, 1, 1, 0, 1): (8,),\n",
       " (0, 1, 0, 1, 1): (9,),\n",
       " (0, 0, 1, 1, 1): (10,),\n",
       " (1, 0, 0, 0, 1): (11,),\n",
       " (0, 1, 0, 0, 1): (12,),\n",
       " (0, 0, 1, 0, 1): (13,),\n",
       " (0, 0, 0, 1, 1): (14,),\n",
       " (0, 0, 0, 0, 1): (15,)}"
      ]
     },
     "execution_count": 36,
     "metadata": {},
     "output_type": "execute_result"
    }
   ],
   "execution_count": 36
  },
  {
   "cell_type": "code",
   "source": [
    "hamming_correction_test(G_exp, H_exp, syndrome_table, 1, np.array([1, 0, 0, 1, 1, 1, 1, 0, 1, 1,0]))"
   ],
   "metadata": {
    "colab": {
     "base_uri": "https://localhost:8080/"
    },
    "id": "19ZCMPJz0w8N",
    "outputId": "af7de399-a63a-4fb1-d1de-ecb7d04f1b46",
    "ExecuteTime": {
     "end_time": "2024-10-11T13:52:11.397616Z",
     "start_time": "2024-10-11T13:52:11.389751Z"
    }
   },
   "outputs": [
    {
     "name": "stdout",
     "output_type": "stream",
     "text": [
      "Исходное слово: [1 0 0 1 1 1 1 0 1 1 0]\n",
      "Закодированное слово: [1 0 0 1 1 1 1 0 1 1 0 1 0 0 0 0]\n",
      "Ошибка: [0 0 0 0 0 0 0 0 0 0 0 1 0 0 0 0]\n",
      "Принятое слово с ошибкой: [1 0 0 1 1 1 1 0 1 1 0 0 0 0 0 0]\n",
      "Синдром: [1 0 0 0 1]\n",
      "Ошибка обнаружена.\n",
      "Сообщение после исправления: [1 0 0 1 1 1 1 0 1 1 0 1 0 0 0 0]\n",
      "Ошибка успешно исправлена!\n"
     ]
    }
   ],
   "execution_count": 37
  },
  {
   "cell_type": "code",
   "source": [
    "hamming_correction_test(G_exp, H_exp, syndrome_table, 2, np.array([1, 0, 0, 1, 1, 1, 1, 0, 1, 1,0]))"
   ],
   "metadata": {
    "colab": {
     "base_uri": "https://localhost:8080/"
    },
    "id": "Ifr9iHX50zx9",
    "outputId": "7783c267-e34b-46dc-b7f3-e35ed138cbf5",
    "ExecuteTime": {
     "end_time": "2024-10-11T13:52:11.576178Z",
     "start_time": "2024-10-11T13:52:11.568624Z"
    }
   },
   "outputs": [
    {
     "name": "stdout",
     "output_type": "stream",
     "text": [
      "Исходное слово: [1 0 0 1 1 1 1 0 1 1 0]\n",
      "Закодированное слово: [1 0 0 1 1 1 1 0 1 1 0 1 0 0 0 0]\n",
      "Ошибка: [0 1 0 0 0 0 1 0 0 0 0 0 0 0 0 0]\n",
      "Принятое слово с ошибкой: [1 1 0 1 1 1 0 0 1 1 0 1 0 0 0 0]\n",
      "Синдром: [0 1 1 1 0]\n",
      "Ошибка обнаружена.\n",
      "Синдром отсутствует в таблице, ошибка не исправлена.\n"
     ]
    }
   ],
   "execution_count": 38
  },
  {
   "cell_type": "code",
   "source": [
    "hamming_correction_test(G_exp, H_exp, syndrome_table, 3, np.array([1, 0, 0, 1, 1, 1, 1, 0, 1, 1,0]))"
   ],
   "metadata": {
    "colab": {
     "base_uri": "https://localhost:8080/"
    },
    "id": "hYBsB-AD02Id",
    "outputId": "fdc43e0f-59e8-40ca-a752-3678b5ba53c0",
    "ExecuteTime": {
     "end_time": "2024-10-11T13:52:11.928408Z",
     "start_time": "2024-10-11T13:52:11.921025Z"
    }
   },
   "outputs": [
    {
     "name": "stdout",
     "output_type": "stream",
     "text": [
      "Исходное слово: [1 0 0 1 1 1 1 0 1 1 0]\n",
      "Закодированное слово: [1 0 0 1 1 1 1 0 1 1 0 1 0 0 0 0]\n",
      "Ошибка: [1 0 0 0 0 0 0 0 0 1 0 0 0 0 0 1]\n",
      "Принятое слово с ошибкой: [0 0 0 1 1 1 1 0 1 0 0 1 0 0 0 1]\n",
      "Синдром: [1 0 1 0 1]\n",
      "Ошибка обнаружена.\n",
      "Сообщение после исправления: [0 0 0 1 1 0 1 0 1 0 0 1 0 0 0 1]\n",
      "Ошибка не была полностью исправлена.\n"
     ]
    }
   ],
   "execution_count": 39
  },
  {
   "cell_type": "markdown",
   "source": [
    "## Получили результаты аналогичные для всех r. Расширенный код Хэмминга позволяет исправлять однократные ошибки и обнаруживать двухкратные одновременно."
   ],
   "metadata": {
    "id": "-WL2G2KQ0_cE"
   }
  }
 ]
}
